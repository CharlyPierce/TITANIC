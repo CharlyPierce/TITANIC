{
  "nbformat": 4,
  "nbformat_minor": 0,
  "metadata": {
    "colab": {
      "provenance": []
    },
    "kernelspec": {
      "name": "python3",
      "display_name": "Python 3"
    },
    "language_info": {
      "name": "python"
    }
  },
  "cells": [
    {
      "cell_type": "markdown",
      "source": [
        "**Preparación: Descargando el conjunto de datos del Titanic**\n",
        "\n",
        "El objetivo de este notebook es desarrollar un modelo que prediga quién sobrevivirá en el desastre del Titanic. Para hacer esto, empezaremos descargando el conjunto de datos del Titanic utilizando la API de Kaggle.\n",
        "\n",
        "1. **Instalación de la API de Kaggle**:\n",
        "\n",
        "    Primero, necesitamos instalar la biblioteca de la API de Kaggle. Esta biblioteca nos permitirá interactuar con Kaggle y descargar conjuntos de datos directamente en este notebook.\n",
        "\n",
        "    Instala la biblioteca ejecutando la siguiente celda:\n",
        "    ```python\n",
        "    !pip install kaggle\n",
        "    ```\n",
        "\n",
        "    Puedes encontrar más detalles sobre cómo utilizar la API de Kaggle en su [documentación oficial](https://www.kaggle.com/docs/api).\n",
        "\n",
        "2. **Descarga del conjunto de datos**:\n",
        "\n",
        "    Con la biblioteca instalada, podemos proceder a descargar el conjunto de datos del Titanic. Ejecuta el siguiente comando en una celda:\n",
        "\n",
        "    ```python\n",
        "    !kaggle competitions download -c titanic\n",
        "    ```\n",
        "\n",
        "    Si deseas explorar más sobre este conjunto de datos, visita la [página de la competencia del Titanic en Kaggle](https://www.kaggle.com/competitions/titanic/data).\n"
      ],
      "metadata": {
        "id": "ejVkXnUVA-zq"
      }
    },
    {
      "cell_type": "code",
      "source": [
        "!pip install kaggle -q  #-q para no mostrar la salida"
      ],
      "metadata": {
        "id": "hQauuqFMbS3f"
      },
      "execution_count": 1,
      "outputs": []
    },
    {
      "cell_type": "code",
      "source": [
        "!mkdir /root/.kaggle/"
      ],
      "metadata": {
        "id": "ugI9tIQYuqxS"
      },
      "execution_count": 2,
      "outputs": []
    },
    {
      "cell_type": "markdown",
      "source": [
        "Descargamos el [kaggle.json](https://www.kaggle.com/settings)"
      ],
      "metadata": {
        "id": "CDO3BOiLuFha"
      }
    },
    {
      "cell_type": "code",
      "source": [
        "!mv kaggle.json /root/.kaggle/"
      ],
      "metadata": {
        "id": "qNxL1ei7bPgj"
      },
      "execution_count": 3,
      "outputs": []
    },
    {
      "cell_type": "code",
      "source": [
        "#Nos recomienda poner permisos de Lectura y Escritura al archivo .json para el propietario por seguridad.\n",
        "!chmod 600 /root/.kaggle/kaggle.json"
      ],
      "metadata": {
        "id": "Sjkg4OsQljO4"
      },
      "execution_count": 4,
      "outputs": []
    },
    {
      "cell_type": "code",
      "source": [
        "#Nos descargará un .zip\n",
        "!kaggle competitions download -c titanic"
      ],
      "metadata": {
        "id": "OyJR4EjhbfA8",
        "outputId": "93b589d7-1777-4ddc-a7b6-58f46bee1219",
        "colab": {
          "base_uri": "https://localhost:8080/"
        }
      },
      "execution_count": 5,
      "outputs": [
        {
          "output_type": "stream",
          "name": "stdout",
          "text": [
            "Downloading titanic.zip to /content\n",
            "\r  0% 0.00/34.1k [00:00<?, ?B/s]\n",
            "\r100% 34.1k/34.1k [00:00<00:00, 42.0MB/s]\n"
          ]
        }
      ]
    },
    {
      "cell_type": "code",
      "source": [
        "#creamos una carpeta y descomprimimos dentro los archivos\n",
        "!mkdir titanic\n",
        "!unzip titanic.zip -d ./titanic"
      ],
      "metadata": {
        "colab": {
          "base_uri": "https://localhost:8080/"
        },
        "id": "vyn4a5Wsmiuz",
        "outputId": "fcde95d2-95e3-4dd9-b42f-a941b4f74f2d"
      },
      "execution_count": 6,
      "outputs": [
        {
          "output_type": "stream",
          "name": "stdout",
          "text": [
            "Archive:  titanic.zip\n",
            "  inflating: ./titanic/gender_submission.csv  \n",
            "  inflating: ./titanic/test.csv      \n",
            "  inflating: ./titanic/train.csv     \n"
          ]
        }
      ]
    },
    {
      "cell_type": "code",
      "source": [
        "#Listamos los archivos descomprimidos.\n",
        "!ls ./titanic"
      ],
      "metadata": {
        "id": "N-1BJcE7bViZ",
        "colab": {
          "base_uri": "https://localhost:8080/"
        },
        "outputId": "b7ade2e9-bfba-40ff-ece4-d20009b714f7"
      },
      "execution_count": 7,
      "outputs": [
        {
          "output_type": "stream",
          "name": "stdout",
          "text": [
            "gender_submission.csv  test.csv  train.csv\n"
          ]
        }
      ]
    },
    {
      "cell_type": "markdown",
      "source": [
        "En esta sección, utilizaremos herramientas como Pandas y NumPy para trabajar con nuestros datos."
      ],
      "metadata": {
        "id": "2jD_m78IoNCJ"
      }
    },
    {
      "cell_type": "code",
      "source": [
        "import pandas as pd\n",
        "from sklearn.preprocessing import OneHotEncoder\n",
        "import numpy as np\n",
        "ds = pd.read_csv(\"./titanic/train.csv\")"
      ],
      "metadata": {
        "id": "ugSDstk4mgJi"
      },
      "execution_count": 22,
      "outputs": []
    },
    {
      "cell_type": "code",
      "source": [
        "ds.shape   #Vemos que estamos manejando una cantidad muy pequena de datos, 418 filas y 11 columnas."
      ],
      "metadata": {
        "colab": {
          "base_uri": "https://localhost:8080/"
        },
        "id": "Viy9aNH1mULk",
        "outputId": "56fda458-1c46-47df-ab5d-8ebc9e2a62e0"
      },
      "execution_count": 9,
      "outputs": [
        {
          "output_type": "execute_result",
          "data": {
            "text/plain": [
              "(891, 12)"
            ]
          },
          "metadata": {},
          "execution_count": 9
        }
      ]
    },
    {
      "cell_type": "code",
      "source": [
        "ds.head(1)"
      ],
      "metadata": {
        "colab": {
          "base_uri": "https://localhost:8080/",
          "height": 81
        },
        "id": "sX40cG9jmAp8",
        "outputId": "08aa8729-1d18-41ab-bbe7-7c48ddfc213f"
      },
      "execution_count": 11,
      "outputs": [
        {
          "output_type": "execute_result",
          "data": {
            "text/plain": [
              "   PassengerId  Survived  Pclass                     Name   Sex   Age  SibSp  \\\n",
              "0            1         0       3  Braund, Mr. Owen Harris  male  22.0      1   \n",
              "\n",
              "   Parch     Ticket  Fare Cabin Embarked  \n",
              "0      0  A/5 21171  7.25   NaN        S  "
            ],
            "text/html": [
              "\n",
              "  <div id=\"df-896d0459-f5d5-4029-97be-9cd964035094\" class=\"colab-df-container\">\n",
              "    <div>\n",
              "<style scoped>\n",
              "    .dataframe tbody tr th:only-of-type {\n",
              "        vertical-align: middle;\n",
              "    }\n",
              "\n",
              "    .dataframe tbody tr th {\n",
              "        vertical-align: top;\n",
              "    }\n",
              "\n",
              "    .dataframe thead th {\n",
              "        text-align: right;\n",
              "    }\n",
              "</style>\n",
              "<table border=\"1\" class=\"dataframe\">\n",
              "  <thead>\n",
              "    <tr style=\"text-align: right;\">\n",
              "      <th></th>\n",
              "      <th>PassengerId</th>\n",
              "      <th>Survived</th>\n",
              "      <th>Pclass</th>\n",
              "      <th>Name</th>\n",
              "      <th>Sex</th>\n",
              "      <th>Age</th>\n",
              "      <th>SibSp</th>\n",
              "      <th>Parch</th>\n",
              "      <th>Ticket</th>\n",
              "      <th>Fare</th>\n",
              "      <th>Cabin</th>\n",
              "      <th>Embarked</th>\n",
              "    </tr>\n",
              "  </thead>\n",
              "  <tbody>\n",
              "    <tr>\n",
              "      <th>0</th>\n",
              "      <td>1</td>\n",
              "      <td>0</td>\n",
              "      <td>3</td>\n",
              "      <td>Braund, Mr. Owen Harris</td>\n",
              "      <td>male</td>\n",
              "      <td>22.0</td>\n",
              "      <td>1</td>\n",
              "      <td>0</td>\n",
              "      <td>A/5 21171</td>\n",
              "      <td>7.25</td>\n",
              "      <td>NaN</td>\n",
              "      <td>S</td>\n",
              "    </tr>\n",
              "  </tbody>\n",
              "</table>\n",
              "</div>\n",
              "    <div class=\"colab-df-buttons\">\n",
              "\n",
              "  <div class=\"colab-df-container\">\n",
              "    <button class=\"colab-df-convert\" onclick=\"convertToInteractive('df-896d0459-f5d5-4029-97be-9cd964035094')\"\n",
              "            title=\"Convert this dataframe to an interactive table.\"\n",
              "            style=\"display:none;\">\n",
              "\n",
              "  <svg xmlns=\"http://www.w3.org/2000/svg\" height=\"24px\" viewBox=\"0 -960 960 960\">\n",
              "    <path d=\"M120-120v-720h720v720H120Zm60-500h600v-160H180v160Zm220 220h160v-160H400v160Zm0 220h160v-160H400v160ZM180-400h160v-160H180v160Zm440 0h160v-160H620v160ZM180-180h160v-160H180v160Zm440 0h160v-160H620v160Z\"/>\n",
              "  </svg>\n",
              "    </button>\n",
              "\n",
              "  <style>\n",
              "    .colab-df-container {\n",
              "      display:flex;\n",
              "      gap: 12px;\n",
              "    }\n",
              "\n",
              "    .colab-df-convert {\n",
              "      background-color: #E8F0FE;\n",
              "      border: none;\n",
              "      border-radius: 50%;\n",
              "      cursor: pointer;\n",
              "      display: none;\n",
              "      fill: #1967D2;\n",
              "      height: 32px;\n",
              "      padding: 0 0 0 0;\n",
              "      width: 32px;\n",
              "    }\n",
              "\n",
              "    .colab-df-convert:hover {\n",
              "      background-color: #E2EBFA;\n",
              "      box-shadow: 0px 1px 2px rgba(60, 64, 67, 0.3), 0px 1px 3px 1px rgba(60, 64, 67, 0.15);\n",
              "      fill: #174EA6;\n",
              "    }\n",
              "\n",
              "    .colab-df-buttons div {\n",
              "      margin-bottom: 4px;\n",
              "    }\n",
              "\n",
              "    [theme=dark] .colab-df-convert {\n",
              "      background-color: #3B4455;\n",
              "      fill: #D2E3FC;\n",
              "    }\n",
              "\n",
              "    [theme=dark] .colab-df-convert:hover {\n",
              "      background-color: #434B5C;\n",
              "      box-shadow: 0px 1px 3px 1px rgba(0, 0, 0, 0.15);\n",
              "      filter: drop-shadow(0px 1px 2px rgba(0, 0, 0, 0.3));\n",
              "      fill: #FFFFFF;\n",
              "    }\n",
              "  </style>\n",
              "\n",
              "    <script>\n",
              "      const buttonEl =\n",
              "        document.querySelector('#df-896d0459-f5d5-4029-97be-9cd964035094 button.colab-df-convert');\n",
              "      buttonEl.style.display =\n",
              "        google.colab.kernel.accessAllowed ? 'block' : 'none';\n",
              "\n",
              "      async function convertToInteractive(key) {\n",
              "        const element = document.querySelector('#df-896d0459-f5d5-4029-97be-9cd964035094');\n",
              "        const dataTable =\n",
              "          await google.colab.kernel.invokeFunction('convertToInteractive',\n",
              "                                                    [key], {});\n",
              "        if (!dataTable) return;\n",
              "\n",
              "        const docLinkHtml = 'Like what you see? Visit the ' +\n",
              "          '<a target=\"_blank\" href=https://colab.research.google.com/notebooks/data_table.ipynb>data table notebook</a>'\n",
              "          + ' to learn more about interactive tables.';\n",
              "        element.innerHTML = '';\n",
              "        dataTable['output_type'] = 'display_data';\n",
              "        await google.colab.output.renderOutput(dataTable, element);\n",
              "        const docLink = document.createElement('div');\n",
              "        docLink.innerHTML = docLinkHtml;\n",
              "        element.appendChild(docLink);\n",
              "      }\n",
              "    </script>\n",
              "  </div>\n",
              "\n",
              "    </div>\n",
              "  </div>\n"
            ]
          },
          "metadata": {},
          "execution_count": 11
        }
      ]
    },
    {
      "cell_type": "markdown",
      "source": [
        "Al observar los datos, vemos que tenemos un \"PassengerID\". Aunque estos datos pueden asignarse sin relación alguna con las variables predictivas, prestaremos atención a su poder predictivo. Sin embargo, partimos de la idea de descartarlo, ya que en su mayoría, los ID no representan ningún valor predictivo, a menos que contengan información implícita, como una correlación del número de ID a la clase. Como no contamos con esa información, asumiremos que no tiene información implícita y, por lo tanto, lo consideraremos como una variable con poco poder de predicción.\n",
        "\n",
        "La \"Pclass\" nos indica la clase en la que se viaja, siendo 1 la más alta o de mayor poder adquisitivo, y 3 la más económica.\n",
        "\n",
        "Tenemos los \"Nombres\". A primera vista, podemos considerarlos como variables categóricas y pensar en alguna forma de representarlos. Realizar una codificación one-hot (OHE) no es recomendable, pero quizá sí segmentar por género. Sin embargo, como ese dato ya está indicado en otra variable y algunos nombres tienen un título como \"Mr.\", podría ser útil segmentar los nombres según quién contiene ese título y quién no.\n",
        "\n",
        "\"sibsp\": Número de hermanos/cónyuges a bordo del Titanic.\n",
        "\n",
        "\"Parch\": Número de padres/hijos a bordo del Titanic.\n",
        "\n",
        "\"Ticket\": Número de ticket.\n",
        "\n",
        "\"Fare\": Tarifa del pasajero, es decir, lo que pagó por el boleto.\n",
        "\n",
        "\"Cabin\": Número de cabina. Puede indicarnos en qué parte del barco se encontraban.\n",
        "\n",
        "\"Embarked\": Puerto de embarque. C = Cherburgo, Q = Queenstown, S = Southampton. Representa el lugar donde el pasajero subió al barco. Podríamos pensar en el tiempo en el barco puede ser un factor de predicción."
      ],
      "metadata": {
        "id": "WFQx1bLlsfDy"
      }
    },
    {
      "cell_type": "markdown",
      "source": [
        "## Aleatorización de Datos\n",
        "\n",
        "Antes de comenzar el proceso de entrenamiento, es esencial **aleatorizar** o hacer un *shuffle* de nuestros datos.\n",
        "\n",
        "### ¿Por qué es crucial aleatorizar los datos?\n",
        "\n",
        "Cuando los datos están ordenados y no se mezclan adecuadamente, pueden surgir problemas al dividirlos para entrenamiento y validación. Imagina una situación en la que todos los ejemplos de una clase particular terminan en el conjunto de validación mientras que otra clase se concentra en el conjunto de entrenamiento. Esto contradice el principio de que nuestra división debería ser una muestra o división aleatoria.\n",
        "\n",
        "Más información sobre la importancia de barajear los datos puede ser encontrada en esta [discusión de Data Science Stack Exchange](https://datascience.stackexchange.com/questions/24511/why-should-the-data-be-shuffled-for-machine-learning-tasks).\n",
        "\n",
        "### Evitando la Fuga de Datos\n",
        "\n",
        "Es fundamental dividir los datos antes de hacer cualquier transformación. Esta precaución nos ayuda a prevenir el **Data Leak**, un problema en el que la información del conjunto de prueba \"se filtra\" en el proceso de entrenamiento.\n",
        "\n",
        "Puedes aprender más sobre cómo evitar la fuga de datos en este [artículo de Towards Data Science](https://towardsdatascience.com/avoid-data-leakage-split-your-data-before-processing-a7f172632b00).\n"
      ],
      "metadata": {
        "id": "9i0C6J4KfOAl"
      }
    },
    {
      "cell_type": "code",
      "source": [
        "ds.head(1)"
      ],
      "metadata": {
        "colab": {
          "base_uri": "https://localhost:8080/",
          "height": 81
        },
        "id": "zpZSlH8wzhlS",
        "outputId": "e1471ad0-6e31-4369-931e-f5b8c852f5aa"
      },
      "execution_count": 12,
      "outputs": [
        {
          "output_type": "execute_result",
          "data": {
            "text/plain": [
              "   PassengerId  Survived  Pclass                     Name   Sex   Age  SibSp  \\\n",
              "0            1         0       3  Braund, Mr. Owen Harris  male  22.0      1   \n",
              "\n",
              "   Parch     Ticket  Fare Cabin Embarked  \n",
              "0      0  A/5 21171  7.25   NaN        S  "
            ],
            "text/html": [
              "\n",
              "  <div id=\"df-1bb72596-2d99-4ae8-a82c-e417a491d800\" class=\"colab-df-container\">\n",
              "    <div>\n",
              "<style scoped>\n",
              "    .dataframe tbody tr th:only-of-type {\n",
              "        vertical-align: middle;\n",
              "    }\n",
              "\n",
              "    .dataframe tbody tr th {\n",
              "        vertical-align: top;\n",
              "    }\n",
              "\n",
              "    .dataframe thead th {\n",
              "        text-align: right;\n",
              "    }\n",
              "</style>\n",
              "<table border=\"1\" class=\"dataframe\">\n",
              "  <thead>\n",
              "    <tr style=\"text-align: right;\">\n",
              "      <th></th>\n",
              "      <th>PassengerId</th>\n",
              "      <th>Survived</th>\n",
              "      <th>Pclass</th>\n",
              "      <th>Name</th>\n",
              "      <th>Sex</th>\n",
              "      <th>Age</th>\n",
              "      <th>SibSp</th>\n",
              "      <th>Parch</th>\n",
              "      <th>Ticket</th>\n",
              "      <th>Fare</th>\n",
              "      <th>Cabin</th>\n",
              "      <th>Embarked</th>\n",
              "    </tr>\n",
              "  </thead>\n",
              "  <tbody>\n",
              "    <tr>\n",
              "      <th>0</th>\n",
              "      <td>1</td>\n",
              "      <td>0</td>\n",
              "      <td>3</td>\n",
              "      <td>Braund, Mr. Owen Harris</td>\n",
              "      <td>male</td>\n",
              "      <td>22.0</td>\n",
              "      <td>1</td>\n",
              "      <td>0</td>\n",
              "      <td>A/5 21171</td>\n",
              "      <td>7.25</td>\n",
              "      <td>NaN</td>\n",
              "      <td>S</td>\n",
              "    </tr>\n",
              "  </tbody>\n",
              "</table>\n",
              "</div>\n",
              "    <div class=\"colab-df-buttons\">\n",
              "\n",
              "  <div class=\"colab-df-container\">\n",
              "    <button class=\"colab-df-convert\" onclick=\"convertToInteractive('df-1bb72596-2d99-4ae8-a82c-e417a491d800')\"\n",
              "            title=\"Convert this dataframe to an interactive table.\"\n",
              "            style=\"display:none;\">\n",
              "\n",
              "  <svg xmlns=\"http://www.w3.org/2000/svg\" height=\"24px\" viewBox=\"0 -960 960 960\">\n",
              "    <path d=\"M120-120v-720h720v720H120Zm60-500h600v-160H180v160Zm220 220h160v-160H400v160Zm0 220h160v-160H400v160ZM180-400h160v-160H180v160Zm440 0h160v-160H620v160ZM180-180h160v-160H180v160Zm440 0h160v-160H620v160Z\"/>\n",
              "  </svg>\n",
              "    </button>\n",
              "\n",
              "  <style>\n",
              "    .colab-df-container {\n",
              "      display:flex;\n",
              "      gap: 12px;\n",
              "    }\n",
              "\n",
              "    .colab-df-convert {\n",
              "      background-color: #E8F0FE;\n",
              "      border: none;\n",
              "      border-radius: 50%;\n",
              "      cursor: pointer;\n",
              "      display: none;\n",
              "      fill: #1967D2;\n",
              "      height: 32px;\n",
              "      padding: 0 0 0 0;\n",
              "      width: 32px;\n",
              "    }\n",
              "\n",
              "    .colab-df-convert:hover {\n",
              "      background-color: #E2EBFA;\n",
              "      box-shadow: 0px 1px 2px rgba(60, 64, 67, 0.3), 0px 1px 3px 1px rgba(60, 64, 67, 0.15);\n",
              "      fill: #174EA6;\n",
              "    }\n",
              "\n",
              "    .colab-df-buttons div {\n",
              "      margin-bottom: 4px;\n",
              "    }\n",
              "\n",
              "    [theme=dark] .colab-df-convert {\n",
              "      background-color: #3B4455;\n",
              "      fill: #D2E3FC;\n",
              "    }\n",
              "\n",
              "    [theme=dark] .colab-df-convert:hover {\n",
              "      background-color: #434B5C;\n",
              "      box-shadow: 0px 1px 3px 1px rgba(0, 0, 0, 0.15);\n",
              "      filter: drop-shadow(0px 1px 2px rgba(0, 0, 0, 0.3));\n",
              "      fill: #FFFFFF;\n",
              "    }\n",
              "  </style>\n",
              "\n",
              "    <script>\n",
              "      const buttonEl =\n",
              "        document.querySelector('#df-1bb72596-2d99-4ae8-a82c-e417a491d800 button.colab-df-convert');\n",
              "      buttonEl.style.display =\n",
              "        google.colab.kernel.accessAllowed ? 'block' : 'none';\n",
              "\n",
              "      async function convertToInteractive(key) {\n",
              "        const element = document.querySelector('#df-1bb72596-2d99-4ae8-a82c-e417a491d800');\n",
              "        const dataTable =\n",
              "          await google.colab.kernel.invokeFunction('convertToInteractive',\n",
              "                                                    [key], {});\n",
              "        if (!dataTable) return;\n",
              "\n",
              "        const docLinkHtml = 'Like what you see? Visit the ' +\n",
              "          '<a target=\"_blank\" href=https://colab.research.google.com/notebooks/data_table.ipynb>data table notebook</a>'\n",
              "          + ' to learn more about interactive tables.';\n",
              "        element.innerHTML = '';\n",
              "        dataTable['output_type'] = 'display_data';\n",
              "        await google.colab.output.renderOutput(dataTable, element);\n",
              "        const docLink = document.createElement('div');\n",
              "        docLink.innerHTML = docLinkHtml;\n",
              "        element.appendChild(docLink);\n",
              "      }\n",
              "    </script>\n",
              "  </div>\n",
              "\n",
              "    </div>\n",
              "  </div>\n"
            ]
          },
          "metadata": {},
          "execution_count": 12
        }
      ]
    },
    {
      "cell_type": "code",
      "source": [
        "shuffled_df = ds.sample(frac=1).reset_index(drop=True)"
      ],
      "metadata": {
        "id": "u1JIU3EumZGQ"
      },
      "execution_count": 23,
      "outputs": []
    },
    {
      "cell_type": "code",
      "source": [
        "shuffled_df.head(1)"
      ],
      "metadata": {
        "id": "_bmt-CS4rFmB",
        "colab": {
          "base_uri": "https://localhost:8080/",
          "height": 81
        },
        "outputId": "2c2f7310-149b-4cc2-da2d-b72181da9091"
      },
      "execution_count": 24,
      "outputs": [
        {
          "output_type": "execute_result",
          "data": {
            "text/plain": [
              "   PassengerId  Survived  Pclass                         Name     Sex   Age  \\\n",
              "0          357         1       1  Bowerman, Miss. Elsie Edith  female  22.0   \n",
              "\n",
              "   SibSp  Parch  Ticket  Fare Cabin Embarked  \n",
              "0      0      1  113505  55.0   E33        S  "
            ],
            "text/html": [
              "\n",
              "  <div id=\"df-370a62dd-f463-4780-9312-62e8c0bb147e\" class=\"colab-df-container\">\n",
              "    <div>\n",
              "<style scoped>\n",
              "    .dataframe tbody tr th:only-of-type {\n",
              "        vertical-align: middle;\n",
              "    }\n",
              "\n",
              "    .dataframe tbody tr th {\n",
              "        vertical-align: top;\n",
              "    }\n",
              "\n",
              "    .dataframe thead th {\n",
              "        text-align: right;\n",
              "    }\n",
              "</style>\n",
              "<table border=\"1\" class=\"dataframe\">\n",
              "  <thead>\n",
              "    <tr style=\"text-align: right;\">\n",
              "      <th></th>\n",
              "      <th>PassengerId</th>\n",
              "      <th>Survived</th>\n",
              "      <th>Pclass</th>\n",
              "      <th>Name</th>\n",
              "      <th>Sex</th>\n",
              "      <th>Age</th>\n",
              "      <th>SibSp</th>\n",
              "      <th>Parch</th>\n",
              "      <th>Ticket</th>\n",
              "      <th>Fare</th>\n",
              "      <th>Cabin</th>\n",
              "      <th>Embarked</th>\n",
              "    </tr>\n",
              "  </thead>\n",
              "  <tbody>\n",
              "    <tr>\n",
              "      <th>0</th>\n",
              "      <td>357</td>\n",
              "      <td>1</td>\n",
              "      <td>1</td>\n",
              "      <td>Bowerman, Miss. Elsie Edith</td>\n",
              "      <td>female</td>\n",
              "      <td>22.0</td>\n",
              "      <td>0</td>\n",
              "      <td>1</td>\n",
              "      <td>113505</td>\n",
              "      <td>55.0</td>\n",
              "      <td>E33</td>\n",
              "      <td>S</td>\n",
              "    </tr>\n",
              "  </tbody>\n",
              "</table>\n",
              "</div>\n",
              "    <div class=\"colab-df-buttons\">\n",
              "\n",
              "  <div class=\"colab-df-container\">\n",
              "    <button class=\"colab-df-convert\" onclick=\"convertToInteractive('df-370a62dd-f463-4780-9312-62e8c0bb147e')\"\n",
              "            title=\"Convert this dataframe to an interactive table.\"\n",
              "            style=\"display:none;\">\n",
              "\n",
              "  <svg xmlns=\"http://www.w3.org/2000/svg\" height=\"24px\" viewBox=\"0 -960 960 960\">\n",
              "    <path d=\"M120-120v-720h720v720H120Zm60-500h600v-160H180v160Zm220 220h160v-160H400v160Zm0 220h160v-160H400v160ZM180-400h160v-160H180v160Zm440 0h160v-160H620v160ZM180-180h160v-160H180v160Zm440 0h160v-160H620v160Z\"/>\n",
              "  </svg>\n",
              "    </button>\n",
              "\n",
              "  <style>\n",
              "    .colab-df-container {\n",
              "      display:flex;\n",
              "      gap: 12px;\n",
              "    }\n",
              "\n",
              "    .colab-df-convert {\n",
              "      background-color: #E8F0FE;\n",
              "      border: none;\n",
              "      border-radius: 50%;\n",
              "      cursor: pointer;\n",
              "      display: none;\n",
              "      fill: #1967D2;\n",
              "      height: 32px;\n",
              "      padding: 0 0 0 0;\n",
              "      width: 32px;\n",
              "    }\n",
              "\n",
              "    .colab-df-convert:hover {\n",
              "      background-color: #E2EBFA;\n",
              "      box-shadow: 0px 1px 2px rgba(60, 64, 67, 0.3), 0px 1px 3px 1px rgba(60, 64, 67, 0.15);\n",
              "      fill: #174EA6;\n",
              "    }\n",
              "\n",
              "    .colab-df-buttons div {\n",
              "      margin-bottom: 4px;\n",
              "    }\n",
              "\n",
              "    [theme=dark] .colab-df-convert {\n",
              "      background-color: #3B4455;\n",
              "      fill: #D2E3FC;\n",
              "    }\n",
              "\n",
              "    [theme=dark] .colab-df-convert:hover {\n",
              "      background-color: #434B5C;\n",
              "      box-shadow: 0px 1px 3px 1px rgba(0, 0, 0, 0.15);\n",
              "      filter: drop-shadow(0px 1px 2px rgba(0, 0, 0, 0.3));\n",
              "      fill: #FFFFFF;\n",
              "    }\n",
              "  </style>\n",
              "\n",
              "    <script>\n",
              "      const buttonEl =\n",
              "        document.querySelector('#df-370a62dd-f463-4780-9312-62e8c0bb147e button.colab-df-convert');\n",
              "      buttonEl.style.display =\n",
              "        google.colab.kernel.accessAllowed ? 'block' : 'none';\n",
              "\n",
              "      async function convertToInteractive(key) {\n",
              "        const element = document.querySelector('#df-370a62dd-f463-4780-9312-62e8c0bb147e');\n",
              "        const dataTable =\n",
              "          await google.colab.kernel.invokeFunction('convertToInteractive',\n",
              "                                                    [key], {});\n",
              "        if (!dataTable) return;\n",
              "\n",
              "        const docLinkHtml = 'Like what you see? Visit the ' +\n",
              "          '<a target=\"_blank\" href=https://colab.research.google.com/notebooks/data_table.ipynb>data table notebook</a>'\n",
              "          + ' to learn more about interactive tables.';\n",
              "        element.innerHTML = '';\n",
              "        dataTable['output_type'] = 'display_data';\n",
              "        await google.colab.output.renderOutput(dataTable, element);\n",
              "        const docLink = document.createElement('div');\n",
              "        docLink.innerHTML = docLinkHtml;\n",
              "        element.appendChild(docLink);\n",
              "      }\n",
              "    </script>\n",
              "  </div>\n",
              "\n",
              "    </div>\n",
              "  </div>\n"
            ]
          },
          "metadata": {},
          "execution_count": 24
        }
      ]
    },
    {
      "cell_type": "markdown",
      "source": [
        "Dividiendo los datos en Train, Validation  and Test.\n",
        "Train es para ajustar los pesos y Validation para ir viendo el desempeno del modelo, sesgo, varianza, asi como para evitar sobreajuste, ajustar hiperparametros.\n",
        "\n",
        "Test solo se ocupan una vez para la prueba final, simulando el proceso en produccion.\n",
        "\n",
        "El conjunto test normalmente se ocupa una vez para una verificacion final, si algo sale mal en esto debes encontrar las causa, pero una principal es que el modelo se sobre-ajusto a los datos de entrenamieno y test, por reajustar iteradamente.\n",
        "\n",
        "https://towardsdatascience.com/train-validation-and-test-sets-72cb40cba9e7"
      ],
      "metadata": {
        "id": "zR8hIEV70j0r"
      }
    },
    {
      "cell_type": "code",
      "source": [
        "# from sklearn.model_selection import train_test_split\n",
        "# X_train, X_test = train_test_split(shuffled_df, test_size=0.2, random_state=42)"
      ],
      "metadata": {
        "id": "-XpQ2Wx8FqJ1"
      },
      "execution_count": null,
      "outputs": []
    },
    {
      "cell_type": "code",
      "source": [
        "def train_val(df:pd.DataFrame , f:float=0.2)->tuple([pd.DataFrame,pd.DataFrame]):\n",
        "  test = df.sample(frac = f ,replace = False )\n",
        "  train =   df[~df.index.isin(test.index)]\n",
        "  return (train, test)\n",
        "data_train, data_test = train_val(shuffled_df)"
      ],
      "metadata": {
        "id": "7IMpBKuQ0i6D"
      },
      "execution_count": 25,
      "outputs": []
    },
    {
      "cell_type": "code",
      "source": [
        "data_train.Survived.value_counts()"
      ],
      "metadata": {
        "colab": {
          "base_uri": "https://localhost:8080/"
        },
        "id": "4SukXiS4-xZx",
        "outputId": "0e1b8806-03a8-40f1-af38-06772da02538"
      },
      "execution_count": 57,
      "outputs": [
        {
          "output_type": "execute_result",
          "data": {
            "text/plain": [
              "0    443\n",
              "1    270\n",
              "Name: Survived, dtype: int64"
            ]
          },
          "metadata": {},
          "execution_count": 57
        }
      ]
    },
    {
      "cell_type": "code",
      "source": [
        "import matplotlib.pyplot as plt\n",
        "plt.hist(data_train.Survived)"
      ],
      "metadata": {
        "colab": {
          "base_uri": "https://localhost:8080/",
          "height": 482
        },
        "id": "S3sAByYo-hmD",
        "outputId": "2c83b621-2714-4c8b-ab44-9c3950b04220"
      },
      "execution_count": 51,
      "outputs": [
        {
          "output_type": "execute_result",
          "data": {
            "text/plain": [
              "(array([443.,   0.,   0.,   0.,   0.,   0.,   0.,   0.,   0., 270.]),\n",
              " array([0. , 0.1, 0.2, 0.3, 0.4, 0.5, 0.6, 0.7, 0.8, 0.9, 1. ]),\n",
              " <BarContainer object of 10 artists>)"
            ]
          },
          "metadata": {},
          "execution_count": 51
        },
        {
          "output_type": "display_data",
          "data": {
            "text/plain": [
              "<Figure size 640x480 with 1 Axes>"
            ],
            "image/png": "[encoded data removed]"
          },
          "metadata": {}
        }
      ]
    },
    {
      "cell_type": "markdown",
      "source": [
        "Dado que los modelos usados en tensorflow tienen integrada la opcion de Validacion cruzada, no crearemos esa division de datos hasta ese momento."
      ],
      "metadata": {
        "id": "YQCmBKs4GzCS"
      }
    },
    {
      "cell_type": "markdown",
      "source": [
        "Empezaremos con la fase de Limpieza de datos.\n",
        "\n",
        "Usaremos una metodologia que consiste en revisar columna a columna una lista de limpieza comun a los datos.\n",
        "\n",
        "\n",
        "* 1  : Repetibilidad en los datos. Existen Datos Repetidos.\n",
        "* 2  : Inexistencia de datos. Hay datos faltantes, ¿Cómo se tratan?\n",
        "* 3  : Error en los datos. Hay datos que no sean coherentes con los demás\n",
        "* 4  : Errores de formato. ‘Espacios en blanco’ error en tipos de datos como char e int, formato de fechas,\n",
        "* 5  :Verificar formato de fechas\n",
        "* 6  :Verificar N/a\n",
        "* 7  :Verificar espacios en blanco\n",
        "* 8  :Verificar puntos decimal\n",
        "* 9  :Verificar texto en formato número\n",
        "* 10 :Verificar misma shape\n",
        "* 11 :Verificar ortografía\n",
        "* 12 :Verificar duplicados\n",
        "* 13 :Verificar rango de datos\n",
        "* 14 :Verificar números no estén en formato porcentaje o otro\n",
        "* 15 :Verificar conversiones pesos dólares etc\n",
        "* 16 :Verificar nombres no sean iguales en duplicados ej: mexico=mex=méxico\n",
        "* 17 :Verificar en fechas horario de verano, invierno.\n",
        "\n",
        "\n"
      ],
      "metadata": {
        "id": "EAtIUh0k0BY5"
      }
    },
    {
      "cell_type": "markdown",
      "source": [
        "Dado que las mismas transformaciones las haremos al conjunto de test, el enfoque sera crear en funciones las transformaciones."
      ],
      "metadata": {
        "id": "MBP4CdCrMnJ9"
      }
    },
    {
      "cell_type": "code",
      "source": [
        "def duplicados(df):\n",
        "  return df.drop_duplicates()\n",
        "data_train = duplicados(data_train)\n",
        "data_test = duplicados(data_test)"
      ],
      "metadata": {
        "id": "rQCew9wlzmzs"
      },
      "execution_count": null,
      "outputs": []
    },
    {
      "cell_type": "code",
      "source": [
        "# Vemos en que columnas hay valores nulos.\n",
        "for columna in data_train.columns:\n",
        "    data_na = data_train[columna].isna()\n",
        "    if data_na.any():\n",
        "        print(columna, data_na.sum())"
      ],
      "metadata": {
        "colab": {
          "base_uri": "https://localhost:8080/"
        },
        "id": "ZgkKO7NN22fA",
        "outputId": "adadd2ca-5269-4c0f-d129-71a34a06b3a0"
      },
      "execution_count": null,
      "outputs": [
        {
          "output_type": "stream",
          "name": "stdout",
          "text": [
            "Age 139\n",
            "Cabin 546\n",
            "Embarked 2\n"
          ]
        }
      ]
    },
    {
      "cell_type": "code",
      "source": [
        "def passenger_class(ds):\n",
        "    ds['ID'] = (ds[\"PassengerId\"] - ds[\"PassengerId\"].min()) / (ds[\"PassengerId\"].max() - ds[\"PassengerId\"].min())\n",
        "    ds['CLASS'] = ds[\"Pclass\"]\n",
        "    return ds"
      ],
      "metadata": {
        "id": "_fj5AldD2N8L"
      },
      "execution_count": null,
      "outputs": []
    },
    {
      "cell_type": "code",
      "source": [
        "data_train = passenger_class(data_train)\n",
        "data_train.head(2)"
      ],
      "metadata": {
        "colab": {
          "base_uri": "https://localhost:8080/",
          "height": 112
        },
        "id": "hft5TJ3eyljq",
        "outputId": "c72f406c-fdbb-4e10-d642-94fd532ef22e"
      },
      "execution_count": null,
      "outputs": [
        {
          "output_type": "execute_result",
          "data": {
            "text/plain": [
              "   PassengerId  Survived  Pclass                   Name   Sex  Age  SibSp  \\\n",
              "0          612         0       3  Jardin, Mr. Jose Neto  male  NaN      0   \n",
              "1          528         0       1     Farthing, Mr. John  male  NaN      0   \n",
              "\n",
              "   Parch              Ticket      Fare Cabin Embarked        ID  CLASS  \n",
              "0      0  SOTON/O.Q. 3101305    7.0500   NaN        S  0.686517      3  \n",
              "1      0            PC 17483  221.7792   C95        S  0.592135      1  "
            ],
            "text/html": [
              "\n",
              "  <div id=\"df-b17b2102-f8d4-4c35-b54c-26f3e6607c22\" class=\"colab-df-container\">\n",
              "    <div>\n",
              "<style scoped>\n",
              "    .dataframe tbody tr th:only-of-type {\n",
              "        vertical-align: middle;\n",
              "    }\n",
              "\n",
              "    .dataframe tbody tr th {\n",
              "        vertical-align: top;\n",
              "    }\n",
              "\n",
              "    .dataframe thead th {\n",
              "        text-align: right;\n",
              "    }\n",
              "</style>\n",
              "<table border=\"1\" class=\"dataframe\">\n",
              "  <thead>\n",
              "    <tr style=\"text-align: right;\">\n",
              "      <th></th>\n",
              "      <th>PassengerId</th>\n",
              "      <th>Survived</th>\n",
              "      <th>Pclass</th>\n",
              "      <th>Name</th>\n",
              "      <th>Sex</th>\n",
              "      <th>Age</th>\n",
              "      <th>SibSp</th>\n",
              "      <th>Parch</th>\n",
              "      <th>Ticket</th>\n",
              "      <th>Fare</th>\n",
              "      <th>Cabin</th>\n",
              "      <th>Embarked</th>\n",
              "      <th>ID</th>\n",
              "      <th>CLASS</th>\n",
              "    </tr>\n",
              "  </thead>\n",
              "  <tbody>\n",
              "    <tr>\n",
              "      <th>0</th>\n",
              "      <td>612</td>\n",
              "      <td>0</td>\n",
              "      <td>3</td>\n",
              "      <td>Jardin, Mr. Jose Neto</td>\n",
              "      <td>male</td>\n",
              "      <td>NaN</td>\n",
              "      <td>0</td>\n",
              "      <td>0</td>\n",
              "      <td>SOTON/O.Q. 3101305</td>\n",
              "      <td>7.0500</td>\n",
              "      <td>NaN</td>\n",
              "      <td>S</td>\n",
              "      <td>0.686517</td>\n",
              "      <td>3</td>\n",
              "    </tr>\n",
              "    <tr>\n",
              "      <th>1</th>\n",
              "      <td>528</td>\n",
              "      <td>0</td>\n",
              "      <td>1</td>\n",
              "      <td>Farthing, Mr. John</td>\n",
              "      <td>male</td>\n",
              "      <td>NaN</td>\n",
              "      <td>0</td>\n",
              "      <td>0</td>\n",
              "      <td>PC 17483</td>\n",
              "      <td>221.7792</td>\n",
              "      <td>C95</td>\n",
              "      <td>S</td>\n",
              "      <td>0.592135</td>\n",
              "      <td>1</td>\n",
              "    </tr>\n",
              "  </tbody>\n",
              "</table>\n",
              "</div>\n",
              "    <div class=\"colab-df-buttons\">\n",
              "\n",
              "  <div class=\"colab-df-container\">\n",
              "    <button class=\"colab-df-convert\" onclick=\"convertToInteractive('df-b17b2102-f8d4-4c35-b54c-26f3e6607c22')\"\n",
              "            title=\"Convert this dataframe to an interactive table.\"\n",
              "            style=\"display:none;\">\n",
              "\n",
              "  <svg xmlns=\"http://www.w3.org/2000/svg\" height=\"24px\" viewBox=\"0 -960 960 960\">\n",
              "    <path d=\"M120-120v-720h720v720H120Zm60-500h600v-160H180v160Zm220 220h160v-160H400v160Zm0 220h160v-160H400v160ZM180-400h160v-160H180v160Zm440 0h160v-160H620v160ZM180-180h160v-160H180v160Zm440 0h160v-160H620v160Z\"/>\n",
              "  </svg>\n",
              "    </button>\n",
              "\n",
              "  <style>\n",
              "    .colab-df-container {\n",
              "      display:flex;\n",
              "      gap: 12px;\n",
              "    }\n",
              "\n",
              "    .colab-df-convert {\n",
              "      background-color: #E8F0FE;\n",
              "      border: none;\n",
              "      border-radius: 50%;\n",
              "      cursor: pointer;\n",
              "      display: none;\n",
              "      fill: #1967D2;\n",
              "      height: 32px;\n",
              "      padding: 0 0 0 0;\n",
              "      width: 32px;\n",
              "    }\n",
              "\n",
              "    .colab-df-convert:hover {\n",
              "      background-color: #E2EBFA;\n",
              "      box-shadow: 0px 1px 2px rgba(60, 64, 67, 0.3), 0px 1px 3px 1px rgba(60, 64, 67, 0.15);\n",
              "      fill: #174EA6;\n",
              "    }\n",
              "\n",
              "    .colab-df-buttons div {\n",
              "      margin-bottom: 4px;\n",
              "    }\n",
              "\n",
              "    [theme=dark] .colab-df-convert {\n",
              "      background-color: #3B4455;\n",
              "      fill: #D2E3FC;\n",
              "    }\n",
              "\n",
              "    [theme=dark] .colab-df-convert:hover {\n",
              "      background-color: #434B5C;\n",
              "      box-shadow: 0px 1px 3px 1px rgba(0, 0, 0, 0.15);\n",
              "      filter: drop-shadow(0px 1px 2px rgba(0, 0, 0, 0.3));\n",
              "      fill: #FFFFFF;\n",
              "    }\n",
              "  </style>\n",
              "\n",
              "    <script>\n",
              "      const buttonEl =\n",
              "        document.querySelector('#df-b17b2102-f8d4-4c35-b54c-26f3e6607c22 button.colab-df-convert');\n",
              "      buttonEl.style.display =\n",
              "        google.colab.kernel.accessAllowed ? 'block' : 'none';\n",
              "\n",
              "      async function convertToInteractive(key) {\n",
              "        const element = document.querySelector('#df-b17b2102-f8d4-4c35-b54c-26f3e6607c22');\n",
              "        const dataTable =\n",
              "          await google.colab.kernel.invokeFunction('convertToInteractive',\n",
              "                                                    [key], {});\n",
              "        if (!dataTable) return;\n",
              "\n",
              "        const docLinkHtml = 'Like what you see? Visit the ' +\n",
              "          '<a target=\"_blank\" href=https://colab.research.google.com/notebooks/data_table.ipynb>data table notebook</a>'\n",
              "          + ' to learn more about interactive tables.';\n",
              "        element.innerHTML = '';\n",
              "        dataTable['output_type'] = 'display_data';\n",
              "        await google.colab.output.renderOutput(dataTable, element);\n",
              "        const docLink = document.createElement('div');\n",
              "        docLink.innerHTML = docLinkHtml;\n",
              "        element.appendChild(docLink);\n",
              "      }\n",
              "    </script>\n",
              "  </div>\n",
              "\n",
              "\n",
              "<div id=\"df-18080888-d9b3-4c81-af48-a6fe8f9e2ada\">\n",
              "  <button class=\"colab-df-quickchart\" onclick=\"quickchart('df-18080888-d9b3-4c81-af48-a6fe8f9e2ada')\"\n",
              "            title=\"Suggest charts.\"\n",
              "            style=\"display:none;\">\n",
              "\n",
              "<svg xmlns=\"http://www.w3.org/2000/svg\" height=\"24px\"viewBox=\"0 0 24 24\"\n",
              "     width=\"24px\">\n",
              "    <g>\n",
              "        <path d=\"M19 3H5c-1.1 0-2 .9-2 2v14c0 1.1.9 2 2 2h14c1.1 0 2-.9 2-2V5c0-1.1-.9-2-2-2zM9 17H7v-7h2v7zm4 0h-2V7h2v10zm4 0h-2v-4h2v4z\"/>\n",
              "    </g>\n",
              "</svg>\n",
              "  </button>\n",
              "\n",
              "<style>\n",
              "  .colab-df-quickchart {\n",
              "      --bg-color: #E8F0FE;\n",
              "      --fill-color: #1967D2;\n",
              "      --hover-bg-color: #E2EBFA;\n",
              "      --hover-fill-color: #174EA6;\n",
              "      --disabled-fill-color: #AAA;\n",
              "      --disabled-bg-color: #DDD;\n",
              "  }\n",
              "\n",
              "  [theme=dark] .colab-df-quickchart {\n",
              "      --bg-color: #3B4455;\n",
              "      --fill-color: #D2E3FC;\n",
              "      --hover-bg-color: #434B5C;\n",
              "      --hover-fill-color: #FFFFFF;\n",
              "      --disabled-bg-color: #3B4455;\n",
              "      --disabled-fill-color: #666;\n",
              "  }\n",
              "\n",
              "  .colab-df-quickchart {\n",
              "    background-color: var(--bg-color);\n",
              "    border: none;\n",
              "    border-radius: 50%;\n",
              "    cursor: pointer;\n",
              "    display: none;\n",
              "    fill: var(--fill-color);\n",
              "    height: 32px;\n",
              "    padding: 0;\n",
              "    width: 32px;\n",
              "  }\n",
              "\n",
              "  .colab-df-quickchart:hover {\n",
              "    background-color: var(--hover-bg-color);\n",
              "    box-shadow: 0 1px 2px rgba(60, 64, 67, 0.3), 0 1px 3px 1px rgba(60, 64, 67, 0.15);\n",
              "    fill: var(--button-hover-fill-color);\n",
              "  }\n",
              "\n",
              "  .colab-df-quickchart-complete:disabled,\n",
              "  .colab-df-quickchart-complete:disabled:hover {\n",
              "    background-color: var(--disabled-bg-color);\n",
              "    fill: var(--disabled-fill-color);\n",
              "    box-shadow: none;\n",
              "  }\n",
              "\n",
              "  .colab-df-spinner {\n",
              "    border: 2px solid var(--fill-color);\n",
              "    border-color: transparent;\n",
              "    border-bottom-color: var(--fill-color);\n",
              "    animation:\n",
              "      spin 1s steps(1) infinite;\n",
              "  }\n",
              "\n",
              "  @keyframes spin {\n",
              "    0% {\n",
              "      border-color: transparent;\n",
              "      border-bottom-color: var(--fill-color);\n",
              "      border-left-color: var(--fill-color);\n",
              "    }\n",
              "    20% {\n",
              "      border-color: transparent;\n",
              "      border-left-color: var(--fill-color);\n",
              "      border-top-color: var(--fill-color);\n",
              "    }\n",
              "    30% {\n",
              "      border-color: transparent;\n",
              "      border-left-color: var(--fill-color);\n",
              "      border-top-color: var(--fill-color);\n",
              "      border-right-color: var(--fill-color);\n",
              "    }\n",
              "    40% {\n",
              "      border-color: transparent;\n",
              "      border-right-color: var(--fill-color);\n",
              "      border-top-color: var(--fill-color);\n",
              "    }\n",
              "    60% {\n",
              "      border-color: transparent;\n",
              "      border-right-color: var(--fill-color);\n",
              "    }\n",
              "    80% {\n",
              "      border-color: transparent;\n",
              "      border-right-color: var(--fill-color);\n",
              "      border-bottom-color: var(--fill-color);\n",
              "    }\n",
              "    90% {\n",
              "      border-color: transparent;\n",
              "      border-bottom-color: var(--fill-color);\n",
              "    }\n",
              "  }\n",
              "</style>\n",
              "\n",
              "  <script>\n",
              "    async function quickchart(key) {\n",
              "      const quickchartButtonEl =\n",
              "        document.querySelector('#' + key + ' button');\n",
              "      quickchartButtonEl.disabled = true;  // To prevent multiple clicks.\n",
              "      quickchartButtonEl.classList.add('colab-df-spinner');\n",
              "      try {\n",
              "        const charts = await google.colab.kernel.invokeFunction(\n",
              "            'suggestCharts', [key], {});\n",
              "      } catch (error) {\n",
              "        console.error('Error during call to suggestCharts:', error);\n",
              "      }\n",
              "      quickchartButtonEl.classList.remove('colab-df-spinner');\n",
              "      quickchartButtonEl.classList.add('colab-df-quickchart-complete');\n",
              "    }\n",
              "    (() => {\n",
              "      let quickchartButtonEl =\n",
              "        document.querySelector('#df-18080888-d9b3-4c81-af48-a6fe8f9e2ada button');\n",
              "      quickchartButtonEl.style.display =\n",
              "        google.colab.kernel.accessAllowed ? 'block' : 'none';\n",
              "    })();\n",
              "  </script>\n",
              "</div>\n",
              "    </div>\n",
              "  </div>\n"
            ]
          },
          "metadata": {},
          "execution_count": 18
        }
      ]
    },
    {
      "cell_type": "code",
      "source": [
        "def categorize_name(name):\n",
        "    name_lower = name.lower()  # Convertimos el nombre a minúsculas\n",
        "    if 'mr' in name_lower:  # Añadido el punto para ser más preciso\n",
        "        return 'BUCKET_MR'\n",
        "    elif 'miss' in name_lower:  # Añadido el punto para ser más preciso\n",
        "        return 'BUCKET_MISS'\n",
        "    elif 'mrs' in name_lower:  # Añadido el título \"Mrs.\" con el punto para ser más preciso\n",
        "        return 'BUCKET_MRS'\n",
        "    else:\n",
        "        return 'BUCKET_NONE'\n",
        "\n",
        "data_train['BUCKET'] = data_train['Name'].apply(categorize_name)\n",
        "\n",
        "# Aplicar One-Hot Encoding usando pandas con drop_first\n",
        "ohe_columns = pd.get_dummies(data_train['BUCKET'], prefix='OHE', drop_first=True)\n",
        "data_train = pd.concat([data_train, ohe_columns], axis=1)"
      ],
      "metadata": {
        "id": "yOKjHO1wWdBm"
      },
      "execution_count": null,
      "outputs": []
    },
    {
      "cell_type": "code",
      "source": [
        "data_train = data_train.drop(columns=\"BUCKET\")"
      ],
      "metadata": {
        "id": "jIWueMLniPcS"
      },
      "execution_count": null,
      "outputs": []
    },
    {
      "cell_type": "code",
      "source": [
        "dummies = pd.get_dummies(data_train[\"Sex\"], prefix=\"OHE\",drop_first=True)\n",
        "data_train = pd.concat([data_train, dummies], axis=1)"
      ],
      "metadata": {
        "id": "i6_8qPlQvWfx"
      },
      "execution_count": null,
      "outputs": []
    },
    {
      "cell_type": "code",
      "source": [
        "def S_P_T(ds):\n",
        "  ds[\"SIBSP\"] = ds[\"SibSp\"]\n",
        "  ds[\"PARCH\"] = ds[\"Parch\"]\n",
        "  # ds['TICKET'] = (ds[\"Ticket\"] - ds[\"Ticket\"].min()) / (ds[\"Ticket\"].max() - ds[\"Ticket\"].min())\n",
        "  return ds\n",
        "data_train = S_P_T(data_train)\n",
        "#Omitiremos ticket por la misma razon de PassengerId, solo que dedidimos dejar PassengerId para mostrar su poder predictivo"
      ],
      "metadata": {
        "id": "JLD-EAiMO5zy"
      },
      "execution_count": null,
      "outputs": []
    },
    {
      "cell_type": "code",
      "source": [
        "data_train.head(1)"
      ],
      "metadata": {
        "colab": {
          "base_uri": "https://localhost:8080/",
          "height": 205
        },
        "id": "BvRbewWI4yCn",
        "outputId": "c79b59c7-5d1f-4456-9093-d2b80c3d07df"
      },
      "execution_count": null,
      "outputs": [
        {
          "output_type": "execute_result",
          "data": {
            "text/plain": [
              "   PassengerId  Survived  Pclass  \\\n",
              "0          760         1       1   \n",
              "\n",
              "                                                Name     Sex   Age  SibSp  \\\n",
              "0  Rothes, the Countess. of (Lucy Noel Martha Dye...  female  33.0      0   \n",
              "\n",
              "   Parch  Ticket  Fare Cabin Embarked        ID  CLASS  OHE_BUCKET_MR  \\\n",
              "0      0  110152  86.5   B77        S  0.852809      1              0   \n",
              "\n",
              "   OHE_BUCKET_NONE  OHE_male  SIBSP  PARCH  \n",
              "0                1         0      0      0  "
            ],
            "text/html": [
              "\n",
              "  <div id=\"df-345a1d1a-31c4-4bda-86cc-a71645cd29a0\" class=\"colab-df-container\">\n",
              "    <div>\n",
              "<style scoped>\n",
              "    .dataframe tbody tr th:only-of-type {\n",
              "        vertical-align: middle;\n",
              "    }\n",
              "\n",
              "    .dataframe tbody tr th {\n",
              "        vertical-align: top;\n",
              "    }\n",
              "\n",
              "    .dataframe thead th {\n",
              "        text-align: right;\n",
              "    }\n",
              "</style>\n",
              "<table border=\"1\" class=\"dataframe\">\n",
              "  <thead>\n",
              "    <tr style=\"text-align: right;\">\n",
              "      <th></th>\n",
              "      <th>PassengerId</th>\n",
              "      <th>Survived</th>\n",
              "      <th>Pclass</th>\n",
              "      <th>Name</th>\n",
              "      <th>Sex</th>\n",
              "      <th>Age</th>\n",
              "      <th>SibSp</th>\n",
              "      <th>Parch</th>\n",
              "      <th>Ticket</th>\n",
              "      <th>Fare</th>\n",
              "      <th>Cabin</th>\n",
              "      <th>Embarked</th>\n",
              "      <th>ID</th>\n",
              "      <th>CLASS</th>\n",
              "      <th>OHE_BUCKET_MR</th>\n",
              "      <th>OHE_BUCKET_NONE</th>\n",
              "      <th>OHE_male</th>\n",
              "      <th>SIBSP</th>\n",
              "      <th>PARCH</th>\n",
              "    </tr>\n",
              "  </thead>\n",
              "  <tbody>\n",
              "    <tr>\n",
              "      <th>0</th>\n",
              "      <td>760</td>\n",
              "      <td>1</td>\n",
              "      <td>1</td>\n",
              "      <td>Rothes, the Countess. of (Lucy Noel Martha Dye...</td>\n",
              "      <td>female</td>\n",
              "      <td>33.0</td>\n",
              "      <td>0</td>\n",
              "      <td>0</td>\n",
              "      <td>110152</td>\n",
              "      <td>86.5</td>\n",
              "      <td>B77</td>\n",
              "      <td>S</td>\n",
              "      <td>0.852809</td>\n",
              "      <td>1</td>\n",
              "      <td>0</td>\n",
              "      <td>1</td>\n",
              "      <td>0</td>\n",
              "      <td>0</td>\n",
              "      <td>0</td>\n",
              "    </tr>\n",
              "  </tbody>\n",
              "</table>\n",
              "</div>\n",
              "    <div class=\"colab-df-buttons\">\n",
              "\n",
              "  <div class=\"colab-df-container\">\n",
              "    <button class=\"colab-df-convert\" onclick=\"convertToInteractive('df-345a1d1a-31c4-4bda-86cc-a71645cd29a0')\"\n",
              "            title=\"Convert this dataframe to an interactive table.\"\n",
              "            style=\"display:none;\">\n",
              "\n",
              "  <svg xmlns=\"http://www.w3.org/2000/svg\" height=\"24px\" viewBox=\"0 -960 960 960\">\n",
              "    <path d=\"M120-120v-720h720v720H120Zm60-500h600v-160H180v160Zm220 220h160v-160H400v160Zm0 220h160v-160H400v160ZM180-400h160v-160H180v160Zm440 0h160v-160H620v160ZM180-180h160v-160H180v160Zm440 0h160v-160H620v160Z\"/>\n",
              "  </svg>\n",
              "    </button>\n",
              "\n",
              "  <style>\n",
              "    .colab-df-container {\n",
              "      display:flex;\n",
              "      gap: 12px;\n",
              "    }\n",
              "\n",
              "    .colab-df-convert {\n",
              "      background-color: #E8F0FE;\n",
              "      border: none;\n",
              "      border-radius: 50%;\n",
              "      cursor: pointer;\n",
              "      display: none;\n",
              "      fill: #1967D2;\n",
              "      height: 32px;\n",
              "      padding: 0 0 0 0;\n",
              "      width: 32px;\n",
              "    }\n",
              "\n",
              "    .colab-df-convert:hover {\n",
              "      background-color: #E2EBFA;\n",
              "      box-shadow: 0px 1px 2px rgba(60, 64, 67, 0.3), 0px 1px 3px 1px rgba(60, 64, 67, 0.15);\n",
              "      fill: #174EA6;\n",
              "    }\n",
              "\n",
              "    .colab-df-buttons div {\n",
              "      margin-bottom: 4px;\n",
              "    }\n",
              "\n",
              "    [theme=dark] .colab-df-convert {\n",
              "      background-color: #3B4455;\n",
              "      fill: #D2E3FC;\n",
              "    }\n",
              "\n",
              "    [theme=dark] .colab-df-convert:hover {\n",
              "      background-color: #434B5C;\n",
              "      box-shadow: 0px 1px 3px 1px rgba(0, 0, 0, 0.15);\n",
              "      filter: drop-shadow(0px 1px 2px rgba(0, 0, 0, 0.3));\n",
              "      fill: #FFFFFF;\n",
              "    }\n",
              "  </style>\n",
              "\n",
              "    <script>\n",
              "      const buttonEl =\n",
              "        document.querySelector('#df-345a1d1a-31c4-4bda-86cc-a71645cd29a0 button.colab-df-convert');\n",
              "      buttonEl.style.display =\n",
              "        google.colab.kernel.accessAllowed ? 'block' : 'none';\n",
              "\n",
              "      async function convertToInteractive(key) {\n",
              "        const element = document.querySelector('#df-345a1d1a-31c4-4bda-86cc-a71645cd29a0');\n",
              "        const dataTable =\n",
              "          await google.colab.kernel.invokeFunction('convertToInteractive',\n",
              "                                                    [key], {});\n",
              "        if (!dataTable) return;\n",
              "\n",
              "        const docLinkHtml = 'Like what you see? Visit the ' +\n",
              "          '<a target=\"_blank\" href=https://colab.research.google.com/notebooks/data_table.ipynb>data table notebook</a>'\n",
              "          + ' to learn more about interactive tables.';\n",
              "        element.innerHTML = '';\n",
              "        dataTable['output_type'] = 'display_data';\n",
              "        await google.colab.output.renderOutput(dataTable, element);\n",
              "        const docLink = document.createElement('div');\n",
              "        docLink.innerHTML = docLinkHtml;\n",
              "        element.appendChild(docLink);\n",
              "      }\n",
              "    </script>\n",
              "  </div>\n",
              "\n",
              "    </div>\n",
              "  </div>\n"
            ]
          },
          "metadata": {},
          "execution_count": 161
        }
      ]
    },
    {
      "cell_type": "markdown",
      "source": [
        "Para los valores desconocidos de Age, pondremos un -1 que simulara un valor desconocido."
      ],
      "metadata": {
        "id": "7f_bt7cYi1x2"
      }
    },
    {
      "cell_type": "code",
      "source": [
        "data_train['AGE'] = data_train['Age'].fillna(-1)"
      ],
      "metadata": {
        "id": "DRgGsaZMfTDk"
      },
      "execution_count": null,
      "outputs": []
    },
    {
      "cell_type": "code",
      "source": [
        "#Dado que solo tenemos un valor nulo en Fare, usaremos el promedio que se paga en esa clase para rellenarlo\n",
        "data_train[data_train[\"Fare\"].isnull()]"
      ],
      "metadata": {
        "colab": {
          "base_uri": "https://localhost:8080/",
          "height": 73
        },
        "id": "tyutL6SGjjKt",
        "outputId": "5f1daf92-3ce0-4af6-8bad-5fa0990dcfae"
      },
      "execution_count": null,
      "outputs": [
        {
          "output_type": "execute_result",
          "data": {
            "text/plain": [
              "Empty DataFrame\n",
              "Columns: [PassengerId, Survived, Pclass, Name, Sex, Age, SibSp, Parch, Ticket, Fare, Cabin, Embarked, ID, CLASS, OHE_BUCKET_MR, OHE_BUCKET_NONE, OHE_male, SIBSP, PARCH, AGE]\n",
              "Index: []"
            ],
            "text/html": [
              "\n",
              "  <div id=\"df-9bd215bc-685b-4816-a6d9-091d1d128879\" class=\"colab-df-container\">\n",
              "    <div>\n",
              "<style scoped>\n",
              "    .dataframe tbody tr th:only-of-type {\n",
              "        vertical-align: middle;\n",
              "    }\n",
              "\n",
              "    .dataframe tbody tr th {\n",
              "        vertical-align: top;\n",
              "    }\n",
              "\n",
              "    .dataframe thead th {\n",
              "        text-align: right;\n",
              "    }\n",
              "</style>\n",
              "<table border=\"1\" class=\"dataframe\">\n",
              "  <thead>\n",
              "    <tr style=\"text-align: right;\">\n",
              "      <th></th>\n",
              "      <th>PassengerId</th>\n",
              "      <th>Survived</th>\n",
              "      <th>Pclass</th>\n",
              "      <th>Name</th>\n",
              "      <th>Sex</th>\n",
              "      <th>Age</th>\n",
              "      <th>SibSp</th>\n",
              "      <th>Parch</th>\n",
              "      <th>Ticket</th>\n",
              "      <th>Fare</th>\n",
              "      <th>Cabin</th>\n",
              "      <th>Embarked</th>\n",
              "      <th>ID</th>\n",
              "      <th>CLASS</th>\n",
              "      <th>OHE_BUCKET_MR</th>\n",
              "      <th>OHE_BUCKET_NONE</th>\n",
              "      <th>OHE_male</th>\n",
              "      <th>SIBSP</th>\n",
              "      <th>PARCH</th>\n",
              "      <th>AGE</th>\n",
              "    </tr>\n",
              "  </thead>\n",
              "  <tbody>\n",
              "  </tbody>\n",
              "</table>\n",
              "</div>\n",
              "    <div class=\"colab-df-buttons\">\n",
              "\n",
              "  <div class=\"colab-df-container\">\n",
              "    <button class=\"colab-df-convert\" onclick=\"convertToInteractive('df-9bd215bc-685b-4816-a6d9-091d1d128879')\"\n",
              "            title=\"Convert this dataframe to an interactive table.\"\n",
              "            style=\"display:none;\">\n",
              "\n",
              "  <svg xmlns=\"http://www.w3.org/2000/svg\" height=\"24px\" viewBox=\"0 -960 960 960\">\n",
              "    <path d=\"M120-120v-720h720v720H120Zm60-500h600v-160H180v160Zm220 220h160v-160H400v160Zm0 220h160v-160H400v160ZM180-400h160v-160H180v160Zm440 0h160v-160H620v160ZM180-180h160v-160H180v160Zm440 0h160v-160H620v160Z\"/>\n",
              "  </svg>\n",
              "    </button>\n",
              "\n",
              "  <style>\n",
              "    .colab-df-container {\n",
              "      display:flex;\n",
              "      gap: 12px;\n",
              "    }\n",
              "\n",
              "    .colab-df-convert {\n",
              "      background-color: #E8F0FE;\n",
              "      border: none;\n",
              "      border-radius: 50%;\n",
              "      cursor: pointer;\n",
              "      display: none;\n",
              "      fill: #1967D2;\n",
              "      height: 32px;\n",
              "      padding: 0 0 0 0;\n",
              "      width: 32px;\n",
              "    }\n",
              "\n",
              "    .colab-df-convert:hover {\n",
              "      background-color: #E2EBFA;\n",
              "      box-shadow: 0px 1px 2px rgba(60, 64, 67, 0.3), 0px 1px 3px 1px rgba(60, 64, 67, 0.15);\n",
              "      fill: #174EA6;\n",
              "    }\n",
              "\n",
              "    .colab-df-buttons div {\n",
              "      margin-bottom: 4px;\n",
              "    }\n",
              "\n",
              "    [theme=dark] .colab-df-convert {\n",
              "      background-color: #3B4455;\n",
              "      fill: #D2E3FC;\n",
              "    }\n",
              "\n",
              "    [theme=dark] .colab-df-convert:hover {\n",
              "      background-color: #434B5C;\n",
              "      box-shadow: 0px 1px 3px 1px rgba(0, 0, 0, 0.15);\n",
              "      filter: drop-shadow(0px 1px 2px rgba(0, 0, 0, 0.3));\n",
              "      fill: #FFFFFF;\n",
              "    }\n",
              "  </style>\n",
              "\n",
              "    <script>\n",
              "      const buttonEl =\n",
              "        document.querySelector('#df-9bd215bc-685b-4816-a6d9-091d1d128879 button.colab-df-convert');\n",
              "      buttonEl.style.display =\n",
              "        google.colab.kernel.accessAllowed ? 'block' : 'none';\n",
              "\n",
              "      async function convertToInteractive(key) {\n",
              "        const element = document.querySelector('#df-9bd215bc-685b-4816-a6d9-091d1d128879');\n",
              "        const dataTable =\n",
              "          await google.colab.kernel.invokeFunction('convertToInteractive',\n",
              "                                                    [key], {});\n",
              "        if (!dataTable) return;\n",
              "\n",
              "        const docLinkHtml = 'Like what you see? Visit the ' +\n",
              "          '<a target=\"_blank\" href=https://colab.research.google.com/notebooks/data_table.ipynb>data table notebook</a>'\n",
              "          + ' to learn more about interactive tables.';\n",
              "        element.innerHTML = '';\n",
              "        dataTable['output_type'] = 'display_data';\n",
              "        await google.colab.output.renderOutput(dataTable, element);\n",
              "        const docLink = document.createElement('div');\n",
              "        docLink.innerHTML = docLinkHtml;\n",
              "        element.appendChild(docLink);\n",
              "      }\n",
              "    </script>\n",
              "  </div>\n",
              "\n",
              "    </div>\n",
              "  </div>\n"
            ]
          },
          "metadata": {},
          "execution_count": 163
        }
      ]
    },
    {
      "cell_type": "code",
      "source": [
        "fare_mean = data_train.loc[data_train[\"Pclass\"] == 3,[\"Fare\"]].mean()\n",
        "data_train['FARE'] = data_train['Fare'].fillna(fare_mean[0])\n",
        "data_train['Cabin'].fillna('Desconocido', inplace=True)"
      ],
      "metadata": {
        "id": "1SYO3AlNjz5R"
      },
      "execution_count": null,
      "outputs": []
    },
    {
      "cell_type": "code",
      "source": [
        "# Convertir la columna 'Cabin' a categorías y luego a códigos numéricos\n",
        "data_train['CABIN'] = data_train['Cabin'].astype('category').cat.codes"
      ],
      "metadata": {
        "id": "tW54d6PU8-6t"
      },
      "execution_count": null,
      "outputs": []
    },
    {
      "cell_type": "code",
      "source": [
        "EMBARKED = pd.get_dummies(data_train[\"Embarked\"],prefix=\"OHE\",drop_first=True)\n",
        "data_train = pd.concat([data_train,  EMBARKED], axis=1)"
      ],
      "metadata": {
        "id": "aOatpk0djr0x"
      },
      "execution_count": null,
      "outputs": []
    },
    {
      "cell_type": "code",
      "source": [
        "data_train[\"SURVIVED\"] = data_train[\"Survived\"]"
      ],
      "metadata": {
        "id": "xVgdxjA2mQ2y"
      },
      "execution_count": null,
      "outputs": []
    },
    {
      "cell_type": "code",
      "source": [
        "class data_set_preparation():\n",
        "  def __init__(self):\n",
        "    print(\"Inicio\")\n",
        "  def __call__(self,ds):\n",
        "    data_train = self.duplicados(ds)\n",
        "    data_train = self.passenger_class(data_train)\n",
        "    data_train = self.preprocess_data(data_train)\n",
        "    data_train = data_train.drop(columns=\"BUCKET\")\n",
        "    data_train = self.data_sex(data_train)\n",
        "    data_train = self.S_P_T(data_train)\n",
        "    data_train = self.fill_na_fare_based_on_pclass(data_train)\n",
        "    data_train = self.cab(data_train)\n",
        "    return data_train\n",
        "\n",
        "  def duplicados(self,df):\n",
        "    return df.drop_duplicates()\n",
        "  def passenger_class(self,ds):\n",
        "    ds[\"PassengerId\"] = ds[\"PassengerId\"].fillna(0)\n",
        "    ds['ID'] = (ds[\"PassengerId\"] - ds[\"PassengerId\"].min()) / (ds[\"PassengerId\"].max() - ds[\"PassengerId\"].min())\n",
        "    ds[\"Pclass\"] = ds[\"Pclass\"].fillna(\"Desconocido\")\n",
        "    ds['CLASS'] = ds[\"Pclass\"]\n",
        "    return ds\n",
        "\n",
        "  @staticmethod\n",
        "  def categorize_name(name):\n",
        "      name_lower = name.lower()\n",
        "      if 'mr' in name_lower:\n",
        "          return 'BUCKET_MR'\n",
        "      elif 'miss' in name_lower:\n",
        "          return 'BUCKET_MISS'\n",
        "      elif 'mrs' in name_lower:\n",
        "          return 'BUCKET_MRS'\n",
        "      else:\n",
        "          return 'BUCKET_NONE'\n",
        "  def preprocess_data(self, df):\n",
        "      df['BUCKET'] = df['Name'].apply(self.categorize_name)\n",
        "      # Aplicar One-Hot Encoding usando pandas con drop_first\n",
        "      ohe_columns = pd.get_dummies(df['BUCKET'], prefix='OHE', drop_first=True)\n",
        "      df = pd.concat([df, ohe_columns], axis=1)\n",
        "      return df\n",
        "  def data_sex(self,ds):\n",
        "      ds[\"Sex\"] = ds[\"Sex\"].fillna(\"Desconocido\")\n",
        "      dummies = pd.get_dummies(ds[\"Sex\"], prefix=\"OHE\",drop_first=True)\n",
        "      ds = pd.concat([ds, dummies], axis=1)\n",
        "      return ds\n",
        "  def S_P_T(self,ds):\n",
        "    ds[\"SIBSP\"] = ds[\"SibSp\"].fillna(0)\n",
        "    ds[\"PARCH\"] = ds[\"Parch\"].fillna(0)\n",
        "    ds['AGE'] = ds['Age'].fillna(-1)\n",
        "    return ds\n",
        "\n",
        "  def fill_na_fare_based_on_pclass(self,df):\n",
        "      # Obtener las clases únicas\n",
        "      unique_classes = df[\"Pclass\"].dropna().unique()\n",
        "      # Iterar por cada clase\n",
        "      for pclass in unique_classes:\n",
        "          class_mean = df.loc[df[\"Pclass\"] == pclass, \"Fare\"].mean()\n",
        "          # Establecer una condición para identificar los valores NaN en 'Fare' para una Pclass específica\n",
        "          condition = (df[\"Pclass\"] == pclass) & (df[\"Fare\"].isna())\n",
        "          # Rellenar los NaN basados en la condición\n",
        "          df.loc[condition, \"Fare\"] = class_mean\n",
        "      return df\n",
        "  def cab(self,ds):\n",
        "    ds['Cabin'] = ds['Cabin'].fillna(\"unknown\")\n",
        "    # Convertir la columna 'Cabin' a categorías y luego a códigos numéricos\n",
        "    ds['CABIN'] = ds['Cabin'].astype('category').cat.codes\n",
        "    ds['Embarked'] = ds['Embarked'].fillna(\"unknown\")\n",
        "    EMBARKED = pd.get_dummies(ds[\"Embarked\"],prefix=\"OHE\",drop_first=True)\n",
        "    ds = pd.concat([ds,  EMBARKED], axis=1)\n",
        "    return ds"
      ],
      "metadata": {
        "id": "KoGOAeczZbJW"
      },
      "execution_count": 26,
      "outputs": []
    },
    {
      "cell_type": "code",
      "source": [
        "clean = data_set_preparation()"
      ],
      "metadata": {
        "colab": {
          "base_uri": "https://localhost:8080/"
        },
        "id": "0YROEdLvl4oi",
        "outputId": "937deb91-8d85-4146-aad1-95c54bc4bd16"
      },
      "execution_count": 27,
      "outputs": [
        {
          "output_type": "stream",
          "name": "stdout",
          "text": [
            "Inicio\n"
          ]
        }
      ]
    },
    {
      "cell_type": "code",
      "source": [
        "d_train = clean(data_train)\n",
        "d_test  = clean(data_test)"
      ],
      "metadata": {
        "id": "Q5mrrxYIl84S"
      },
      "execution_count": 28,
      "outputs": []
    },
    {
      "cell_type": "code",
      "source": [
        "#agregamos columna para coincidencia.\n",
        "d_test[\"OHE_unknown\"]=0"
      ],
      "metadata": {
        "id": "tabyz4K5qL5I"
      },
      "execution_count": 29,
      "outputs": []
    },
    {
      "cell_type": "code",
      "source": [
        "d_test.shape,d_train.shape"
      ],
      "metadata": {
        "colab": {
          "base_uri": "https://localhost:8080/"
        },
        "id": "cAln7BWJZOCx",
        "outputId": "a877d242-4405-41ef-ec64-c959b8935877"
      },
      "execution_count": 30,
      "outputs": [
        {
          "output_type": "execute_result",
          "data": {
            "text/plain": [
              "((178, 24), (713, 24))"
            ]
          },
          "metadata": {},
          "execution_count": 30
        }
      ]
    },
    {
      "cell_type": "code",
      "source": [
        "x_train,y_train = d_train.iloc[:,12:].to_numpy() , d_train.iloc[:,1].to_numpy()\n",
        "x_test,y_test = d_test.iloc[:,12:].to_numpy() , d_test.iloc[:,1].to_numpy()"
      ],
      "metadata": {
        "id": "wMj9wC1logps"
      },
      "execution_count": 31,
      "outputs": []
    },
    {
      "cell_type": "code",
      "source": [
        "x_train.shape , y_train.shape, x_test.shape,y_test.shape"
      ],
      "metadata": {
        "colab": {
          "base_uri": "https://localhost:8080/"
        },
        "id": "qYNseNyJniXC",
        "outputId": "fd5de8d3-ab25-4ad2-b115-9ddbdb084db1"
      },
      "execution_count": 32,
      "outputs": [
        {
          "output_type": "execute_result",
          "data": {
            "text/plain": [
              "((713, 12), (713,), (178, 12), (178,))"
            ]
          },
          "metadata": {},
          "execution_count": 32
        }
      ]
    },
    {
      "cell_type": "markdown",
      "source": [
        "Empezamos a buscar el mejor modelo"
      ],
      "metadata": {
        "id": "59tNLVmNqd5B"
      }
    },
    {
      "cell_type": "code",
      "source": [
        "from sklearn.linear_model import LogisticRegression\n",
        "\n",
        "# Inicializar y entrenar el modelo\n",
        "logistic_model = LogisticRegression(max_iter=10000)\n",
        "logistic_model.fit(x_train, y_train)\n",
        "\n",
        "# Hacer predicciones en el conjunto de test\n",
        "y_pred_logistic = logistic_model.predict(x_test)\n"
      ],
      "metadata": {
        "id": "2N2yu-66p1iU"
      },
      "execution_count": 33,
      "outputs": []
    },
    {
      "cell_type": "code",
      "source": [
        "from sklearn.tree import DecisionTreeClassifier\n",
        "\n",
        "# Inicializar y entrenar el modelo\n",
        "tree_model = DecisionTreeClassifier()\n",
        "tree_model.fit(x_train, y_train)\n",
        "\n",
        "# Hacer predicciones en el conjunto de test\n",
        "y_pred_tree = tree_model.predict(x_test)\n"
      ],
      "metadata": {
        "id": "dh4n-V7mvQIW"
      },
      "execution_count": 34,
      "outputs": []
    },
    {
      "cell_type": "code",
      "source": [
        "import tensorflow as tf\n",
        "from tensorflow.keras.models import Sequential\n",
        "from tensorflow.keras.layers import Dense\n",
        "\n",
        "# Construir el modelo\n",
        "neural_model = Sequential()\n",
        "neural_model.add(Dense(14, activation='elu', input_dim=x_train.shape[1]))\n",
        "neural_model.add(Dense(18, activation='gelu'))\n",
        "neural_model.add(Dense(7, activation='gelu'))\n",
        "neural_model.add(Dense(19, activation='relu'))\n",
        "neural_model.add(Dense(1, activation='sigmoid'))\n",
        "\n",
        "# Compilar el modelo\n",
        "neural_model.compile(optimizer='adam', loss='binary_crossentropy', metrics=['accuracy'])\n",
        "\n",
        "# Entrenar el modelo\n",
        "neural_model.fit(x_train, y_train, epochs=100, batch_size=16, validation_data=(x_test, y_test))\n",
        "\n",
        "# Hacer predicciones en el conjunto de test\n",
        "y_pred_neural = (neural_model.predict(x_test) > 0.5).astype(\"int32\")\n"
      ],
      "metadata": {
        "colab": {
          "base_uri": "https://localhost:8080/"
        },
        "id": "CGFtzgPvvT9D",
        "outputId": "9a2c1ee8-73ea-40dc-c954-78e1c2e45dcd"
      },
      "execution_count": 35,
      "outputs": [
        {
          "output_type": "stream",
          "name": "stdout",
          "text": [
            "Epoch 1/100\n",
            "45/45 [==============================] - 2s 8ms/step - loss: 0.7229 - accuracy: 0.5849 - val_loss: 0.7887 - val_accuracy: 0.5000\n",
            "Epoch 2/100\n",
            "45/45 [==============================] - 0s 3ms/step - loss: 0.6526 - accuracy: 0.6396 - val_loss: 0.7263 - val_accuracy: 0.5337\n",
            "Epoch 3/100\n",
            "45/45 [==============================] - 0s 3ms/step - loss: 0.6464 - accuracy: 0.6396 - val_loss: 0.7368 - val_accuracy: 0.5169\n",
            "Epoch 4/100\n",
            "45/45 [==============================] - 0s 3ms/step - loss: 0.6465 - accuracy: 0.6438 - val_loss: 0.7238 - val_accuracy: 0.5281\n",
            "Epoch 5/100\n",
            "45/45 [==============================] - 0s 3ms/step - loss: 0.6433 - accuracy: 0.6424 - val_loss: 0.7686 - val_accuracy: 0.5112\n",
            "Epoch 6/100\n",
            "45/45 [==============================] - 0s 3ms/step - loss: 0.6430 - accuracy: 0.6424 - val_loss: 0.7282 - val_accuracy: 0.5506\n",
            "Epoch 7/100\n",
            "45/45 [==============================] - 0s 3ms/step - loss: 0.6416 - accuracy: 0.6466 - val_loss: 0.7167 - val_accuracy: 0.5393\n",
            "Epoch 8/100\n",
            "45/45 [==============================] - 0s 3ms/step - loss: 0.6387 - accuracy: 0.6452 - val_loss: 0.8111 - val_accuracy: 0.5112\n",
            "Epoch 9/100\n",
            "45/45 [==============================] - 0s 3ms/step - loss: 0.6413 - accuracy: 0.6438 - val_loss: 0.8660 - val_accuracy: 0.5225\n",
            "Epoch 10/100\n",
            "45/45 [==============================] - 0s 3ms/step - loss: 0.6411 - accuracy: 0.6424 - val_loss: 0.7987 - val_accuracy: 0.5056\n",
            "Epoch 11/100\n",
            "45/45 [==============================] - 0s 3ms/step - loss: 0.6352 - accuracy: 0.6494 - val_loss: 0.8125 - val_accuracy: 0.4888\n",
            "Epoch 12/100\n",
            "45/45 [==============================] - 0s 3ms/step - loss: 0.6365 - accuracy: 0.6424 - val_loss: 0.8374 - val_accuracy: 0.4719\n",
            "Epoch 13/100\n",
            "45/45 [==============================] - 0s 3ms/step - loss: 0.6299 - accuracy: 0.6494 - val_loss: 0.8019 - val_accuracy: 0.4888\n",
            "Epoch 14/100\n",
            "45/45 [==============================] - 0s 3ms/step - loss: 0.6291 - accuracy: 0.6536 - val_loss: 0.7603 - val_accuracy: 0.4831\n",
            "Epoch 15/100\n",
            "45/45 [==============================] - 0s 3ms/step - loss: 0.6253 - accuracy: 0.6564 - val_loss: 0.8762 - val_accuracy: 0.4944\n",
            "Epoch 16/100\n",
            "45/45 [==============================] - 0s 3ms/step - loss: 0.6303 - accuracy: 0.6536 - val_loss: 0.8183 - val_accuracy: 0.4831\n",
            "Epoch 17/100\n",
            "45/45 [==============================] - 0s 3ms/step - loss: 0.6204 - accuracy: 0.6550 - val_loss: 0.7115 - val_accuracy: 0.5393\n",
            "Epoch 18/100\n",
            "45/45 [==============================] - 0s 3ms/step - loss: 0.6145 - accuracy: 0.6634 - val_loss: 0.8374 - val_accuracy: 0.5225\n",
            "Epoch 19/100\n",
            "45/45 [==============================] - 0s 3ms/step - loss: 0.6060 - accuracy: 0.6592 - val_loss: 0.7804 - val_accuracy: 0.5449\n",
            "Epoch 20/100\n",
            "45/45 [==============================] - 0s 3ms/step - loss: 0.5989 - accuracy: 0.6760 - val_loss: 0.7685 - val_accuracy: 0.5393\n",
            "Epoch 21/100\n",
            "45/45 [==============================] - 0s 3ms/step - loss: 0.5857 - accuracy: 0.6999 - val_loss: 0.7791 - val_accuracy: 0.5112\n",
            "Epoch 22/100\n",
            "45/45 [==============================] - 0s 3ms/step - loss: 0.5676 - accuracy: 0.6957 - val_loss: 0.6935 - val_accuracy: 0.6292\n",
            "Epoch 23/100\n",
            "45/45 [==============================] - 0s 4ms/step - loss: 0.5527 - accuracy: 0.7195 - val_loss: 0.7478 - val_accuracy: 0.5787\n",
            "Epoch 24/100\n",
            "45/45 [==============================] - 0s 4ms/step - loss: 0.5503 - accuracy: 0.7251 - val_loss: 0.6734 - val_accuracy: 0.6348\n",
            "Epoch 25/100\n",
            "45/45 [==============================] - 0s 5ms/step - loss: 0.5122 - accuracy: 0.7756 - val_loss: 0.7238 - val_accuracy: 0.6067\n",
            "Epoch 26/100\n",
            "45/45 [==============================] - 0s 5ms/step - loss: 0.5046 - accuracy: 0.7714 - val_loss: 0.6307 - val_accuracy: 0.6742\n",
            "Epoch 27/100\n",
            "45/45 [==============================] - 0s 4ms/step - loss: 0.5004 - accuracy: 0.7686 - val_loss: 0.6174 - val_accuracy: 0.6742\n",
            "Epoch 28/100\n",
            "45/45 [==============================] - 0s 5ms/step - loss: 0.4934 - accuracy: 0.7700 - val_loss: 0.6023 - val_accuracy: 0.6966\n",
            "Epoch 29/100\n",
            "45/45 [==============================] - 0s 4ms/step - loss: 0.4916 - accuracy: 0.7868 - val_loss: 0.6448 - val_accuracy: 0.6742\n",
            "Epoch 30/100\n",
            "45/45 [==============================] - 0s 5ms/step - loss: 0.4757 - accuracy: 0.7896 - val_loss: 0.6099 - val_accuracy: 0.6685\n",
            "Epoch 31/100\n",
            "45/45 [==============================] - 0s 5ms/step - loss: 0.4762 - accuracy: 0.7994 - val_loss: 0.6123 - val_accuracy: 0.6966\n",
            "Epoch 32/100\n",
            "45/45 [==============================] - 0s 4ms/step - loss: 0.4801 - accuracy: 0.7854 - val_loss: 0.6036 - val_accuracy: 0.6910\n",
            "Epoch 33/100\n",
            "45/45 [==============================] - 0s 5ms/step - loss: 0.4780 - accuracy: 0.7910 - val_loss: 0.6631 - val_accuracy: 0.6685\n",
            "Epoch 34/100\n",
            "45/45 [==============================] - 0s 4ms/step - loss: 0.4718 - accuracy: 0.7868 - val_loss: 0.6729 - val_accuracy: 0.6685\n",
            "Epoch 35/100\n",
            "45/45 [==============================] - 0s 4ms/step - loss: 0.4685 - accuracy: 0.7938 - val_loss: 0.7104 - val_accuracy: 0.6404\n",
            "Epoch 36/100\n",
            "45/45 [==============================] - 0s 3ms/step - loss: 0.4683 - accuracy: 0.7938 - val_loss: 0.6439 - val_accuracy: 0.6629\n",
            "Epoch 37/100\n",
            "45/45 [==============================] - 0s 3ms/step - loss: 0.4550 - accuracy: 0.8050 - val_loss: 0.6386 - val_accuracy: 0.6910\n",
            "Epoch 38/100\n",
            "45/45 [==============================] - 0s 3ms/step - loss: 0.4648 - accuracy: 0.7952 - val_loss: 0.7835 - val_accuracy: 0.6124\n",
            "Epoch 39/100\n",
            "45/45 [==============================] - 0s 3ms/step - loss: 0.4671 - accuracy: 0.7994 - val_loss: 0.6035 - val_accuracy: 0.7079\n",
            "Epoch 40/100\n",
            "45/45 [==============================] - 0s 3ms/step - loss: 0.4485 - accuracy: 0.8065 - val_loss: 0.6132 - val_accuracy: 0.7079\n",
            "Epoch 41/100\n",
            "45/45 [==============================] - 0s 3ms/step - loss: 0.4521 - accuracy: 0.8036 - val_loss: 0.5508 - val_accuracy: 0.7584\n",
            "Epoch 42/100\n",
            "45/45 [==============================] - 0s 3ms/step - loss: 0.4453 - accuracy: 0.8163 - val_loss: 0.6162 - val_accuracy: 0.6966\n",
            "Epoch 43/100\n",
            "45/45 [==============================] - 0s 3ms/step - loss: 0.4407 - accuracy: 0.8107 - val_loss: 0.6722 - val_accuracy: 0.6910\n",
            "Epoch 44/100\n",
            "45/45 [==============================] - 0s 3ms/step - loss: 0.4556 - accuracy: 0.8065 - val_loss: 0.5795 - val_accuracy: 0.7360\n",
            "Epoch 45/100\n",
            "45/45 [==============================] - 0s 3ms/step - loss: 0.4571 - accuracy: 0.8036 - val_loss: 0.8254 - val_accuracy: 0.6292\n",
            "Epoch 46/100\n",
            "45/45 [==============================] - 0s 3ms/step - loss: 0.4546 - accuracy: 0.7952 - val_loss: 0.5254 - val_accuracy: 0.7640\n",
            "Epoch 47/100\n",
            "45/45 [==============================] - 0s 3ms/step - loss: 0.4409 - accuracy: 0.8093 - val_loss: 0.5921 - val_accuracy: 0.7360\n",
            "Epoch 48/100\n",
            "45/45 [==============================] - 0s 3ms/step - loss: 0.4407 - accuracy: 0.8149 - val_loss: 0.6165 - val_accuracy: 0.7022\n",
            "Epoch 49/100\n",
            "45/45 [==============================] - 0s 3ms/step - loss: 0.4370 - accuracy: 0.8149 - val_loss: 0.5820 - val_accuracy: 0.7528\n",
            "Epoch 50/100\n",
            "45/45 [==============================] - 0s 3ms/step - loss: 0.4530 - accuracy: 0.8177 - val_loss: 0.5453 - val_accuracy: 0.7921\n",
            "Epoch 51/100\n",
            "45/45 [==============================] - 0s 3ms/step - loss: 0.4403 - accuracy: 0.8149 - val_loss: 0.6840 - val_accuracy: 0.7135\n",
            "Epoch 52/100\n",
            "45/45 [==============================] - 0s 3ms/step - loss: 0.4369 - accuracy: 0.7938 - val_loss: 0.5949 - val_accuracy: 0.7303\n",
            "Epoch 53/100\n",
            "45/45 [==============================] - 0s 3ms/step - loss: 0.4336 - accuracy: 0.8149 - val_loss: 0.5815 - val_accuracy: 0.7528\n",
            "Epoch 54/100\n",
            "45/45 [==============================] - 0s 3ms/step - loss: 0.4559 - accuracy: 0.7854 - val_loss: 0.6133 - val_accuracy: 0.7303\n",
            "Epoch 55/100\n",
            "45/45 [==============================] - 0s 3ms/step - loss: 0.4761 - accuracy: 0.7714 - val_loss: 0.5801 - val_accuracy: 0.7528\n",
            "Epoch 56/100\n",
            "45/45 [==============================] - 0s 3ms/step - loss: 0.4318 - accuracy: 0.8135 - val_loss: 0.5785 - val_accuracy: 0.7528\n",
            "Epoch 57/100\n",
            "45/45 [==============================] - 0s 4ms/step - loss: 0.4350 - accuracy: 0.8093 - val_loss: 0.6742 - val_accuracy: 0.7303\n",
            "Epoch 58/100\n",
            "45/45 [==============================] - 0s 3ms/step - loss: 0.4337 - accuracy: 0.8149 - val_loss: 0.6726 - val_accuracy: 0.7079\n",
            "Epoch 59/100\n",
            "45/45 [==============================] - 0s 3ms/step - loss: 0.4411 - accuracy: 0.8093 - val_loss: 0.5898 - val_accuracy: 0.7247\n",
            "Epoch 60/100\n",
            "45/45 [==============================] - 0s 3ms/step - loss: 0.4279 - accuracy: 0.8247 - val_loss: 0.6767 - val_accuracy: 0.7247\n",
            "Epoch 61/100\n",
            "45/45 [==============================] - 0s 3ms/step - loss: 0.4289 - accuracy: 0.8121 - val_loss: 0.6612 - val_accuracy: 0.7303\n",
            "Epoch 62/100\n",
            "45/45 [==============================] - 0s 3ms/step - loss: 0.4253 - accuracy: 0.8205 - val_loss: 0.6322 - val_accuracy: 0.7472\n",
            "Epoch 63/100\n",
            "45/45 [==============================] - 0s 3ms/step - loss: 0.4316 - accuracy: 0.8247 - val_loss: 0.6082 - val_accuracy: 0.7360\n",
            "Epoch 64/100\n",
            "45/45 [==============================] - 0s 3ms/step - loss: 0.4171 - accuracy: 0.8219 - val_loss: 0.5979 - val_accuracy: 0.7472\n",
            "Epoch 65/100\n",
            "45/45 [==============================] - 0s 3ms/step - loss: 0.4350 - accuracy: 0.8135 - val_loss: 0.5803 - val_accuracy: 0.7697\n",
            "Epoch 66/100\n",
            "45/45 [==============================] - 0s 3ms/step - loss: 0.4197 - accuracy: 0.8303 - val_loss: 0.6445 - val_accuracy: 0.7416\n",
            "Epoch 67/100\n",
            "45/45 [==============================] - 0s 3ms/step - loss: 0.4274 - accuracy: 0.8289 - val_loss: 0.5987 - val_accuracy: 0.7416\n",
            "Epoch 68/100\n",
            "45/45 [==============================] - 0s 3ms/step - loss: 0.4219 - accuracy: 0.8177 - val_loss: 0.6337 - val_accuracy: 0.7247\n",
            "Epoch 69/100\n",
            "45/45 [==============================] - 0s 3ms/step - loss: 0.4237 - accuracy: 0.8065 - val_loss: 0.6840 - val_accuracy: 0.7360\n",
            "Epoch 70/100\n",
            "45/45 [==============================] - 0s 3ms/step - loss: 0.4223 - accuracy: 0.8135 - val_loss: 0.6541 - val_accuracy: 0.7247\n",
            "Epoch 71/100\n",
            "45/45 [==============================] - 0s 3ms/step - loss: 0.4163 - accuracy: 0.8303 - val_loss: 0.6320 - val_accuracy: 0.7360\n",
            "Epoch 72/100\n",
            "45/45 [==============================] - 0s 3ms/step - loss: 0.4226 - accuracy: 0.8177 - val_loss: 0.6775 - val_accuracy: 0.7360\n",
            "Epoch 73/100\n",
            "45/45 [==============================] - 0s 3ms/step - loss: 0.4294 - accuracy: 0.8121 - val_loss: 0.5638 - val_accuracy: 0.7921\n",
            "Epoch 74/100\n",
            "45/45 [==============================] - 0s 3ms/step - loss: 0.4334 - accuracy: 0.8233 - val_loss: 0.7515 - val_accuracy: 0.7022\n",
            "Epoch 75/100\n",
            "45/45 [==============================] - 0s 3ms/step - loss: 0.4202 - accuracy: 0.8163 - val_loss: 0.6161 - val_accuracy: 0.7472\n",
            "Epoch 76/100\n",
            "45/45 [==============================] - 0s 3ms/step - loss: 0.4253 - accuracy: 0.8345 - val_loss: 0.6742 - val_accuracy: 0.7416\n",
            "Epoch 77/100\n",
            "45/45 [==============================] - 0s 3ms/step - loss: 0.4252 - accuracy: 0.8261 - val_loss: 0.6593 - val_accuracy: 0.7247\n",
            "Epoch 78/100\n",
            "45/45 [==============================] - 0s 3ms/step - loss: 0.4254 - accuracy: 0.8219 - val_loss: 0.6341 - val_accuracy: 0.7247\n",
            "Epoch 79/100\n",
            "45/45 [==============================] - 0s 3ms/step - loss: 0.4233 - accuracy: 0.8205 - val_loss: 0.6031 - val_accuracy: 0.7416\n",
            "Epoch 80/100\n",
            "45/45 [==============================] - 0s 3ms/step - loss: 0.4108 - accuracy: 0.8177 - val_loss: 0.5838 - val_accuracy: 0.7809\n",
            "Epoch 81/100\n",
            "45/45 [==============================] - 0s 3ms/step - loss: 0.4069 - accuracy: 0.8247 - val_loss: 0.7909 - val_accuracy: 0.6966\n",
            "Epoch 82/100\n",
            "45/45 [==============================] - 0s 3ms/step - loss: 0.4206 - accuracy: 0.8261 - val_loss: 0.5692 - val_accuracy: 0.7753\n",
            "Epoch 83/100\n",
            "45/45 [==============================] - 0s 4ms/step - loss: 0.4097 - accuracy: 0.8275 - val_loss: 0.5851 - val_accuracy: 0.7753\n",
            "Epoch 84/100\n",
            "45/45 [==============================] - 0s 3ms/step - loss: 0.4511 - accuracy: 0.7896 - val_loss: 0.7253 - val_accuracy: 0.7135\n",
            "Epoch 85/100\n",
            "45/45 [==============================] - 0s 3ms/step - loss: 0.4394 - accuracy: 0.8079 - val_loss: 0.5972 - val_accuracy: 0.7584\n",
            "Epoch 86/100\n",
            "45/45 [==============================] - 0s 3ms/step - loss: 0.4109 - accuracy: 0.8247 - val_loss: 0.6222 - val_accuracy: 0.7528\n",
            "Epoch 87/100\n",
            "45/45 [==============================] - 0s 3ms/step - loss: 0.4025 - accuracy: 0.8443 - val_loss: 0.5749 - val_accuracy: 0.7809\n",
            "Epoch 88/100\n",
            "45/45 [==============================] - 0s 3ms/step - loss: 0.4091 - accuracy: 0.8303 - val_loss: 0.5838 - val_accuracy: 0.7865\n",
            "Epoch 89/100\n",
            "45/45 [==============================] - 0s 3ms/step - loss: 0.4007 - accuracy: 0.8247 - val_loss: 0.6317 - val_accuracy: 0.7247\n",
            "Epoch 90/100\n",
            "45/45 [==============================] - 0s 3ms/step - loss: 0.4226 - accuracy: 0.8163 - val_loss: 0.6663 - val_accuracy: 0.7247\n",
            "Epoch 91/100\n",
            "45/45 [==============================] - 0s 3ms/step - loss: 0.3983 - accuracy: 0.8387 - val_loss: 0.6849 - val_accuracy: 0.7360\n",
            "Epoch 92/100\n",
            "45/45 [==============================] - 0s 3ms/step - loss: 0.3986 - accuracy: 0.8303 - val_loss: 0.6062 - val_accuracy: 0.7697\n",
            "Epoch 93/100\n",
            "45/45 [==============================] - 0s 3ms/step - loss: 0.4101 - accuracy: 0.8345 - val_loss: 0.6034 - val_accuracy: 0.7697\n",
            "Epoch 94/100\n",
            "45/45 [==============================] - 0s 3ms/step - loss: 0.4210 - accuracy: 0.8275 - val_loss: 0.6248 - val_accuracy: 0.7303\n",
            "Epoch 95/100\n",
            "45/45 [==============================] - 0s 3ms/step - loss: 0.4174 - accuracy: 0.8163 - val_loss: 0.6214 - val_accuracy: 0.7528\n",
            "Epoch 96/100\n",
            "45/45 [==============================] - 0s 3ms/step - loss: 0.4027 - accuracy: 0.8401 - val_loss: 0.6702 - val_accuracy: 0.7416\n",
            "Epoch 97/100\n",
            "45/45 [==============================] - 0s 3ms/step - loss: 0.4029 - accuracy: 0.8163 - val_loss: 0.6059 - val_accuracy: 0.7697\n",
            "Epoch 98/100\n",
            "45/45 [==============================] - 0s 3ms/step - loss: 0.4024 - accuracy: 0.8303 - val_loss: 0.6287 - val_accuracy: 0.7640\n",
            "Epoch 99/100\n",
            "45/45 [==============================] - 0s 3ms/step - loss: 0.4114 - accuracy: 0.8163 - val_loss: 0.6535 - val_accuracy: 0.7528\n",
            "Epoch 100/100\n",
            "45/45 [==============================] - 0s 3ms/step - loss: 0.4003 - accuracy: 0.8233 - val_loss: 0.6503 - val_accuracy: 0.7472\n",
            "6/6 [==============================] - 0s 3ms/step\n"
          ]
        }
      ]
    },
    {
      "cell_type": "code",
      "source": [
        "from sklearn.ensemble import AdaBoostClassifier\n",
        "from sklearn.tree import DecisionTreeClassifier\n",
        "\n",
        "# Definir el modelo base (un árbol de decisión)\n",
        "base_model = DecisionTreeClassifier(max_depth=1)\n",
        "\n",
        "# Crear el modelo AdaBoost\n",
        "ada_model = AdaBoostClassifier(base_estimator=base_model, n_estimators=150)\n",
        "\n",
        "# Entrenar el modelo\n",
        "ada_model.fit(x_train, y_train)\n",
        "\n",
        "# Hacer predicciones\n",
        "y_pred_adaboost = ada_model.predict(x_test)\n"
      ],
      "metadata": {
        "colab": {
          "base_uri": "https://localhost:8080/"
        },
        "id": "3_p8_rlkvUQy",
        "outputId": "a8048384-ebfb-4837-9ea9-55da9cfe0b0c"
      },
      "execution_count": 36,
      "outputs": [
        {
          "output_type": "stream",
          "name": "stderr",
          "text": [
            "/usr/local/lib/python3.10/dist-packages/sklearn/ensemble/_base.py:166: FutureWarning: `base_estimator` was renamed to `estimator` in version 1.2 and will be removed in 1.4.\n",
            "  warnings.warn(\n"
          ]
        }
      ]
    },
    {
      "cell_type": "code",
      "source": [
        "from sklearn.metrics import precision_score, recall_score, f1_score\n",
        "\n",
        "# Precisión\n",
        "precision_logistic = precision_score(y_test, y_pred_logistic)\n",
        "precision_tree = precision_score(y_test, y_pred_tree)\n",
        "precision_neural = precision_score(y_test, y_pred_neural)\n",
        "precision_adaboost = precision_score(y_test, y_pred_adaboost)\n",
        "\n",
        "# Recall\n",
        "recall_logistic = recall_score(y_test, y_pred_logistic)\n",
        "recall_tree = recall_score(y_test, y_pred_tree)\n",
        "recall_neural = recall_score(y_test, y_pred_neural)\n",
        "recall_adaboost = recall_score(y_test, y_pred_adaboost)\n",
        "\n",
        "# F1-Score\n",
        "f1_logistic = f1_score(y_test, y_pred_logistic)\n",
        "f1_tree = f1_score(y_test, y_pred_tree)\n",
        "f1_neural = f1_score(y_test, y_pred_neural)\n",
        "f1_adaboost = f1_score(y_test, y_pred_adaboost)\n",
        "\n",
        "print(\"Precision de la Regresión Logística:\", precision_logistic)\n",
        "print(\"Recall de la Regresión Logística:\", recall_logistic)\n",
        "print(\"F1-score de la Regresión Logística:\", f1_logistic)\n",
        "print(\"\\n\")\n",
        "print(\"Precision del Árbol de Decisión:\", precision_tree)\n",
        "print(\"Recall del Árbol de Decisión:\", recall_tree)\n",
        "print(\"F1-score del Árbol de Decisión:\", f1_tree)\n",
        "print(\"\\n\")\n",
        "print(\"Precision de la Red Neuronal:\", precision_neural)\n",
        "print(\"Recall de la Red Neuronal:\", recall_neural)\n",
        "print(\"F1-score de la Red Neuronal:\", f1_neural)\n",
        "print(\"\\n\")\n",
        "print(\"Precision de AdaBoost:\", precision_adaboost)\n",
        "print(\"Recall de AdaBoost:\", recall_adaboost)\n",
        "print(\"F1-score de AdaBoost:\", f1_adaboost)\n"
      ],
      "metadata": {
        "colab": {
          "base_uri": "https://localhost:8080/"
        },
        "id": "g5AQxT1BvULw",
        "outputId": "95aa0309-d594-495e-a966-055f3a28ce87"
      },
      "execution_count": 37,
      "outputs": [
        {
          "output_type": "stream",
          "name": "stdout",
          "text": [
            "Precision de la Regresión Logística: 0.7857142857142857\n",
            "Recall de la Regresión Logística: 0.7638888888888888\n",
            "F1-score de la Regresión Logística: 0.7746478873239437\n",
            "\n",
            "\n",
            "Precision del Árbol de Decisión: 0.6835443037974683\n",
            "Recall del Árbol de Decisión: 0.75\n",
            "F1-score del Árbol de Decisión: 0.7152317880794701\n",
            "\n",
            "\n",
            "Precision de la Red Neuronal: 0.684931506849315\n",
            "Recall de la Red Neuronal: 0.6944444444444444\n",
            "F1-score de la Red Neuronal: 0.6896551724137931\n",
            "\n",
            "\n",
            "Precision de AdaBoost: 0.6626506024096386\n",
            "Recall de AdaBoost: 0.7638888888888888\n",
            "F1-score de AdaBoost: 0.7096774193548386\n"
          ]
        }
      ]
    },
    {
      "cell_type": "code",
      "source": [
        "# Obten las probabilidades predichas para la clase\n",
        "#x_train, y_train\n",
        "y_probs_logistic = logistic_model.predict_proba(x_train)[:, 1]\n",
        "\n",
        "thresholds = np.linspace(0, 1, 20)  # 20 umbrales desde 0 hasta 1\n",
        "best_threshold = 0\n",
        "best_difference = float('inf')  # inicializamos con un valor muy alto\n",
        "\n",
        "for threshold in thresholds:\n",
        "    y_pred_threshold = (y_probs_logistic > threshold).astype(int)  # Convertir probabilidades en 1 o 0 basado en el umbral\n",
        "    precision = precision_score(y_train, y_pred_threshold)\n",
        "    recall = recall_score(y_train, y_pred_threshold)\n",
        "\n",
        "    # Aquí simplemente estoy tomando el umbral donde la diferencia entre precision y recall es mínima\n",
        "    # Puedes usar otros criterios según tus necesidades\n",
        "    difference = abs(precision - recall)\n",
        "    if difference < best_difference:\n",
        "        best_difference = difference\n",
        "        best_threshold = threshold\n",
        "\n",
        "    print(f\"Umbral: {threshold:.2f} | Precisión: {precision:.2f} | Recall: {recall:.2f}\")\n",
        "\n",
        "print(f\"Mejor umbral basado en la mínima diferencia entre precisión y recall: {best_threshold:.2f}\")\n"
      ],
      "metadata": {
        "colab": {
          "base_uri": "https://localhost:8080/"
        },
        "id": "Rd8TRQ2aoRdX",
        "outputId": "cc4c181b-d9c2-4cb4-d21e-d8f95787e440"
      },
      "execution_count": 38,
      "outputs": [
        {
          "output_type": "stream",
          "name": "stdout",
          "text": [
            "Umbral: 0.00 | Precisión: 0.38 | Recall: 1.00\n",
            "Umbral: 0.05 | Precisión: 0.39 | Recall: 1.00\n",
            "Umbral: 0.11 | Precisión: 0.47 | Recall: 0.92\n",
            "Umbral: 0.16 | Precisión: 0.56 | Recall: 0.89\n",
            "Umbral: 0.21 | Precisión: 0.62 | Recall: 0.88\n",
            "Umbral: 0.26 | Precisión: 0.64 | Recall: 0.87\n",
            "Umbral: 0.32 | Precisión: 0.66 | Recall: 0.81\n",
            "Umbral: 0.37 | Precisión: 0.68 | Recall: 0.77\n",
            "Umbral: 0.42 | Precisión: 0.71 | Recall: 0.74\n",
            "Umbral: 0.47 | Precisión: 0.74 | Recall: 0.72\n",
            "Umbral: 0.53 | Precisión: 0.78 | Recall: 0.68\n",
            "Umbral: 0.58 | Precisión: 0.81 | Recall: 0.65\n",
            "Umbral: 0.63 | Precisión: 0.85 | Recall: 0.60\n",
            "Umbral: 0.68 | Precisión: 0.88 | Recall: 0.54\n",
            "Umbral: 0.74 | Precisión: 0.93 | Recall: 0.44\n",
            "Umbral: 0.79 | Precisión: 0.95 | Recall: 0.34\n",
            "Umbral: 0.84 | Precisión: 0.95 | Recall: 0.27\n",
            "Umbral: 0.89 | Precisión: 0.98 | Recall: 0.18\n",
            "Umbral: 0.95 | Precisión: 1.00 | Recall: 0.01\n",
            "Umbral: 1.00 | Precisión: 0.00 | Recall: 0.00\n",
            "Mejor umbral basado en la mínima diferencia entre precisión y recall: 1.00\n"
          ]
        },
        {
          "output_type": "stream",
          "name": "stderr",
          "text": [
            "/usr/local/lib/python3.10/dist-packages/sklearn/metrics/_classification.py:1344: UndefinedMetricWarning: Precision is ill-defined and being set to 0.0 due to no predicted samples. Use `zero_division` parameter to control this behavior.\n",
            "  _warn_prf(average, modifier, msg_start, len(result))\n"
          ]
        }
      ]
    },
    {
      "cell_type": "code",
      "source": [
        "from sklearn.metrics import roc_curve, roc_auc_score\n",
        "import matplotlib.pyplot as plt\n",
        "\n",
        "y_probs_logistic = logistic_model.predict_proba(x_train)[:, 1]\n",
        "fpr, tpr, thresholds = roc_curve(y_train, y_probs_logistic)\n",
        "\n",
        "plt.plot(fpr, tpr, label='ROC curve (AUC = %0.2f)' % roc_auc_score(y_train, y_probs_logistic))\n",
        "plt.plot([0, 1], [0, 1], 'k--')\n",
        "plt.xlabel('False Positive Rate')\n",
        "plt.ylabel('True Positive Rate')\n",
        "plt.title('ROC Curve')\n",
        "plt.legend(loc='best')\n",
        "plt.show()\n"
      ],
      "metadata": {
        "colab": {
          "base_uri": "https://localhost:8080/",
          "height": 472
        },
        "id": "rPHZN3aOp7Yn",
        "outputId": "f748593f-6147-46bb-c006-d969428ff1cc"
      },
      "execution_count": 39,
      "outputs": [
        {
          "output_type": "display_data",
          "data": {
            "text/plain": [
              "<Figure size 640x480 with 1 Axes>"
            ],
            "image/png": "[encoded data removed]"
          },
          "metadata": {}
        }
      ]
    },
    {
      "cell_type": "code",
      "source": [
        "ds_send = pd.read_csv(\"./titanic/test.csv\")\n",
        "ds_send.head(1)"
      ],
      "metadata": {
        "id": "MoO2D2H6yist",
        "colab": {
          "base_uri": "https://localhost:8080/",
          "height": 81
        },
        "outputId": "d2cd24fa-ec39-4d4c-b86e-35d0a15a3a25"
      },
      "execution_count": 40,
      "outputs": [
        {
          "output_type": "execute_result",
          "data": {
            "text/plain": [
              "   PassengerId  Pclass              Name   Sex   Age  SibSp  Parch  Ticket  \\\n",
              "0          892       3  Kelly, Mr. James  male  34.5      0      0  330911   \n",
              "\n",
              "     Fare Cabin Embarked  \n",
              "0  7.8292   NaN        Q  "
            ],
            "text/html": [
              "\n",
              "  <div id=\"df-a2e8cb0f-1c03-4735-ad13-5ccc5323b59c\" class=\"colab-df-container\">\n",
              "    <div>\n",
              "<style scoped>\n",
              "    .dataframe tbody tr th:only-of-type {\n",
              "        vertical-align: middle;\n",
              "    }\n",
              "\n",
              "    .dataframe tbody tr th {\n",
              "        vertical-align: top;\n",
              "    }\n",
              "\n",
              "    .dataframe thead th {\n",
              "        text-align: right;\n",
              "    }\n",
              "</style>\n",
              "<table border=\"1\" class=\"dataframe\">\n",
              "  <thead>\n",
              "    <tr style=\"text-align: right;\">\n",
              "      <th></th>\n",
              "      <th>PassengerId</th>\n",
              "      <th>Pclass</th>\n",
              "      <th>Name</th>\n",
              "      <th>Sex</th>\n",
              "      <th>Age</th>\n",
              "      <th>SibSp</th>\n",
              "      <th>Parch</th>\n",
              "      <th>Ticket</th>\n",
              "      <th>Fare</th>\n",
              "      <th>Cabin</th>\n",
              "      <th>Embarked</th>\n",
              "    </tr>\n",
              "  </thead>\n",
              "  <tbody>\n",
              "    <tr>\n",
              "      <th>0</th>\n",
              "      <td>892</td>\n",
              "      <td>3</td>\n",
              "      <td>Kelly, Mr. James</td>\n",
              "      <td>male</td>\n",
              "      <td>34.5</td>\n",
              "      <td>0</td>\n",
              "      <td>0</td>\n",
              "      <td>330911</td>\n",
              "      <td>7.8292</td>\n",
              "      <td>NaN</td>\n",
              "      <td>Q</td>\n",
              "    </tr>\n",
              "  </tbody>\n",
              "</table>\n",
              "</div>\n",
              "    <div class=\"colab-df-buttons\">\n",
              "\n",
              "  <div class=\"colab-df-container\">\n",
              "    <button class=\"colab-df-convert\" onclick=\"convertToInteractive('df-a2e8cb0f-1c03-4735-ad13-5ccc5323b59c')\"\n",
              "            title=\"Convert this dataframe to an interactive table.\"\n",
              "            style=\"display:none;\">\n",
              "\n",
              "  <svg xmlns=\"http://www.w3.org/2000/svg\" height=\"24px\" viewBox=\"0 -960 960 960\">\n",
              "    <path d=\"M120-120v-720h720v720H120Zm60-500h600v-160H180v160Zm220 220h160v-160H400v160Zm0 220h160v-160H400v160ZM180-400h160v-160H180v160Zm440 0h160v-160H620v160ZM180-180h160v-160H180v160Zm440 0h160v-160H620v160Z\"/>\n",
              "  </svg>\n",
              "    </button>\n",
              "\n",
              "  <style>\n",
              "    .colab-df-container {\n",
              "      display:flex;\n",
              "      gap: 12px;\n",
              "    }\n",
              "\n",
              "    .colab-df-convert {\n",
              "      background-color: #E8F0FE;\n",
              "      border: none;\n",
              "      border-radius: 50%;\n",
              "      cursor: pointer;\n",
              "      display: none;\n",
              "      fill: #1967D2;\n",
              "      height: 32px;\n",
              "      padding: 0 0 0 0;\n",
              "      width: 32px;\n",
              "    }\n",
              "\n",
              "    .colab-df-convert:hover {\n",
              "      background-color: #E2EBFA;\n",
              "      box-shadow: 0px 1px 2px rgba(60, 64, 67, 0.3), 0px 1px 3px 1px rgba(60, 64, 67, 0.15);\n",
              "      fill: #174EA6;\n",
              "    }\n",
              "\n",
              "    .colab-df-buttons div {\n",
              "      margin-bottom: 4px;\n",
              "    }\n",
              "\n",
              "    [theme=dark] .colab-df-convert {\n",
              "      background-color: #3B4455;\n",
              "      fill: #D2E3FC;\n",
              "    }\n",
              "\n",
              "    [theme=dark] .colab-df-convert:hover {\n",
              "      background-color: #434B5C;\n",
              "      box-shadow: 0px 1px 3px 1px rgba(0, 0, 0, 0.15);\n",
              "      filter: drop-shadow(0px 1px 2px rgba(0, 0, 0, 0.3));\n",
              "      fill: #FFFFFF;\n",
              "    }\n",
              "  </style>\n",
              "\n",
              "    <script>\n",
              "      const buttonEl =\n",
              "        document.querySelector('#df-a2e8cb0f-1c03-4735-ad13-5ccc5323b59c button.colab-df-convert');\n",
              "      buttonEl.style.display =\n",
              "        google.colab.kernel.accessAllowed ? 'block' : 'none';\n",
              "\n",
              "      async function convertToInteractive(key) {\n",
              "        const element = document.querySelector('#df-a2e8cb0f-1c03-4735-ad13-5ccc5323b59c');\n",
              "        const dataTable =\n",
              "          await google.colab.kernel.invokeFunction('convertToInteractive',\n",
              "                                                    [key], {});\n",
              "        if (!dataTable) return;\n",
              "\n",
              "        const docLinkHtml = 'Like what you see? Visit the ' +\n",
              "          '<a target=\"_blank\" href=https://colab.research.google.com/notebooks/data_table.ipynb>data table notebook</a>'\n",
              "          + ' to learn more about interactive tables.';\n",
              "        element.innerHTML = '';\n",
              "        dataTable['output_type'] = 'display_data';\n",
              "        await google.colab.output.renderOutput(dataTable, element);\n",
              "        const docLink = document.createElement('div');\n",
              "        docLink.innerHTML = docLinkHtml;\n",
              "        element.appendChild(docLink);\n",
              "      }\n",
              "    </script>\n",
              "  </div>\n",
              "\n",
              "    </div>\n",
              "  </div>\n"
            ]
          },
          "metadata": {},
          "execution_count": 40
        }
      ]
    },
    {
      "cell_type": "code",
      "source": [
        "d_t_clean = clean(ds_send)\n",
        "d_t_clean[\"OHE_unknown\"] = 0\n",
        "data_pred = d_t_clean.iloc[:,np.r_[0, 11:d_t_clean.shape[1]]]# Seleccionamos desde el 11 ya que no tenemos la columna Suvivor"
      ],
      "metadata": {
        "id": "vXEOvx-3zceA"
      },
      "execution_count": 41,
      "outputs": []
    },
    {
      "cell_type": "markdown",
      "source": [
        "Dado que el modelo logistico fue el que tuvo mayor"
      ],
      "metadata": {
        "id": "ociSn-GNlpNE"
      }
    },
    {
      "cell_type": "code",
      "source": [
        "data_pred.head(1)"
      ],
      "metadata": {
        "colab": {
          "base_uri": "https://localhost:8080/",
          "height": 81
        },
        "id": "8_AVfmSvcyrL",
        "outputId": "1d7ac726-8f64-48fe-c7fc-5d44827d8301"
      },
      "execution_count": 42,
      "outputs": [
        {
          "output_type": "execute_result",
          "data": {
            "text/plain": [
              "   PassengerId   ID  CLASS  OHE_BUCKET_MR  OHE_BUCKET_NONE  OHE_male  SIBSP  \\\n",
              "0          892  0.0      3              1                0         1      0   \n",
              "\n",
              "   PARCH   AGE  CABIN  OHE_Q  OHE_S  OHE_unknown  \n",
              "0      0  34.5     76      1      0            0  "
            ],
            "text/html": [
              "\n",
              "  <div id=\"df-759ad082-6f4a-4103-9efb-6c1396cc4b7e\" class=\"colab-df-container\">\n",
              "    <div>\n",
              "<style scoped>\n",
              "    .dataframe tbody tr th:only-of-type {\n",
              "        vertical-align: middle;\n",
              "    }\n",
              "\n",
              "    .dataframe tbody tr th {\n",
              "        vertical-align: top;\n",
              "    }\n",
              "\n",
              "    .dataframe thead th {\n",
              "        text-align: right;\n",
              "    }\n",
              "</style>\n",
              "<table border=\"1\" class=\"dataframe\">\n",
              "  <thead>\n",
              "    <tr style=\"text-align: right;\">\n",
              "      <th></th>\n",
              "      <th>PassengerId</th>\n",
              "      <th>ID</th>\n",
              "      <th>CLASS</th>\n",
              "      <th>OHE_BUCKET_MR</th>\n",
              "      <th>OHE_BUCKET_NONE</th>\n",
              "      <th>OHE_male</th>\n",
              "      <th>SIBSP</th>\n",
              "      <th>PARCH</th>\n",
              "      <th>AGE</th>\n",
              "      <th>CABIN</th>\n",
              "      <th>OHE_Q</th>\n",
              "      <th>OHE_S</th>\n",
              "      <th>OHE_unknown</th>\n",
              "    </tr>\n",
              "  </thead>\n",
              "  <tbody>\n",
              "    <tr>\n",
              "      <th>0</th>\n",
              "      <td>892</td>\n",
              "      <td>0.0</td>\n",
              "      <td>3</td>\n",
              "      <td>1</td>\n",
              "      <td>0</td>\n",
              "      <td>1</td>\n",
              "      <td>0</td>\n",
              "      <td>0</td>\n",
              "      <td>34.5</td>\n",
              "      <td>76</td>\n",
              "      <td>1</td>\n",
              "      <td>0</td>\n",
              "      <td>0</td>\n",
              "    </tr>\n",
              "  </tbody>\n",
              "</table>\n",
              "</div>\n",
              "    <div class=\"colab-df-buttons\">\n",
              "\n",
              "  <div class=\"colab-df-container\">\n",
              "    <button class=\"colab-df-convert\" onclick=\"convertToInteractive('df-759ad082-6f4a-4103-9efb-6c1396cc4b7e')\"\n",
              "            title=\"Convert this dataframe to an interactive table.\"\n",
              "            style=\"display:none;\">\n",
              "\n",
              "  <svg xmlns=\"http://www.w3.org/2000/svg\" height=\"24px\" viewBox=\"0 -960 960 960\">\n",
              "    <path d=\"M120-120v-720h720v720H120Zm60-500h600v-160H180v160Zm220 220h160v-160H400v160Zm0 220h160v-160H400v160ZM180-400h160v-160H180v160Zm440 0h160v-160H620v160ZM180-180h160v-160H180v160Zm440 0h160v-160H620v160Z\"/>\n",
              "  </svg>\n",
              "    </button>\n",
              "\n",
              "  <style>\n",
              "    .colab-df-container {\n",
              "      display:flex;\n",
              "      gap: 12px;\n",
              "    }\n",
              "\n",
              "    .colab-df-convert {\n",
              "      background-color: #E8F0FE;\n",
              "      border: none;\n",
              "      border-radius: 50%;\n",
              "      cursor: pointer;\n",
              "      display: none;\n",
              "      fill: #1967D2;\n",
              "      height: 32px;\n",
              "      padding: 0 0 0 0;\n",
              "      width: 32px;\n",
              "    }\n",
              "\n",
              "    .colab-df-convert:hover {\n",
              "      background-color: #E2EBFA;\n",
              "      box-shadow: 0px 1px 2px rgba(60, 64, 67, 0.3), 0px 1px 3px 1px rgba(60, 64, 67, 0.15);\n",
              "      fill: #174EA6;\n",
              "    }\n",
              "\n",
              "    .colab-df-buttons div {\n",
              "      margin-bottom: 4px;\n",
              "    }\n",
              "\n",
              "    [theme=dark] .colab-df-convert {\n",
              "      background-color: #3B4455;\n",
              "      fill: #D2E3FC;\n",
              "    }\n",
              "\n",
              "    [theme=dark] .colab-df-convert:hover {\n",
              "      background-color: #434B5C;\n",
              "      box-shadow: 0px 1px 3px 1px rgba(0, 0, 0, 0.15);\n",
              "      filter: drop-shadow(0px 1px 2px rgba(0, 0, 0, 0.3));\n",
              "      fill: #FFFFFF;\n",
              "    }\n",
              "  </style>\n",
              "\n",
              "    <script>\n",
              "      const buttonEl =\n",
              "        document.querySelector('#df-759ad082-6f4a-4103-9efb-6c1396cc4b7e button.colab-df-convert');\n",
              "      buttonEl.style.display =\n",
              "        google.colab.kernel.accessAllowed ? 'block' : 'none';\n",
              "\n",
              "      async function convertToInteractive(key) {\n",
              "        const element = document.querySelector('#df-759ad082-6f4a-4103-9efb-6c1396cc4b7e');\n",
              "        const dataTable =\n",
              "          await google.colab.kernel.invokeFunction('convertToInteractive',\n",
              "                                                    [key], {});\n",
              "        if (!dataTable) return;\n",
              "\n",
              "        const docLinkHtml = 'Like what you see? Visit the ' +\n",
              "          '<a target=\"_blank\" href=https://colab.research.google.com/notebooks/data_table.ipynb>data table notebook</a>'\n",
              "          + ' to learn more about interactive tables.';\n",
              "        element.innerHTML = '';\n",
              "        dataTable['output_type'] = 'display_data';\n",
              "        await google.colab.output.renderOutput(dataTable, element);\n",
              "        const docLink = document.createElement('div');\n",
              "        docLink.innerHTML = docLinkHtml;\n",
              "        element.appendChild(docLink);\n",
              "      }\n",
              "    </script>\n",
              "  </div>\n",
              "\n",
              "    </div>\n",
              "  </div>\n"
            ]
          },
          "metadata": {},
          "execution_count": 42
        }
      ]
    },
    {
      "cell_type": "code",
      "source": [
        "y_pred_logistic_test = logistic_model.predict(data_pred.iloc[:,1:].to_numpy())"
      ],
      "metadata": {
        "id": "kOWqIcwePe9o"
      },
      "execution_count": 43,
      "outputs": []
    },
    {
      "cell_type": "code",
      "source": [
        "data_pred['Survived'] = y_pred_logistic_test"
      ],
      "metadata": {
        "colab": {
          "base_uri": "https://localhost:8080/"
        },
        "id": "oUADxvjBRSZJ",
        "outputId": "feddcc63-3e9f-4836-d3cf-59e7a69a80aa"
      },
      "execution_count": 44,
      "outputs": [
        {
          "output_type": "stream",
          "name": "stderr",
          "text": [
            "<ipython-input-44-6f3b98732bef>:1: SettingWithCopyWarning: \n",
            "A value is trying to be set on a copy of a slice from a DataFrame.\n",
            "Try using .loc[row_indexer,col_indexer] = value instead\n",
            "\n",
            "See the caveats in the documentation: https://pandas.pydata.org/pandas-docs/stable/user_guide/indexing.html#returning-a-view-versus-a-copy\n",
            "  data_pred['Survived'] = y_pred_logistic_test\n"
          ]
        }
      ]
    },
    {
      "cell_type": "code",
      "source": [
        "data_pred[[\"PassengerId\",\"Survived\"]].to_csv(\"gender_submission.csv\",index=False)\n",
        "#Obtuvimos un Score: 0.77511\n",
        "#Intentaremos mejorar esa puntuacion con ingenieria de funciones despues."
      ],
      "metadata": {
        "id": "jMuC9RlwRhEE"
      },
      "execution_count": 45,
      "outputs": []
    },
    {
      "cell_type": "markdown",
      "source": [
        "Despliegue del modelo, usaremos 2 formas, una es cargar los pesos del modelo y descargarlos remotamente y subirlo a un endpoint."
      ],
      "metadata": {
        "id": "zeds7o1KhWyO"
      }
    },
    {
      "cell_type": "code",
      "source": [
        "from joblib import dump, load\n",
        "dump(logistic_model, 'logistic_model.joblib')"
      ],
      "metadata": {
        "colab": {
          "base_uri": "https://localhost:8080/"
        },
        "id": "FUCoYmXYS5fv",
        "outputId": "079833c7-f78b-4f32-c3cc-468ade61ba24"
      },
      "execution_count": 46,
      "outputs": [
        {
          "output_type": "execute_result",
          "data": {
            "text/plain": [
              "['logistic_model.joblib']"
            ]
          },
          "metadata": {},
          "execution_count": 46
        }
      ]
    },
    {
      "cell_type": "markdown",
      "source": [
        "Ahora podemos subir y guardar el modelo en google cloud y acceder a el despues"
      ],
      "metadata": {
        "id": "sgSKZjALifMC"
      }
    },
    {
      "cell_type": "code",
      "source": [
        "#!gsutil mb gs://mi_bucket\n",
        "#!gsutil cp logistic_model.joblib gs://mi_bucket"
      ],
      "metadata": {
        "id": "FApcCBAwieku"
      },
      "execution_count": null,
      "outputs": []
    },
    {
      "cell_type": "code",
      "source": [
        "#!gsutil cp gs://mi_bucket/logistic_model.joblib .\n",
        "#CArga del modelo\n",
        "#loaded_model = load('logistic_model.joblib')\n",
        "#predictions = loaded_model.predict(some_new_data)"
      ],
      "metadata": {
        "id": "pFw_eRLRiSZn"
      },
      "execution_count": null,
      "outputs": []
    },
    {
      "cell_type": "markdown",
      "source": [
        "Desplegar el modelo en un endpoint"
      ],
      "metadata": {
        "id": "TSarenWGjTKh"
      }
    }
  ]
}