{
 "cells": [
  {
   "cell_type": "markdown",
   "metadata": {
    "id": "ejVkXnUVA-zq"
   },
   "source": [
    "**Preparación: Descargando el conjunto de datos del Titanic**\n",
    "\n",
    "El objetivo de este notebook es desarrollar un modelo que prediga quién sobrevivirá en el desastre del Titanic. Para hacer esto, empezaremos descargando el conjunto de datos del Titanic utilizando la API de Kaggle.\n",
    "\n",
    "1. **Instalación de la API de Kaggle**:\n",
    "\n",
    "    Primero, necesitamos instalar la biblioteca de la API de Kaggle. Esta biblioteca nos permitirá interactuar con Kaggle y descargar conjuntos de datos directamente en este notebook.\n",
    "\n",
    "    Instala la biblioteca ejecutando la siguiente celda:\n",
    "    ```python\n",
    "    !pip install kaggle\n",
    "    ```\n",
    "\n",
    "    Puedes encontrar más detalles sobre cómo utilizar la API de Kaggle en su [documentación oficial](https://www.kaggle.com/docs/api).\n",
    "\n",
    "2. **Descarga del conjunto de datos**:\n",
    "\n",
    "    Con la biblioteca instalada, podemos proceder a descargar el conjunto de datos del Titanic. Ejecuta el siguiente comando en una celda:\n",
    "\n",
    "    ```python\n",
    "    !kaggle competitions download -c titanic\n",
    "    ```\n",
    "\n",
    "    Si deseas explorar más sobre este conjunto de datos, visita la [página de la competencia del Titanic en Kaggle](https://www.kaggle.com/competitions/titanic/data).\n"
   ]
  },
  {
   "cell_type": "code",
   "execution_count": 1,
   "metadata": {
    "id": "hQauuqFMbS3f"
   },
   "outputs": [
    {
     "name": "stderr",
     "output_type": "stream",
     "text": [
      "\u001b[33mDEPRECATION: gpg 1.14.0-unknown has a non-standard version number. pip 23.3 will enforce this behaviour change. A possible replacement is to upgrade to a newer version of gpg or contact the author to suggest that they release a version with a conforming version number. Discussion can be found at https://github.com/pypa/pip/issues/12063\u001b[0m\u001b[33m\n",
      "\u001b[0m"
     ]
    }
   ],
   "source": [
    "%%bash\n",
    "pip3 install kaggle -q  #-q para no mostrar la salidapi"
   ]
  },
  {
   "cell_type": "code",
   "execution_count": 2,
   "metadata": {
    "colab": {
     "base_uri": "https://localhost:8080/"
    },
    "id": "ugI9tIQYuqxS",
    "outputId": "38225787-10e0-4470-ed4d-3d2530f7b03e"
   },
   "outputs": [],
   "source": [
    "!mkdir -p /home/$USER/.kaggle  #-p ignorar si existe"
   ]
  },
  {
   "cell_type": "markdown",
   "metadata": {
    "id": "CDO3BOiLuFha"
   },
   "source": [
    "Descargamos el [kaggle.json](https://www.kaggle.com/settings)"
   ]
  },
  {
   "cell_type": "code",
   "execution_count": 3,
   "metadata": {
    "colab": {
     "base_uri": "https://localhost:8080/"
    },
    "id": "qNxL1ei7bPgj",
    "outputId": "7c72272e-6b39-494e-8da1-1af1475abdcc"
   },
   "outputs": [],
   "source": [
    "!cp kaggle.json /home/$USER/.kaggle"
   ]
  },
  {
   "cell_type": "code",
   "execution_count": 4,
   "metadata": {
    "id": "Sjkg4OsQljO4"
   },
   "outputs": [],
   "source": [
    "#Nos recomienda poner permisos de Lectura y Escritura al archivo .json para el propietario por seguridad.\n",
    "!chmod 600 /home/$USER/.kaggle/kaggle.json"
   ]
  },
  {
   "cell_type": "code",
   "execution_count": 5,
   "metadata": {
    "colab": {
     "base_uri": "https://localhost:8080/"
    },
    "id": "OyJR4EjhbfA8",
    "outputId": "eb19b81a-132a-4f49-a795-4661e12376e0"
   },
   "outputs": [
    {
     "name": "stdout",
     "output_type": "stream",
     "text": [
      "titanic.zip: Skipping, found more recently modified local copy (use --force to force download)\r\n"
     ]
    }
   ],
   "source": [
    "#Nos descargará un .zip\n",
    "!kaggle competitions download -c titanic"
   ]
  },
  {
   "cell_type": "code",
   "execution_count": 6,
   "metadata": {
    "colab": {
     "base_uri": "https://localhost:8080/"
    },
    "id": "vyn4a5Wsmiuz",
    "outputId": "8560fec5-cdea-47fc-f645-c7c802585503"
   },
   "outputs": [
    {
     "name": "stdout",
     "output_type": "stream",
     "text": [
      "Archive:  titanic.zip\r\n",
      "  inflating: ./titanic/gender_submission.csv  \r\n",
      "  inflating: ./titanic/test.csv      \r\n",
      "  inflating: ./titanic/train.csv     \r\n"
     ]
    }
   ],
   "source": [
    "#creamos una carpeta y descomprimimos dentro los archivos\n",
    "!mkdir -p titanic\n",
    "!unzip -o titanic.zip -d ./titanic "
   ]
  },
  {
   "cell_type": "code",
   "execution_count": 7,
   "metadata": {
    "colab": {
     "base_uri": "https://localhost:8080/"
    },
    "id": "N-1BJcE7bViZ",
    "outputId": "f5cffad5-6022-4f24-de2f-02ffac701a51"
   },
   "outputs": [
    {
     "name": "stdout",
     "output_type": "stream",
     "text": [
      "gender_submission.csv  test.csv  train.csv\r\n"
     ]
    }
   ],
   "source": [
    "#Listamos los archivos descomprimidos.\n",
    "!ls ./titanic"
   ]
  },
  {
   "cell_type": "markdown",
   "metadata": {
    "id": "2jD_m78IoNCJ"
   },
   "source": [
    "En esta sección, utilizaremos herramientas como Pandas y NumPy para trabajar con nuestros datos."
   ]
  },
  {
   "cell_type": "code",
   "execution_count": 8,
   "metadata": {},
   "outputs": [
    {
     "name": "stdout",
     "output_type": "stream",
     "text": [
      "\u001b[33mDEPRECATION: gpg 1.14.0-unknown has a non-standard version number. pip 23.3 will enforce this behaviour change. A possible replacement is to upgrade to a newer version of gpg or contact the author to suggest that they release a version with a conforming version number. Discussion can be found at https://github.com/pypa/pip/issues/12063\u001b[0m\u001b[33m\n",
      "\u001b[0m\u001b[33mDEPRECATION: gpg 1.14.0-unknown has a non-standard version number. pip 23.3 will enforce this behaviour change. A possible replacement is to upgrade to a newer version of gpg or contact the author to suggest that they release a version with a conforming version number. Discussion can be found at https://github.com/pypa/pip/issues/12063\u001b[0m\u001b[33m\n",
      "\u001b[0m\u001b[33mDEPRECATION: gpg 1.14.0-unknown has a non-standard version number. pip 23.3 will enforce this behaviour change. A possible replacement is to upgrade to a newer version of gpg or contact the author to suggest that they release a version with a conforming version number. Discussion can be found at https://github.com/pypa/pip/issues/12063\u001b[0m\u001b[33m\n",
      "\u001b[0m\u001b[33mDEPRECATION: gpg 1.14.0-unknown has a non-standard version number. pip 23.3 will enforce this behaviour change. A possible replacement is to upgrade to a newer version of gpg or contact the author to suggest that they release a version with a conforming version number. Discussion can be found at https://github.com/pypa/pip/issues/12063\u001b[0m\u001b[33m\n",
      "\u001b[0m"
     ]
    }
   ],
   "source": [
    "!pip3 install -U scikit-learn -q\n",
    "!pip install pandas -q\n",
    "!pip install numpy -q\n",
    "!pip install google-auth-oauthlib -q"
   ]
  },
  {
   "cell_type": "code",
   "execution_count": 9,
   "metadata": {},
   "outputs": [
    {
     "name": "stderr",
     "output_type": "stream",
     "text": [
      "\u001b[33mDEPRECATION: gpg 1.14.0-unknown has a non-standard version number. pip 23.3 will enforce this behaviour change. A possible replacement is to upgrade to a newer version of gpg or contact the author to suggest that they release a version with a conforming version number. Discussion can be found at https://github.com/pypa/pip/issues/12063\u001b[0m\u001b[33m\n",
      "\u001b[0m\u001b[33mDEPRECATION: gpg 1.14.0-unknown has a non-standard version number. pip 23.3 will enforce this behaviour change. A possible replacement is to upgrade to a newer version of gpg or contact the author to suggest that they release a version with a conforming version number. Discussion can be found at https://github.com/pypa/pip/issues/12063\u001b[0m\u001b[33m\n",
      "\u001b[0m\u001b[33mDEPRECATION: gpg 1.14.0-unknown has a non-standard version number. pip 23.3 will enforce this behaviour change. A possible replacement is to upgrade to a newer version of gpg or contact the author to suggest that they release a version with a conforming version number. Discussion can be found at https://github.com/pypa/pip/issues/12063\u001b[0m\u001b[33m\n"
     ]
    },
    {
     "name": "stdout",
     "output_type": "stream",
     "text": [
      "Defaulting to user installation because normal site-packages is not writeable\n",
      "Requirement already satisfied: flask in /usr/lib/python3/dist-packages (2.0.1)\n"
     ]
    },
    {
     "name": "stderr",
     "output_type": "stream",
     "text": [
      "\u001b[0m\u001b[33mDEPRECATION: gpg 1.14.0-unknown has a non-standard version number. pip 23.3 will enforce this behaviour change. A possible replacement is to upgrade to a newer version of gpg or contact the author to suggest that they release a version with a conforming version number. Discussion can be found at https://github.com/pypa/pip/issues/12063\u001b[0m\u001b[33m\n",
      "\u001b[0m"
     ]
    }
   ],
   "source": [
    "%%bash\n",
    "\n",
    "pip3 install -U matplotlib -q\n",
    "pip3 install -U seaborn -q\n",
    "pip3 install google-cloud-storage -q\n",
    "pip3 install flask"
   ]
  },
  {
   "cell_type": "code",
   "execution_count": 10,
   "metadata": {
    "id": "ugSDstk4mgJi"
   },
   "outputs": [],
   "source": [
    "import pandas as pd\n",
    "from sklearn.preprocessing import OneHotEncoder\n",
    "import numpy as np\n",
    "ds = pd.read_csv(\"./titanic/train.csv\")"
   ]
  },
  {
   "cell_type": "code",
   "execution_count": 11,
   "metadata": {
    "colab": {
     "base_uri": "https://localhost:8080/"
    },
    "id": "Viy9aNH1mULk",
    "outputId": "6fbd8cbe-320d-4d2f-9d3b-737eb3fa131a"
   },
   "outputs": [
    {
     "name": "stdout",
     "output_type": "stream",
     "text": [
      "<class 'pandas.core.frame.DataFrame'>\n",
      "RangeIndex: 891 entries, 0 to 890\n",
      "Data columns (total 12 columns):\n",
      " #   Column       Non-Null Count  Dtype  \n",
      "---  ------       --------------  -----  \n",
      " 0   PassengerId  891 non-null    int64  \n",
      " 1   Survived     891 non-null    int64  \n",
      " 2   Pclass       891 non-null    int64  \n",
      " 3   Name         891 non-null    object \n",
      " 4   Sex          891 non-null    object \n",
      " 5   Age          714 non-null    float64\n",
      " 6   SibSp        891 non-null    int64  \n",
      " 7   Parch        891 non-null    int64  \n",
      " 8   Ticket       891 non-null    object \n",
      " 9   Fare         891 non-null    float64\n",
      " 10  Cabin        204 non-null    object \n",
      " 11  Embarked     889 non-null    object \n",
      "dtypes: float64(2), int64(5), object(5)\n",
      "memory usage: 83.7+ KB\n"
     ]
    }
   ],
   "source": [
    "ds.info()  #Vemos que estamos manejando una cantidad muy pequena de datos, 418 filas y 11 columnas."
   ]
  },
  {
   "cell_type": "code",
   "execution_count": 12,
   "metadata": {
    "colab": {
     "base_uri": "https://localhost:8080/",
     "height": 300
    },
    "id": "sX40cG9jmAp8",
    "outputId": "46f0d638-1c93-4cde-957c-58e449f47dd2"
   },
   "outputs": [
    {
     "data": {
      "text/html": [
       "<div>\n",
       "<style scoped>\n",
       "    .dataframe tbody tr th:only-of-type {\n",
       "        vertical-align: middle;\n",
       "    }\n",
       "\n",
       "    .dataframe tbody tr th {\n",
       "        vertical-align: top;\n",
       "    }\n",
       "\n",
       "    .dataframe thead th {\n",
       "        text-align: right;\n",
       "    }\n",
       "</style>\n",
       "<table border=\"1\" class=\"dataframe\">\n",
       "  <thead>\n",
       "    <tr style=\"text-align: right;\">\n",
       "      <th></th>\n",
       "      <th>PassengerId</th>\n",
       "      <th>Survived</th>\n",
       "      <th>Pclass</th>\n",
       "      <th>Age</th>\n",
       "      <th>SibSp</th>\n",
       "      <th>Parch</th>\n",
       "      <th>Fare</th>\n",
       "    </tr>\n",
       "  </thead>\n",
       "  <tbody>\n",
       "    <tr>\n",
       "      <th>count</th>\n",
       "      <td>891.000000</td>\n",
       "      <td>891.000000</td>\n",
       "      <td>891.000000</td>\n",
       "      <td>714.000000</td>\n",
       "      <td>891.000000</td>\n",
       "      <td>891.000000</td>\n",
       "      <td>891.000000</td>\n",
       "    </tr>\n",
       "    <tr>\n",
       "      <th>mean</th>\n",
       "      <td>446.000000</td>\n",
       "      <td>0.383838</td>\n",
       "      <td>2.308642</td>\n",
       "      <td>29.699118</td>\n",
       "      <td>0.523008</td>\n",
       "      <td>0.381594</td>\n",
       "      <td>32.204208</td>\n",
       "    </tr>\n",
       "    <tr>\n",
       "      <th>std</th>\n",
       "      <td>257.353842</td>\n",
       "      <td>0.486592</td>\n",
       "      <td>0.836071</td>\n",
       "      <td>14.526497</td>\n",
       "      <td>1.102743</td>\n",
       "      <td>0.806057</td>\n",
       "      <td>49.693429</td>\n",
       "    </tr>\n",
       "    <tr>\n",
       "      <th>min</th>\n",
       "      <td>1.000000</td>\n",
       "      <td>0.000000</td>\n",
       "      <td>1.000000</td>\n",
       "      <td>0.420000</td>\n",
       "      <td>0.000000</td>\n",
       "      <td>0.000000</td>\n",
       "      <td>0.000000</td>\n",
       "    </tr>\n",
       "    <tr>\n",
       "      <th>25%</th>\n",
       "      <td>223.500000</td>\n",
       "      <td>0.000000</td>\n",
       "      <td>2.000000</td>\n",
       "      <td>20.125000</td>\n",
       "      <td>0.000000</td>\n",
       "      <td>0.000000</td>\n",
       "      <td>7.910400</td>\n",
       "    </tr>\n",
       "    <tr>\n",
       "      <th>50%</th>\n",
       "      <td>446.000000</td>\n",
       "      <td>0.000000</td>\n",
       "      <td>3.000000</td>\n",
       "      <td>28.000000</td>\n",
       "      <td>0.000000</td>\n",
       "      <td>0.000000</td>\n",
       "      <td>14.454200</td>\n",
       "    </tr>\n",
       "    <tr>\n",
       "      <th>75%</th>\n",
       "      <td>668.500000</td>\n",
       "      <td>1.000000</td>\n",
       "      <td>3.000000</td>\n",
       "      <td>38.000000</td>\n",
       "      <td>1.000000</td>\n",
       "      <td>0.000000</td>\n",
       "      <td>31.000000</td>\n",
       "    </tr>\n",
       "    <tr>\n",
       "      <th>max</th>\n",
       "      <td>891.000000</td>\n",
       "      <td>1.000000</td>\n",
       "      <td>3.000000</td>\n",
       "      <td>80.000000</td>\n",
       "      <td>8.000000</td>\n",
       "      <td>6.000000</td>\n",
       "      <td>512.329200</td>\n",
       "    </tr>\n",
       "  </tbody>\n",
       "</table>\n",
       "</div>"
      ],
      "text/plain": [
       "       PassengerId    Survived      Pclass         Age       SibSp  \\\n",
       "count   891.000000  891.000000  891.000000  714.000000  891.000000   \n",
       "mean    446.000000    0.383838    2.308642   29.699118    0.523008   \n",
       "std     257.353842    0.486592    0.836071   14.526497    1.102743   \n",
       "min       1.000000    0.000000    1.000000    0.420000    0.000000   \n",
       "25%     223.500000    0.000000    2.000000   20.125000    0.000000   \n",
       "50%     446.000000    0.000000    3.000000   28.000000    0.000000   \n",
       "75%     668.500000    1.000000    3.000000   38.000000    1.000000   \n",
       "max     891.000000    1.000000    3.000000   80.000000    8.000000   \n",
       "\n",
       "            Parch        Fare  \n",
       "count  891.000000  891.000000  \n",
       "mean     0.381594   32.204208  \n",
       "std      0.806057   49.693429  \n",
       "min      0.000000    0.000000  \n",
       "25%      0.000000    7.910400  \n",
       "50%      0.000000   14.454200  \n",
       "75%      0.000000   31.000000  \n",
       "max      6.000000  512.329200  "
      ]
     },
     "execution_count": 12,
     "metadata": {},
     "output_type": "execute_result"
    }
   ],
   "source": [
    "ds.describe()"
   ]
  },
  {
   "cell_type": "code",
   "execution_count": 13,
   "metadata": {
    "id": "BtioYk-eA5jT"
   },
   "outputs": [],
   "source": [
    "import matplotlib.pyplot as plt\n",
    "import seaborn as sns"
   ]
  },
  {
   "cell_type": "code",
   "execution_count": 14,
   "metadata": {
    "colab": {
     "base_uri": "https://localhost:8080/",
     "height": 713
    },
    "id": "381cW8TNA-1Y",
    "outputId": "df1330af-5704-412f-b565-c6ce123c12ec"
   },
   "outputs": [
    {
     "name": "stderr",
     "output_type": "stream",
     "text": [
      "/home/eyes/Downloads/CV/projectos/GIT_TIT_PROJ/P_02/env2/lib/python3.9/site-packages/seaborn/_oldcore.py:1498: FutureWarning: is_categorical_dtype is deprecated and will be removed in a future version. Use isinstance(dtype, CategoricalDtype) instead\n",
      "  if pd.api.types.is_categorical_dtype(vector):\n",
      "/home/eyes/Downloads/CV/projectos/GIT_TIT_PROJ/P_02/env2/lib/python3.9/site-packages/seaborn/_oldcore.py:1498: FutureWarning: is_categorical_dtype is deprecated and will be removed in a future version. Use isinstance(dtype, CategoricalDtype) instead\n",
      "  if pd.api.types.is_categorical_dtype(vector):\n",
      "/home/eyes/Downloads/CV/projectos/GIT_TIT_PROJ/P_02/env2/lib/python3.9/site-packages/seaborn/_oldcore.py:1498: FutureWarning: is_categorical_dtype is deprecated and will be removed in a future version. Use isinstance(dtype, CategoricalDtype) instead\n",
      "  if pd.api.types.is_categorical_dtype(vector):\n"
     ]
    },
    {
     "data": {
      "text/plain": [
       "<Axes: xlabel='Pclass', ylabel='Fare'>"
      ]
     },
     "execution_count": 14,
     "metadata": {},
     "output_type": "execute_result"
    },
    {
     "data": {
      "image/png": "[encoded data removed]",
      "text/plain": [
       "<Figure size 1200x800 with 1 Axes>"
      ]
     },
     "metadata": {},
     "output_type": "display_data"
    }
   ],
   "source": [
    "plt.figure(figsize = (12,8))\n",
    "sns.boxplot(data = ds , x = 'Pclass', y = 'Fare')"
   ]
  },
  {
   "cell_type": "markdown",
   "metadata": {
    "id": "WFQx1bLlsfDy"
   },
   "source": [
    "Al observar los datos, vemos que tenemos un \"PassengerID\". Aunque estos datos pueden asignarse sin relación alguna con las variables predictivas, prestaremos atención a su poder predictivo. Sin embargo, partimos de la idea de descartarlo, ya que en su mayoría, los ID no representan ningún valor predictivo, a menos que contengan información implícita, como una correlación del número de ID a la clase. Como no contamos con esa información, asumiremos que no tiene información implícita y, por lo tanto, lo consideraremos como una variable con poco poder de predicción.\n",
    "\n",
    "La \"Pclass\" nos indica la clase en la que se viaja, siendo 1 la más alta o de mayor poder adquisitivo, y 3 la más económica.\n",
    "\n",
    "Tenemos los \"Nombres\". A primera vista, podemos considerarlos como variables categóricas y pensar en alguna forma de representarlos. Realizar una codificación one-hot (OHE) no es recomendable, pero quizá sí segmentar por género. Sin embargo, como ese dato ya está indicado en otra variable y algunos nombres tienen un título como \"Mr.\", podría ser útil segmentar los nombres según quién contiene ese título y quién no.\n",
    "\n",
    "\"sibsp\": Número de hermanos/cónyuges a bordo del Titanic.\n",
    "\n",
    "\"Parch\": Número de padres/hijos a bordo del Titanic.\n",
    "\n",
    "\"Ticket\": Número de ticket.\n",
    "\n",
    "\"Fare\": Tarifa del pasajero, es decir, lo que pagó por el boleto.\n",
    "\n",
    "\"Cabin\": Número de cabina. Puede indicarnos en qué parte del barco se encontraban.\n",
    "\n",
    "\"Embarked\": Puerto de embarque. C = Cherburgo, Q = Queenstown, S = Southampton. Representa el lugar donde el pasajero subió al barco. Podríamos pensar en el tiempo en el barco puede ser un factor de predicción."
   ]
  },
  {
   "cell_type": "markdown",
   "metadata": {
    "id": "9i0C6J4KfOAl"
   },
   "source": [
    "## Aleatorización de Datos\n",
    "\n",
    "Antes de comenzar el proceso de entrenamiento, es esencial **aleatorizar** o hacer un *shuffle* de nuestros datos.\n",
    "\n",
    "### ¿Por qué es crucial aleatorizar los datos?\n",
    "\n",
    "Cuando los datos están ordenados y no se mezclan adecuadamente, pueden surgir problemas al dividirlos para entrenamiento y validación. Imagina una situación en la que todos los ejemplos de una clase particular terminan en el conjunto de validación mientras que otra clase se concentra en el conjunto de entrenamiento. Esto contradice el principio de que nuestra división debería ser una muestra o división aleatoria.\n",
    "\n",
    "Más información sobre la importancia de barajear los datos puede ser encontrada en esta [discusión de Data Science Stack Exchange](https://datascience.stackexchange.com/questions/24511/why-should-the-data-be-shuffled-for-machine-learning-tasks).\n",
    "\n",
    "### Evitando la Fuga de Datos\n",
    "\n",
    "Es fundamental dividir los datos antes de hacer cualquier transformación. Esta precaución nos ayuda a prevenir el **Data Leak**, un problema en el que la información del conjunto de prueba \"se filtra\" en el proceso de entrenamiento.\n",
    "\n",
    "Puedes aprender más sobre cómo evitar la fuga de datos en este [artículo de Towards Data Science](https://towardsdatascience.com/avoid-data-leakage-split-your-data-before-processing-a7f172632b00).\n"
   ]
  },
  {
   "cell_type": "code",
   "execution_count": 15,
   "metadata": {
    "colab": {
     "base_uri": "https://localhost:8080/",
     "height": 81
    },
    "id": "zpZSlH8wzhlS",
    "outputId": "236defb3-e6f3-4ac6-d6cd-cc674c8d4790"
   },
   "outputs": [
    {
     "data": {
      "text/html": [
       "<div>\n",
       "<style scoped>\n",
       "    .dataframe tbody tr th:only-of-type {\n",
       "        vertical-align: middle;\n",
       "    }\n",
       "\n",
       "    .dataframe tbody tr th {\n",
       "        vertical-align: top;\n",
       "    }\n",
       "\n",
       "    .dataframe thead th {\n",
       "        text-align: right;\n",
       "    }\n",
       "</style>\n",
       "<table border=\"1\" class=\"dataframe\">\n",
       "  <thead>\n",
       "    <tr style=\"text-align: right;\">\n",
       "      <th></th>\n",
       "      <th>PassengerId</th>\n",
       "      <th>Survived</th>\n",
       "      <th>Pclass</th>\n",
       "      <th>Name</th>\n",
       "      <th>Sex</th>\n",
       "      <th>Age</th>\n",
       "      <th>SibSp</th>\n",
       "      <th>Parch</th>\n",
       "      <th>Ticket</th>\n",
       "      <th>Fare</th>\n",
       "      <th>Cabin</th>\n",
       "      <th>Embarked</th>\n",
       "    </tr>\n",
       "  </thead>\n",
       "  <tbody>\n",
       "    <tr>\n",
       "      <th>0</th>\n",
       "      <td>1</td>\n",
       "      <td>0</td>\n",
       "      <td>3</td>\n",
       "      <td>Braund, Mr. Owen Harris</td>\n",
       "      <td>male</td>\n",
       "      <td>22.0</td>\n",
       "      <td>1</td>\n",
       "      <td>0</td>\n",
       "      <td>A/5 21171</td>\n",
       "      <td>7.25</td>\n",
       "      <td>NaN</td>\n",
       "      <td>S</td>\n",
       "    </tr>\n",
       "  </tbody>\n",
       "</table>\n",
       "</div>"
      ],
      "text/plain": [
       "   PassengerId  Survived  Pclass                     Name   Sex   Age  SibSp  \\\n",
       "0            1         0       3  Braund, Mr. Owen Harris  male  22.0      1   \n",
       "\n",
       "   Parch     Ticket  Fare Cabin Embarked  \n",
       "0      0  A/5 21171  7.25   NaN        S  "
      ]
     },
     "execution_count": 15,
     "metadata": {},
     "output_type": "execute_result"
    }
   ],
   "source": [
    "ds.head(1)"
   ]
  },
  {
   "cell_type": "code",
   "execution_count": 16,
   "metadata": {
    "id": "u1JIU3EumZGQ"
   },
   "outputs": [],
   "source": [
    "shuffled_df = ds.sample(frac=1).reset_index(drop=True)"
   ]
  },
  {
   "cell_type": "code",
   "execution_count": 17,
   "metadata": {
    "colab": {
     "base_uri": "https://localhost:8080/",
     "height": 81
    },
    "id": "_bmt-CS4rFmB",
    "outputId": "822ee4c8-99cc-43c0-e531-56c51ffea552"
   },
   "outputs": [
    {
     "data": {
      "text/html": [
       "<div>\n",
       "<style scoped>\n",
       "    .dataframe tbody tr th:only-of-type {\n",
       "        vertical-align: middle;\n",
       "    }\n",
       "\n",
       "    .dataframe tbody tr th {\n",
       "        vertical-align: top;\n",
       "    }\n",
       "\n",
       "    .dataframe thead th {\n",
       "        text-align: right;\n",
       "    }\n",
       "</style>\n",
       "<table border=\"1\" class=\"dataframe\">\n",
       "  <thead>\n",
       "    <tr style=\"text-align: right;\">\n",
       "      <th></th>\n",
       "      <th>PassengerId</th>\n",
       "      <th>Survived</th>\n",
       "      <th>Pclass</th>\n",
       "      <th>Name</th>\n",
       "      <th>Sex</th>\n",
       "      <th>Age</th>\n",
       "      <th>SibSp</th>\n",
       "      <th>Parch</th>\n",
       "      <th>Ticket</th>\n",
       "      <th>Fare</th>\n",
       "      <th>Cabin</th>\n",
       "      <th>Embarked</th>\n",
       "    </tr>\n",
       "  </thead>\n",
       "  <tbody>\n",
       "    <tr>\n",
       "      <th>0</th>\n",
       "      <td>77</td>\n",
       "      <td>0</td>\n",
       "      <td>3</td>\n",
       "      <td>Staneff, Mr. Ivan</td>\n",
       "      <td>male</td>\n",
       "      <td>NaN</td>\n",
       "      <td>0</td>\n",
       "      <td>0</td>\n",
       "      <td>349208</td>\n",
       "      <td>7.8958</td>\n",
       "      <td>NaN</td>\n",
       "      <td>S</td>\n",
       "    </tr>\n",
       "  </tbody>\n",
       "</table>\n",
       "</div>"
      ],
      "text/plain": [
       "   PassengerId  Survived  Pclass               Name   Sex  Age  SibSp  Parch  \\\n",
       "0           77         0       3  Staneff, Mr. Ivan  male  NaN      0      0   \n",
       "\n",
       "   Ticket    Fare Cabin Embarked  \n",
       "0  349208  7.8958   NaN        S  "
      ]
     },
     "execution_count": 17,
     "metadata": {},
     "output_type": "execute_result"
    }
   ],
   "source": [
    "shuffled_df.head(1)"
   ]
  },
  {
   "cell_type": "markdown",
   "metadata": {
    "id": "zR8hIEV70j0r"
   },
   "source": [
    "Dividiendo los datos en Train, Validation  and Test.\n",
    "Train es para ajustar los pesos y Validation para ir viendo el desempeno del modelo, sesgo, varianza, asi como para evitar sobreajuste, ajustar hiperparametros.\n",
    "\n",
    "Test solo se ocupan una vez para la prueba final, simulando el proceso en produccion.\n",
    "\n",
    "El conjunto test normalmente se ocupa una vez para una verificacion final, si algo sale mal en esto debes encontrar las causa, pero una principal es que el modelo se sobre-ajusto a los datos de entrenamieno y test, por reajustar iteradamente.\n",
    "\n",
    "https://towardsdatascience.com/train-validation-and-test-sets-72cb40cba9e7"
   ]
  },
  {
   "cell_type": "code",
   "execution_count": 18,
   "metadata": {
    "id": "-XpQ2Wx8FqJ1"
   },
   "outputs": [],
   "source": [
    "# from sklearn.model_selection import train_test_split\n",
    "# X_train, X_test = train_test_split(shuffled_df, test_size=0.2, random_state=42)"
   ]
  },
  {
   "cell_type": "code",
   "execution_count": 19,
   "metadata": {
    "id": "7IMpBKuQ0i6D"
   },
   "outputs": [],
   "source": [
    "def train_val(df:pd.DataFrame , f:float=0.10)->tuple([pd.DataFrame,pd.DataFrame]):\n",
    "  test = df.sample(frac = f ,replace = False )\n",
    "  train =   df[~df.index.isin(test.index)]\n",
    "  return (train, test)\n",
    "data_train, data_test = train_val(shuffled_df)"
   ]
  },
  {
   "cell_type": "code",
   "execution_count": 20,
   "metadata": {
    "colab": {
     "base_uri": "https://localhost:8080/",
     "height": 510
    },
    "id": "26A4xbyeImrr",
    "outputId": "90673243-e212-45ba-c65e-29162ed2dfd0"
   },
   "outputs": [
    {
     "name": "stderr",
     "output_type": "stream",
     "text": [
      "/home/eyes/Downloads/CV/projectos/GIT_TIT_PROJ/P_02/env2/lib/python3.9/site-packages/seaborn/_oldcore.py:1498: FutureWarning: is_categorical_dtype is deprecated and will be removed in a future version. Use isinstance(dtype, CategoricalDtype) instead\n",
      "  if pd.api.types.is_categorical_dtype(vector):\n",
      "/home/eyes/Downloads/CV/projectos/GIT_TIT_PROJ/P_02/env2/lib/python3.9/site-packages/seaborn/_oldcore.py:1498: FutureWarning: is_categorical_dtype is deprecated and will be removed in a future version. Use isinstance(dtype, CategoricalDtype) instead\n",
      "  if pd.api.types.is_categorical_dtype(vector):\n",
      "/home/eyes/Downloads/CV/projectos/GIT_TIT_PROJ/P_02/env2/lib/python3.9/site-packages/seaborn/_oldcore.py:1498: FutureWarning: is_categorical_dtype is deprecated and will be removed in a future version. Use isinstance(dtype, CategoricalDtype) instead\n",
      "  if pd.api.types.is_categorical_dtype(vector):\n"
     ]
    },
    {
     "data": {
      "image/png": "[encoded data removed]",
      "text/plain": [
       "<Figure size 1500x600 with 1 Axes>"
      ]
     },
     "metadata": {},
     "output_type": "display_data"
    }
   ],
   "source": [
    "import seaborn as sns\n",
    "import matplotlib.pyplot as plt\n",
    "import re\n",
    "\n",
    "# Agrupamos por Age y sumamos el número de supervivientes para cada edad\n",
    "age_survived = data_train.groupby('Age')['Survived'].sum().reset_index()\n",
    "\n",
    "# Usamos un barplot de Seaborn para visualizar\n",
    "plt.figure(figsize=(15,6))\n",
    "sns.barplot(x='Age', y='Survived', data=age_survived)\n",
    "plt.title('Conteo de Supervivientes por Edad')\n",
    "plt.xlabel('Edad')\n",
    "plt.ylabel('Número de Supervivientes')\n",
    "plt.xticks(rotation=45)\n",
    "plt.tight_layout()\n",
    "plt.show()\n"
   ]
  },
  {
   "cell_type": "code",
   "execution_count": 21,
   "metadata": {
    "colab": {
     "base_uri": "https://localhost:8080/",
     "height": 510
    },
    "id": "UdeLuVbkJoH3",
    "outputId": "d773425d-2527-4925-88a6-6c9fec8a7524"
   },
   "outputs": [
    {
     "data": {
      "image/png": "[encoded data removed]",
      "text/plain": [
       "<Figure size 1500x600 with 1 Axes>"
      ]
     },
     "metadata": {},
     "output_type": "display_data"
    }
   ],
   "source": [
    "import matplotlib.pyplot as plt\n",
    "\n",
    "# Agrupamos por Age y sumamos el número de supervivientes para cada edad\n",
    "age_survived = data_train.groupby('Age')['Survived'].sum()\n",
    "\n",
    "plt.figure(figsize=(15,6))\n",
    "age_survived.plot(kind='bar')\n",
    "plt.title('Conteo de Supervivientes por Edad')\n",
    "plt.xlabel('Edad')\n",
    "plt.ylabel('Número de Supervivientes')\n",
    "plt.xticks(rotation=45)\n",
    "plt.tight_layout()\n",
    "plt.show()\n"
   ]
  },
  {
   "cell_type": "code",
   "execution_count": 22,
   "metadata": {
    "colab": {
     "base_uri": "https://localhost:8080/",
     "height": 1000
    },
    "id": "aVxoOdHgLCh-",
    "outputId": "000f97cc-4b9b-4100-d868-c0656359e2e5"
   },
   "outputs": [
    {
     "name": "stdout",
     "output_type": "stream",
     "text": [
      "\r\n",
      "Usage:   \r\n",
      "  pip install [options] <requirement specifier> [package-index-options] ...\r\n",
      "  pip install [options] -r <requirements file> [package-index-options] ...\r\n",
      "  pip install [options] [-e] <vcs project url> ...\r\n",
      "  pip install [options] [-e] <local project path> ...\r\n",
      "  pip install [options] <archive url/path> ...\r\n",
      "\r\n",
      "no such option: -!\r\n"
     ]
    },
    {
     "name": "stderr",
     "output_type": "stream",
     "text": [
      "/tmp/ipykernel_121709/2281661795.py:12: SettingWithCopyWarning: \n",
      "A value is trying to be set on a copy of a slice from a DataFrame.\n",
      "Try using .loc[row_indexer,col_indexer] = value instead\n",
      "\n",
      "See the caveats in the documentation: https://pandas.pydata.org/pandas-docs/stable/user_guide/indexing.html#returning-a-view-versus-a-copy\n",
      "  data_train['AgeQuantile'], bins = pd.qcut(data_train['Age'], num_quantiles, labels=False, retbins=True)\n",
      "/home/eyes/Downloads/CV/projectos/GIT_TIT_PROJ/P_02/env2/lib/python3.9/site-packages/seaborn/_oldcore.py:1498: FutureWarning: is_categorical_dtype is deprecated and will be removed in a future version. Use isinstance(dtype, CategoricalDtype) instead\n",
      "  if pd.api.types.is_categorical_dtype(vector):\n",
      "/home/eyes/Downloads/CV/projectos/GIT_TIT_PROJ/P_02/env2/lib/python3.9/site-packages/seaborn/_oldcore.py:1119: FutureWarning: use_inf_as_na option is deprecated and will be removed in a future version. Convert inf values to NaN before operating instead.\n",
      "  with pd.option_context('mode.use_inf_as_na', True):\n",
      "/home/eyes/Downloads/CV/projectos/GIT_TIT_PROJ/P_02/env2/lib/python3.9/site-packages/seaborn/_oldcore.py:1498: FutureWarning: is_categorical_dtype is deprecated and will be removed in a future version. Use isinstance(dtype, CategoricalDtype) instead\n",
      "  if pd.api.types.is_categorical_dtype(vector):\n",
      "/home/eyes/Downloads/CV/projectos/GIT_TIT_PROJ/P_02/env2/lib/python3.9/site-packages/seaborn/_oldcore.py:1119: FutureWarning: use_inf_as_na option is deprecated and will be removed in a future version. Convert inf values to NaN before operating instead.\n",
      "  with pd.option_context('mode.use_inf_as_na', True):\n",
      "/home/eyes/Downloads/CV/projectos/GIT_TIT_PROJ/P_02/env2/lib/python3.9/site-packages/seaborn/_oldcore.py:1498: FutureWarning: is_categorical_dtype is deprecated and will be removed in a future version. Use isinstance(dtype, CategoricalDtype) instead\n",
      "  if pd.api.types.is_categorical_dtype(vector):\n",
      "/home/eyes/Downloads/CV/projectos/GIT_TIT_PROJ/P_02/env2/lib/python3.9/site-packages/seaborn/_oldcore.py:1119: FutureWarning: use_inf_as_na option is deprecated and will be removed in a future version. Convert inf values to NaN before operating instead.\n",
      "  with pd.option_context('mode.use_inf_as_na', True):\n",
      "/tmp/ipykernel_121709/2281661795.py:12: SettingWithCopyWarning: \n",
      "A value is trying to be set on a copy of a slice from a DataFrame.\n",
      "Try using .loc[row_indexer,col_indexer] = value instead\n",
      "\n",
      "See the caveats in the documentation: https://pandas.pydata.org/pandas-docs/stable/user_guide/indexing.html#returning-a-view-versus-a-copy\n",
      "  data_train['AgeQuantile'], bins = pd.qcut(data_train['Age'], num_quantiles, labels=False, retbins=True)\n",
      "/home/eyes/Downloads/CV/projectos/GIT_TIT_PROJ/P_02/env2/lib/python3.9/site-packages/seaborn/_oldcore.py:1498: FutureWarning: is_categorical_dtype is deprecated and will be removed in a future version. Use isinstance(dtype, CategoricalDtype) instead\n",
      "  if pd.api.types.is_categorical_dtype(vector):\n",
      "/home/eyes/Downloads/CV/projectos/GIT_TIT_PROJ/P_02/env2/lib/python3.9/site-packages/seaborn/_oldcore.py:1119: FutureWarning: use_inf_as_na option is deprecated and will be removed in a future version. Convert inf values to NaN before operating instead.\n",
      "  with pd.option_context('mode.use_inf_as_na', True):\n",
      "/home/eyes/Downloads/CV/projectos/GIT_TIT_PROJ/P_02/env2/lib/python3.9/site-packages/seaborn/_oldcore.py:1498: FutureWarning: is_categorical_dtype is deprecated and will be removed in a future version. Use isinstance(dtype, CategoricalDtype) instead\n",
      "  if pd.api.types.is_categorical_dtype(vector):\n",
      "/home/eyes/Downloads/CV/projectos/GIT_TIT_PROJ/P_02/env2/lib/python3.9/site-packages/seaborn/_oldcore.py:1119: FutureWarning: use_inf_as_na option is deprecated and will be removed in a future version. Convert inf values to NaN before operating instead.\n",
      "  with pd.option_context('mode.use_inf_as_na', True):\n",
      "/home/eyes/Downloads/CV/projectos/GIT_TIT_PROJ/P_02/env2/lib/python3.9/site-packages/seaborn/_oldcore.py:1498: FutureWarning: is_categorical_dtype is deprecated and will be removed in a future version. Use isinstance(dtype, CategoricalDtype) instead\n",
      "  if pd.api.types.is_categorical_dtype(vector):\n",
      "/home/eyes/Downloads/CV/projectos/GIT_TIT_PROJ/P_02/env2/lib/python3.9/site-packages/seaborn/_oldcore.py:1119: FutureWarning: use_inf_as_na option is deprecated and will be removed in a future version. Convert inf values to NaN before operating instead.\n",
      "  with pd.option_context('mode.use_inf_as_na', True):\n",
      "/home/eyes/Downloads/CV/projectos/GIT_TIT_PROJ/P_02/env2/lib/python3.9/site-packages/seaborn/_oldcore.py:1498: FutureWarning: is_categorical_dtype is deprecated and will be removed in a future version. Use isinstance(dtype, CategoricalDtype) instead\n",
      "  if pd.api.types.is_categorical_dtype(vector):\n",
      "/home/eyes/Downloads/CV/projectos/GIT_TIT_PROJ/P_02/env2/lib/python3.9/site-packages/seaborn/_oldcore.py:1119: FutureWarning: use_inf_as_na option is deprecated and will be removed in a future version. Convert inf values to NaN before operating instead.\n",
      "  with pd.option_context('mode.use_inf_as_na', True):\n",
      "/tmp/ipykernel_121709/2281661795.py:12: SettingWithCopyWarning: \n",
      "A value is trying to be set on a copy of a slice from a DataFrame.\n",
      "Try using .loc[row_indexer,col_indexer] = value instead\n",
      "\n",
      "See the caveats in the documentation: https://pandas.pydata.org/pandas-docs/stable/user_guide/indexing.html#returning-a-view-versus-a-copy\n",
      "  data_train['AgeQuantile'], bins = pd.qcut(data_train['Age'], num_quantiles, labels=False, retbins=True)\n",
      "/home/eyes/Downloads/CV/projectos/GIT_TIT_PROJ/P_02/env2/lib/python3.9/site-packages/seaborn/_oldcore.py:1498: FutureWarning: is_categorical_dtype is deprecated and will be removed in a future version. Use isinstance(dtype, CategoricalDtype) instead\n",
      "  if pd.api.types.is_categorical_dtype(vector):\n",
      "/home/eyes/Downloads/CV/projectos/GIT_TIT_PROJ/P_02/env2/lib/python3.9/site-packages/seaborn/_oldcore.py:1119: FutureWarning: use_inf_as_na option is deprecated and will be removed in a future version. Convert inf values to NaN before operating instead.\n",
      "  with pd.option_context('mode.use_inf_as_na', True):\n",
      "/home/eyes/Downloads/CV/projectos/GIT_TIT_PROJ/P_02/env2/lib/python3.9/site-packages/seaborn/_oldcore.py:1498: FutureWarning: is_categorical_dtype is deprecated and will be removed in a future version. Use isinstance(dtype, CategoricalDtype) instead\n",
      "  if pd.api.types.is_categorical_dtype(vector):\n",
      "/home/eyes/Downloads/CV/projectos/GIT_TIT_PROJ/P_02/env2/lib/python3.9/site-packages/seaborn/_oldcore.py:1119: FutureWarning: use_inf_as_na option is deprecated and will be removed in a future version. Convert inf values to NaN before operating instead.\n",
      "  with pd.option_context('mode.use_inf_as_na', True):\n",
      "/home/eyes/Downloads/CV/projectos/GIT_TIT_PROJ/P_02/env2/lib/python3.9/site-packages/seaborn/_oldcore.py:1498: FutureWarning: is_categorical_dtype is deprecated and will be removed in a future version. Use isinstance(dtype, CategoricalDtype) instead\n",
      "  if pd.api.types.is_categorical_dtype(vector):\n",
      "/home/eyes/Downloads/CV/projectos/GIT_TIT_PROJ/P_02/env2/lib/python3.9/site-packages/seaborn/_oldcore.py:1119: FutureWarning: use_inf_as_na option is deprecated and will be removed in a future version. Convert inf values to NaN before operating instead.\n",
      "  with pd.option_context('mode.use_inf_as_na', True):\n",
      "/home/eyes/Downloads/CV/projectos/GIT_TIT_PROJ/P_02/env2/lib/python3.9/site-packages/seaborn/_oldcore.py:1498: FutureWarning: is_categorical_dtype is deprecated and will be removed in a future version. Use isinstance(dtype, CategoricalDtype) instead\n",
      "  if pd.api.types.is_categorical_dtype(vector):\n",
      "/home/eyes/Downloads/CV/projectos/GIT_TIT_PROJ/P_02/env2/lib/python3.9/site-packages/seaborn/_oldcore.py:1119: FutureWarning: use_inf_as_na option is deprecated and will be removed in a future version. Convert inf values to NaN before operating instead.\n",
      "  with pd.option_context('mode.use_inf_as_na', True):\n",
      "/home/eyes/Downloads/CV/projectos/GIT_TIT_PROJ/P_02/env2/lib/python3.9/site-packages/seaborn/_oldcore.py:1498: FutureWarning: is_categorical_dtype is deprecated and will be removed in a future version. Use isinstance(dtype, CategoricalDtype) instead\n",
      "  if pd.api.types.is_categorical_dtype(vector):\n",
      "/home/eyes/Downloads/CV/projectos/GIT_TIT_PROJ/P_02/env2/lib/python3.9/site-packages/seaborn/_oldcore.py:1119: FutureWarning: use_inf_as_na option is deprecated and will be removed in a future version. Convert inf values to NaN before operating instead.\n",
      "  with pd.option_context('mode.use_inf_as_na', True):\n",
      "/tmp/ipykernel_121709/2281661795.py:12: SettingWithCopyWarning: \n",
      "A value is trying to be set on a copy of a slice from a DataFrame.\n",
      "Try using .loc[row_indexer,col_indexer] = value instead\n",
      "\n",
      "See the caveats in the documentation: https://pandas.pydata.org/pandas-docs/stable/user_guide/indexing.html#returning-a-view-versus-a-copy\n",
      "  data_train['AgeQuantile'], bins = pd.qcut(data_train['Age'], num_quantiles, labels=False, retbins=True)\n",
      "/home/eyes/Downloads/CV/projectos/GIT_TIT_PROJ/P_02/env2/lib/python3.9/site-packages/seaborn/_oldcore.py:1498: FutureWarning: is_categorical_dtype is deprecated and will be removed in a future version. Use isinstance(dtype, CategoricalDtype) instead\n",
      "  if pd.api.types.is_categorical_dtype(vector):\n",
      "/home/eyes/Downloads/CV/projectos/GIT_TIT_PROJ/P_02/env2/lib/python3.9/site-packages/seaborn/_oldcore.py:1119: FutureWarning: use_inf_as_na option is deprecated and will be removed in a future version. Convert inf values to NaN before operating instead.\n",
      "  with pd.option_context('mode.use_inf_as_na', True):\n",
      "/home/eyes/Downloads/CV/projectos/GIT_TIT_PROJ/P_02/env2/lib/python3.9/site-packages/seaborn/_oldcore.py:1498: FutureWarning: is_categorical_dtype is deprecated and will be removed in a future version. Use isinstance(dtype, CategoricalDtype) instead\n",
      "  if pd.api.types.is_categorical_dtype(vector):\n",
      "/home/eyes/Downloads/CV/projectos/GIT_TIT_PROJ/P_02/env2/lib/python3.9/site-packages/seaborn/_oldcore.py:1119: FutureWarning: use_inf_as_na option is deprecated and will be removed in a future version. Convert inf values to NaN before operating instead.\n",
      "  with pd.option_context('mode.use_inf_as_na', True):\n",
      "/home/eyes/Downloads/CV/projectos/GIT_TIT_PROJ/P_02/env2/lib/python3.9/site-packages/seaborn/_oldcore.py:1498: FutureWarning: is_categorical_dtype is deprecated and will be removed in a future version. Use isinstance(dtype, CategoricalDtype) instead\n",
      "  if pd.api.types.is_categorical_dtype(vector):\n",
      "/home/eyes/Downloads/CV/projectos/GIT_TIT_PROJ/P_02/env2/lib/python3.9/site-packages/seaborn/_oldcore.py:1119: FutureWarning: use_inf_as_na option is deprecated and will be removed in a future version. Convert inf values to NaN before operating instead.\n",
      "  with pd.option_context('mode.use_inf_as_na', True):\n",
      "/home/eyes/Downloads/CV/projectos/GIT_TIT_PROJ/P_02/env2/lib/python3.9/site-packages/seaborn/_oldcore.py:1498: FutureWarning: is_categorical_dtype is deprecated and will be removed in a future version. Use isinstance(dtype, CategoricalDtype) instead\n",
      "  if pd.api.types.is_categorical_dtype(vector):\n",
      "/home/eyes/Downloads/CV/projectos/GIT_TIT_PROJ/P_02/env2/lib/python3.9/site-packages/seaborn/_oldcore.py:1119: FutureWarning: use_inf_as_na option is deprecated and will be removed in a future version. Convert inf values to NaN before operating instead.\n",
      "  with pd.option_context('mode.use_inf_as_na', True):\n",
      "/home/eyes/Downloads/CV/projectos/GIT_TIT_PROJ/P_02/env2/lib/python3.9/site-packages/seaborn/_oldcore.py:1498: FutureWarning: is_categorical_dtype is deprecated and will be removed in a future version. Use isinstance(dtype, CategoricalDtype) instead\n",
      "  if pd.api.types.is_categorical_dtype(vector):\n",
      "/home/eyes/Downloads/CV/projectos/GIT_TIT_PROJ/P_02/env2/lib/python3.9/site-packages/seaborn/_oldcore.py:1119: FutureWarning: use_inf_as_na option is deprecated and will be removed in a future version. Convert inf values to NaN before operating instead.\n",
      "  with pd.option_context('mode.use_inf_as_na', True):\n",
      "/home/eyes/Downloads/CV/projectos/GIT_TIT_PROJ/P_02/env2/lib/python3.9/site-packages/seaborn/_oldcore.py:1498: FutureWarning: is_categorical_dtype is deprecated and will be removed in a future version. Use isinstance(dtype, CategoricalDtype) instead\n",
      "  if pd.api.types.is_categorical_dtype(vector):\n",
      "/home/eyes/Downloads/CV/projectos/GIT_TIT_PROJ/P_02/env2/lib/python3.9/site-packages/seaborn/_oldcore.py:1119: FutureWarning: use_inf_as_na option is deprecated and will be removed in a future version. Convert inf values to NaN before operating instead.\n",
      "  with pd.option_context('mode.use_inf_as_na', True):\n",
      "/tmp/ipykernel_121709/2281661795.py:12: SettingWithCopyWarning: \n",
      "A value is trying to be set on a copy of a slice from a DataFrame.\n",
      "Try using .loc[row_indexer,col_indexer] = value instead\n",
      "\n",
      "See the caveats in the documentation: https://pandas.pydata.org/pandas-docs/stable/user_guide/indexing.html#returning-a-view-versus-a-copy\n",
      "  data_train['AgeQuantile'], bins = pd.qcut(data_train['Age'], num_quantiles, labels=False, retbins=True)\n",
      "/home/eyes/Downloads/CV/projectos/GIT_TIT_PROJ/P_02/env2/lib/python3.9/site-packages/seaborn/_oldcore.py:1498: FutureWarning: is_categorical_dtype is deprecated and will be removed in a future version. Use isinstance(dtype, CategoricalDtype) instead\n",
      "  if pd.api.types.is_categorical_dtype(vector):\n",
      "/home/eyes/Downloads/CV/projectos/GIT_TIT_PROJ/P_02/env2/lib/python3.9/site-packages/seaborn/_oldcore.py:1119: FutureWarning: use_inf_as_na option is deprecated and will be removed in a future version. Convert inf values to NaN before operating instead.\n",
      "  with pd.option_context('mode.use_inf_as_na', True):\n",
      "/home/eyes/Downloads/CV/projectos/GIT_TIT_PROJ/P_02/env2/lib/python3.9/site-packages/seaborn/_oldcore.py:1498: FutureWarning: is_categorical_dtype is deprecated and will be removed in a future version. Use isinstance(dtype, CategoricalDtype) instead\n",
      "  if pd.api.types.is_categorical_dtype(vector):\n",
      "/home/eyes/Downloads/CV/projectos/GIT_TIT_PROJ/P_02/env2/lib/python3.9/site-packages/seaborn/_oldcore.py:1119: FutureWarning: use_inf_as_na option is deprecated and will be removed in a future version. Convert inf values to NaN before operating instead.\n",
      "  with pd.option_context('mode.use_inf_as_na', True):\n",
      "/home/eyes/Downloads/CV/projectos/GIT_TIT_PROJ/P_02/env2/lib/python3.9/site-packages/seaborn/_oldcore.py:1498: FutureWarning: is_categorical_dtype is deprecated and will be removed in a future version. Use isinstance(dtype, CategoricalDtype) instead\n",
      "  if pd.api.types.is_categorical_dtype(vector):\n",
      "/home/eyes/Downloads/CV/projectos/GIT_TIT_PROJ/P_02/env2/lib/python3.9/site-packages/seaborn/_oldcore.py:1119: FutureWarning: use_inf_as_na option is deprecated and will be removed in a future version. Convert inf values to NaN before operating instead.\n",
      "  with pd.option_context('mode.use_inf_as_na', True):\n",
      "/home/eyes/Downloads/CV/projectos/GIT_TIT_PROJ/P_02/env2/lib/python3.9/site-packages/seaborn/_oldcore.py:1498: FutureWarning: is_categorical_dtype is deprecated and will be removed in a future version. Use isinstance(dtype, CategoricalDtype) instead\n",
      "  if pd.api.types.is_categorical_dtype(vector):\n",
      "/home/eyes/Downloads/CV/projectos/GIT_TIT_PROJ/P_02/env2/lib/python3.9/site-packages/seaborn/_oldcore.py:1119: FutureWarning: use_inf_as_na option is deprecated and will be removed in a future version. Convert inf values to NaN before operating instead.\n",
      "  with pd.option_context('mode.use_inf_as_na', True):\n",
      "/home/eyes/Downloads/CV/projectos/GIT_TIT_PROJ/P_02/env2/lib/python3.9/site-packages/seaborn/_oldcore.py:1498: FutureWarning: is_categorical_dtype is deprecated and will be removed in a future version. Use isinstance(dtype, CategoricalDtype) instead\n",
      "  if pd.api.types.is_categorical_dtype(vector):\n",
      "/home/eyes/Downloads/CV/projectos/GIT_TIT_PROJ/P_02/env2/lib/python3.9/site-packages/seaborn/_oldcore.py:1119: FutureWarning: use_inf_as_na option is deprecated and will be removed in a future version. Convert inf values to NaN before operating instead.\n",
      "  with pd.option_context('mode.use_inf_as_na', True):\n"
     ]
    },
    {
     "name": "stderr",
     "output_type": "stream",
     "text": [
      "/home/eyes/Downloads/CV/projectos/GIT_TIT_PROJ/P_02/env2/lib/python3.9/site-packages/seaborn/_oldcore.py:1498: FutureWarning: is_categorical_dtype is deprecated and will be removed in a future version. Use isinstance(dtype, CategoricalDtype) instead\n",
      "  if pd.api.types.is_categorical_dtype(vector):\n",
      "/home/eyes/Downloads/CV/projectos/GIT_TIT_PROJ/P_02/env2/lib/python3.9/site-packages/seaborn/_oldcore.py:1119: FutureWarning: use_inf_as_na option is deprecated and will be removed in a future version. Convert inf values to NaN before operating instead.\n",
      "  with pd.option_context('mode.use_inf_as_na', True):\n",
      "/home/eyes/Downloads/CV/projectos/GIT_TIT_PROJ/P_02/env2/lib/python3.9/site-packages/seaborn/_oldcore.py:1498: FutureWarning: is_categorical_dtype is deprecated and will be removed in a future version. Use isinstance(dtype, CategoricalDtype) instead\n",
      "  if pd.api.types.is_categorical_dtype(vector):\n",
      "/home/eyes/Downloads/CV/projectos/GIT_TIT_PROJ/P_02/env2/lib/python3.9/site-packages/seaborn/_oldcore.py:1119: FutureWarning: use_inf_as_na option is deprecated and will be removed in a future version. Convert inf values to NaN before operating instead.\n",
      "  with pd.option_context('mode.use_inf_as_na', True):\n",
      "/tmp/ipykernel_121709/2281661795.py:12: SettingWithCopyWarning: \n",
      "A value is trying to be set on a copy of a slice from a DataFrame.\n",
      "Try using .loc[row_indexer,col_indexer] = value instead\n",
      "\n",
      "See the caveats in the documentation: https://pandas.pydata.org/pandas-docs/stable/user_guide/indexing.html#returning-a-view-versus-a-copy\n",
      "  data_train['AgeQuantile'], bins = pd.qcut(data_train['Age'], num_quantiles, labels=False, retbins=True)\n",
      "/home/eyes/Downloads/CV/projectos/GIT_TIT_PROJ/P_02/env2/lib/python3.9/site-packages/seaborn/_oldcore.py:1498: FutureWarning: is_categorical_dtype is deprecated and will be removed in a future version. Use isinstance(dtype, CategoricalDtype) instead\n",
      "  if pd.api.types.is_categorical_dtype(vector):\n",
      "/home/eyes/Downloads/CV/projectos/GIT_TIT_PROJ/P_02/env2/lib/python3.9/site-packages/seaborn/_oldcore.py:1119: FutureWarning: use_inf_as_na option is deprecated and will be removed in a future version. Convert inf values to NaN before operating instead.\n",
      "  with pd.option_context('mode.use_inf_as_na', True):\n",
      "/home/eyes/Downloads/CV/projectos/GIT_TIT_PROJ/P_02/env2/lib/python3.9/site-packages/seaborn/_oldcore.py:1498: FutureWarning: is_categorical_dtype is deprecated and will be removed in a future version. Use isinstance(dtype, CategoricalDtype) instead\n",
      "  if pd.api.types.is_categorical_dtype(vector):\n",
      "/home/eyes/Downloads/CV/projectos/GIT_TIT_PROJ/P_02/env2/lib/python3.9/site-packages/seaborn/_oldcore.py:1119: FutureWarning: use_inf_as_na option is deprecated and will be removed in a future version. Convert inf values to NaN before operating instead.\n",
      "  with pd.option_context('mode.use_inf_as_na', True):\n",
      "/home/eyes/Downloads/CV/projectos/GIT_TIT_PROJ/P_02/env2/lib/python3.9/site-packages/seaborn/_oldcore.py:1498: FutureWarning: is_categorical_dtype is deprecated and will be removed in a future version. Use isinstance(dtype, CategoricalDtype) instead\n",
      "  if pd.api.types.is_categorical_dtype(vector):\n",
      "/home/eyes/Downloads/CV/projectos/GIT_TIT_PROJ/P_02/env2/lib/python3.9/site-packages/seaborn/_oldcore.py:1119: FutureWarning: use_inf_as_na option is deprecated and will be removed in a future version. Convert inf values to NaN before operating instead.\n",
      "  with pd.option_context('mode.use_inf_as_na', True):\n",
      "/home/eyes/Downloads/CV/projectos/GIT_TIT_PROJ/P_02/env2/lib/python3.9/site-packages/seaborn/_oldcore.py:1498: FutureWarning: is_categorical_dtype is deprecated and will be removed in a future version. Use isinstance(dtype, CategoricalDtype) instead\n",
      "  if pd.api.types.is_categorical_dtype(vector):\n",
      "/home/eyes/Downloads/CV/projectos/GIT_TIT_PROJ/P_02/env2/lib/python3.9/site-packages/seaborn/_oldcore.py:1119: FutureWarning: use_inf_as_na option is deprecated and will be removed in a future version. Convert inf values to NaN before operating instead.\n",
      "  with pd.option_context('mode.use_inf_as_na', True):\n",
      "/home/eyes/Downloads/CV/projectos/GIT_TIT_PROJ/P_02/env2/lib/python3.9/site-packages/seaborn/_oldcore.py:1498: FutureWarning: is_categorical_dtype is deprecated and will be removed in a future version. Use isinstance(dtype, CategoricalDtype) instead\n",
      "  if pd.api.types.is_categorical_dtype(vector):\n",
      "/home/eyes/Downloads/CV/projectos/GIT_TIT_PROJ/P_02/env2/lib/python3.9/site-packages/seaborn/_oldcore.py:1119: FutureWarning: use_inf_as_na option is deprecated and will be removed in a future version. Convert inf values to NaN before operating instead.\n",
      "  with pd.option_context('mode.use_inf_as_na', True):\n",
      "/home/eyes/Downloads/CV/projectos/GIT_TIT_PROJ/P_02/env2/lib/python3.9/site-packages/seaborn/_oldcore.py:1498: FutureWarning: is_categorical_dtype is deprecated and will be removed in a future version. Use isinstance(dtype, CategoricalDtype) instead\n",
      "  if pd.api.types.is_categorical_dtype(vector):\n",
      "/home/eyes/Downloads/CV/projectos/GIT_TIT_PROJ/P_02/env2/lib/python3.9/site-packages/seaborn/_oldcore.py:1119: FutureWarning: use_inf_as_na option is deprecated and will be removed in a future version. Convert inf values to NaN before operating instead.\n",
      "  with pd.option_context('mode.use_inf_as_na', True):\n",
      "/home/eyes/Downloads/CV/projectos/GIT_TIT_PROJ/P_02/env2/lib/python3.9/site-packages/seaborn/_oldcore.py:1498: FutureWarning: is_categorical_dtype is deprecated and will be removed in a future version. Use isinstance(dtype, CategoricalDtype) instead\n",
      "  if pd.api.types.is_categorical_dtype(vector):\n",
      "/home/eyes/Downloads/CV/projectos/GIT_TIT_PROJ/P_02/env2/lib/python3.9/site-packages/seaborn/_oldcore.py:1119: FutureWarning: use_inf_as_na option is deprecated and will be removed in a future version. Convert inf values to NaN before operating instead.\n",
      "  with pd.option_context('mode.use_inf_as_na', True):\n",
      "/home/eyes/Downloads/CV/projectos/GIT_TIT_PROJ/P_02/env2/lib/python3.9/site-packages/seaborn/_oldcore.py:1498: FutureWarning: is_categorical_dtype is deprecated and will be removed in a future version. Use isinstance(dtype, CategoricalDtype) instead\n",
      "  if pd.api.types.is_categorical_dtype(vector):\n",
      "/home/eyes/Downloads/CV/projectos/GIT_TIT_PROJ/P_02/env2/lib/python3.9/site-packages/seaborn/_oldcore.py:1119: FutureWarning: use_inf_as_na option is deprecated and will be removed in a future version. Convert inf values to NaN before operating instead.\n",
      "  with pd.option_context('mode.use_inf_as_na', True):\n",
      "/tmp/ipykernel_121709/2281661795.py:12: SettingWithCopyWarning: \n",
      "A value is trying to be set on a copy of a slice from a DataFrame.\n",
      "Try using .loc[row_indexer,col_indexer] = value instead\n",
      "\n",
      "See the caveats in the documentation: https://pandas.pydata.org/pandas-docs/stable/user_guide/indexing.html#returning-a-view-versus-a-copy\n",
      "  data_train['AgeQuantile'], bins = pd.qcut(data_train['Age'], num_quantiles, labels=False, retbins=True)\n",
      "/home/eyes/Downloads/CV/projectos/GIT_TIT_PROJ/P_02/env2/lib/python3.9/site-packages/seaborn/_oldcore.py:1498: FutureWarning: is_categorical_dtype is deprecated and will be removed in a future version. Use isinstance(dtype, CategoricalDtype) instead\n",
      "  if pd.api.types.is_categorical_dtype(vector):\n",
      "/home/eyes/Downloads/CV/projectos/GIT_TIT_PROJ/P_02/env2/lib/python3.9/site-packages/seaborn/_oldcore.py:1119: FutureWarning: use_inf_as_na option is deprecated and will be removed in a future version. Convert inf values to NaN before operating instead.\n",
      "  with pd.option_context('mode.use_inf_as_na', True):\n",
      "/home/eyes/Downloads/CV/projectos/GIT_TIT_PROJ/P_02/env2/lib/python3.9/site-packages/seaborn/_oldcore.py:1498: FutureWarning: is_categorical_dtype is deprecated and will be removed in a future version. Use isinstance(dtype, CategoricalDtype) instead\n",
      "  if pd.api.types.is_categorical_dtype(vector):\n",
      "/home/eyes/Downloads/CV/projectos/GIT_TIT_PROJ/P_02/env2/lib/python3.9/site-packages/seaborn/_oldcore.py:1119: FutureWarning: use_inf_as_na option is deprecated and will be removed in a future version. Convert inf values to NaN before operating instead.\n",
      "  with pd.option_context('mode.use_inf_as_na', True):\n",
      "/home/eyes/Downloads/CV/projectos/GIT_TIT_PROJ/P_02/env2/lib/python3.9/site-packages/seaborn/_oldcore.py:1498: FutureWarning: is_categorical_dtype is deprecated and will be removed in a future version. Use isinstance(dtype, CategoricalDtype) instead\n",
      "  if pd.api.types.is_categorical_dtype(vector):\n",
      "/home/eyes/Downloads/CV/projectos/GIT_TIT_PROJ/P_02/env2/lib/python3.9/site-packages/seaborn/_oldcore.py:1119: FutureWarning: use_inf_as_na option is deprecated and will be removed in a future version. Convert inf values to NaN before operating instead.\n",
      "  with pd.option_context('mode.use_inf_as_na', True):\n",
      "/home/eyes/Downloads/CV/projectos/GIT_TIT_PROJ/P_02/env2/lib/python3.9/site-packages/seaborn/_oldcore.py:1498: FutureWarning: is_categorical_dtype is deprecated and will be removed in a future version. Use isinstance(dtype, CategoricalDtype) instead\n",
      "  if pd.api.types.is_categorical_dtype(vector):\n",
      "/home/eyes/Downloads/CV/projectos/GIT_TIT_PROJ/P_02/env2/lib/python3.9/site-packages/seaborn/_oldcore.py:1119: FutureWarning: use_inf_as_na option is deprecated and will be removed in a future version. Convert inf values to NaN before operating instead.\n",
      "  with pd.option_context('mode.use_inf_as_na', True):\n",
      "/home/eyes/Downloads/CV/projectos/GIT_TIT_PROJ/P_02/env2/lib/python3.9/site-packages/seaborn/_oldcore.py:1498: FutureWarning: is_categorical_dtype is deprecated and will be removed in a future version. Use isinstance(dtype, CategoricalDtype) instead\n",
      "  if pd.api.types.is_categorical_dtype(vector):\n",
      "/home/eyes/Downloads/CV/projectos/GIT_TIT_PROJ/P_02/env2/lib/python3.9/site-packages/seaborn/_oldcore.py:1119: FutureWarning: use_inf_as_na option is deprecated and will be removed in a future version. Convert inf values to NaN before operating instead.\n",
      "  with pd.option_context('mode.use_inf_as_na', True):\n",
      "/home/eyes/Downloads/CV/projectos/GIT_TIT_PROJ/P_02/env2/lib/python3.9/site-packages/seaborn/_oldcore.py:1498: FutureWarning: is_categorical_dtype is deprecated and will be removed in a future version. Use isinstance(dtype, CategoricalDtype) instead\n",
      "  if pd.api.types.is_categorical_dtype(vector):\n",
      "/home/eyes/Downloads/CV/projectos/GIT_TIT_PROJ/P_02/env2/lib/python3.9/site-packages/seaborn/_oldcore.py:1119: FutureWarning: use_inf_as_na option is deprecated and will be removed in a future version. Convert inf values to NaN before operating instead.\n",
      "  with pd.option_context('mode.use_inf_as_na', True):\n",
      "/home/eyes/Downloads/CV/projectos/GIT_TIT_PROJ/P_02/env2/lib/python3.9/site-packages/seaborn/_oldcore.py:1498: FutureWarning: is_categorical_dtype is deprecated and will be removed in a future version. Use isinstance(dtype, CategoricalDtype) instead\n",
      "  if pd.api.types.is_categorical_dtype(vector):\n",
      "/home/eyes/Downloads/CV/projectos/GIT_TIT_PROJ/P_02/env2/lib/python3.9/site-packages/seaborn/_oldcore.py:1119: FutureWarning: use_inf_as_na option is deprecated and will be removed in a future version. Convert inf values to NaN before operating instead.\n",
      "  with pd.option_context('mode.use_inf_as_na', True):\n",
      "/home/eyes/Downloads/CV/projectos/GIT_TIT_PROJ/P_02/env2/lib/python3.9/site-packages/seaborn/_oldcore.py:1498: FutureWarning: is_categorical_dtype is deprecated and will be removed in a future version. Use isinstance(dtype, CategoricalDtype) instead\n",
      "  if pd.api.types.is_categorical_dtype(vector):\n",
      "/home/eyes/Downloads/CV/projectos/GIT_TIT_PROJ/P_02/env2/lib/python3.9/site-packages/seaborn/_oldcore.py:1119: FutureWarning: use_inf_as_na option is deprecated and will be removed in a future version. Convert inf values to NaN before operating instead.\n",
      "  with pd.option_context('mode.use_inf_as_na', True):\n",
      "/home/eyes/Downloads/CV/projectos/GIT_TIT_PROJ/P_02/env2/lib/python3.9/site-packages/seaborn/_oldcore.py:1498: FutureWarning: is_categorical_dtype is deprecated and will be removed in a future version. Use isinstance(dtype, CategoricalDtype) instead\n",
      "  if pd.api.types.is_categorical_dtype(vector):\n",
      "/home/eyes/Downloads/CV/projectos/GIT_TIT_PROJ/P_02/env2/lib/python3.9/site-packages/seaborn/_oldcore.py:1119: FutureWarning: use_inf_as_na option is deprecated and will be removed in a future version. Convert inf values to NaN before operating instead.\n",
      "  with pd.option_context('mode.use_inf_as_na', True):\n",
      "/tmp/ipykernel_121709/2281661795.py:12: SettingWithCopyWarning: \n",
      "A value is trying to be set on a copy of a slice from a DataFrame.\n",
      "Try using .loc[row_indexer,col_indexer] = value instead\n",
      "\n",
      "See the caveats in the documentation: https://pandas.pydata.org/pandas-docs/stable/user_guide/indexing.html#returning-a-view-versus-a-copy\n",
      "  data_train['AgeQuantile'], bins = pd.qcut(data_train['Age'], num_quantiles, labels=False, retbins=True)\n",
      "/home/eyes/Downloads/CV/projectos/GIT_TIT_PROJ/P_02/env2/lib/python3.9/site-packages/seaborn/_oldcore.py:1498: FutureWarning: is_categorical_dtype is deprecated and will be removed in a future version. Use isinstance(dtype, CategoricalDtype) instead\n",
      "  if pd.api.types.is_categorical_dtype(vector):\n",
      "/home/eyes/Downloads/CV/projectos/GIT_TIT_PROJ/P_02/env2/lib/python3.9/site-packages/seaborn/_oldcore.py:1119: FutureWarning: use_inf_as_na option is deprecated and will be removed in a future version. Convert inf values to NaN before operating instead.\n",
      "  with pd.option_context('mode.use_inf_as_na', True):\n",
      "/home/eyes/Downloads/CV/projectos/GIT_TIT_PROJ/P_02/env2/lib/python3.9/site-packages/seaborn/_oldcore.py:1498: FutureWarning: is_categorical_dtype is deprecated and will be removed in a future version. Use isinstance(dtype, CategoricalDtype) instead\n",
      "  if pd.api.types.is_categorical_dtype(vector):\n",
      "/home/eyes/Downloads/CV/projectos/GIT_TIT_PROJ/P_02/env2/lib/python3.9/site-packages/seaborn/_oldcore.py:1119: FutureWarning: use_inf_as_na option is deprecated and will be removed in a future version. Convert inf values to NaN before operating instead.\n",
      "  with pd.option_context('mode.use_inf_as_na', True):\n",
      "/home/eyes/Downloads/CV/projectos/GIT_TIT_PROJ/P_02/env2/lib/python3.9/site-packages/seaborn/_oldcore.py:1498: FutureWarning: is_categorical_dtype is deprecated and will be removed in a future version. Use isinstance(dtype, CategoricalDtype) instead\n",
      "  if pd.api.types.is_categorical_dtype(vector):\n",
      "/home/eyes/Downloads/CV/projectos/GIT_TIT_PROJ/P_02/env2/lib/python3.9/site-packages/seaborn/_oldcore.py:1119: FutureWarning: use_inf_as_na option is deprecated and will be removed in a future version. Convert inf values to NaN before operating instead.\n",
      "  with pd.option_context('mode.use_inf_as_na', True):\n",
      "/home/eyes/Downloads/CV/projectos/GIT_TIT_PROJ/P_02/env2/lib/python3.9/site-packages/seaborn/_oldcore.py:1498: FutureWarning: is_categorical_dtype is deprecated and will be removed in a future version. Use isinstance(dtype, CategoricalDtype) instead\n",
      "  if pd.api.types.is_categorical_dtype(vector):\n",
      "/home/eyes/Downloads/CV/projectos/GIT_TIT_PROJ/P_02/env2/lib/python3.9/site-packages/seaborn/_oldcore.py:1119: FutureWarning: use_inf_as_na option is deprecated and will be removed in a future version. Convert inf values to NaN before operating instead.\n",
      "  with pd.option_context('mode.use_inf_as_na', True):\n",
      "/home/eyes/Downloads/CV/projectos/GIT_TIT_PROJ/P_02/env2/lib/python3.9/site-packages/seaborn/_oldcore.py:1498: FutureWarning: is_categorical_dtype is deprecated and will be removed in a future version. Use isinstance(dtype, CategoricalDtype) instead\n",
      "  if pd.api.types.is_categorical_dtype(vector):\n",
      "/home/eyes/Downloads/CV/projectos/GIT_TIT_PROJ/P_02/env2/lib/python3.9/site-packages/seaborn/_oldcore.py:1119: FutureWarning: use_inf_as_na option is deprecated and will be removed in a future version. Convert inf values to NaN before operating instead.\n",
      "  with pd.option_context('mode.use_inf_as_na', True):\n",
      "/home/eyes/Downloads/CV/projectos/GIT_TIT_PROJ/P_02/env2/lib/python3.9/site-packages/seaborn/_oldcore.py:1498: FutureWarning: is_categorical_dtype is deprecated and will be removed in a future version. Use isinstance(dtype, CategoricalDtype) instead\n",
      "  if pd.api.types.is_categorical_dtype(vector):\n",
      "/home/eyes/Downloads/CV/projectos/GIT_TIT_PROJ/P_02/env2/lib/python3.9/site-packages/seaborn/_oldcore.py:1119: FutureWarning: use_inf_as_na option is deprecated and will be removed in a future version. Convert inf values to NaN before operating instead.\n",
      "  with pd.option_context('mode.use_inf_as_na', True):\n",
      "/home/eyes/Downloads/CV/projectos/GIT_TIT_PROJ/P_02/env2/lib/python3.9/site-packages/seaborn/_oldcore.py:1498: FutureWarning: is_categorical_dtype is deprecated and will be removed in a future version. Use isinstance(dtype, CategoricalDtype) instead\n",
      "  if pd.api.types.is_categorical_dtype(vector):\n",
      "/home/eyes/Downloads/CV/projectos/GIT_TIT_PROJ/P_02/env2/lib/python3.9/site-packages/seaborn/_oldcore.py:1119: FutureWarning: use_inf_as_na option is deprecated and will be removed in a future version. Convert inf values to NaN before operating instead.\n",
      "  with pd.option_context('mode.use_inf_as_na', True):\n",
      "/home/eyes/Downloads/CV/projectos/GIT_TIT_PROJ/P_02/env2/lib/python3.9/site-packages/seaborn/_oldcore.py:1498: FutureWarning: is_categorical_dtype is deprecated and will be removed in a future version. Use isinstance(dtype, CategoricalDtype) instead\n",
      "  if pd.api.types.is_categorical_dtype(vector):\n",
      "/home/eyes/Downloads/CV/projectos/GIT_TIT_PROJ/P_02/env2/lib/python3.9/site-packages/seaborn/_oldcore.py:1119: FutureWarning: use_inf_as_na option is deprecated and will be removed in a future version. Convert inf values to NaN before operating instead.\n",
      "  with pd.option_context('mode.use_inf_as_na', True):\n",
      "/home/eyes/Downloads/CV/projectos/GIT_TIT_PROJ/P_02/env2/lib/python3.9/site-packages/seaborn/_oldcore.py:1498: FutureWarning: is_categorical_dtype is deprecated and will be removed in a future version. Use isinstance(dtype, CategoricalDtype) instead\n",
      "  if pd.api.types.is_categorical_dtype(vector):\n",
      "/home/eyes/Downloads/CV/projectos/GIT_TIT_PROJ/P_02/env2/lib/python3.9/site-packages/seaborn/_oldcore.py:1119: FutureWarning: use_inf_as_na option is deprecated and will be removed in a future version. Convert inf values to NaN before operating instead.\n",
      "  with pd.option_context('mode.use_inf_as_na', True):\n",
      "/home/eyes/Downloads/CV/projectos/GIT_TIT_PROJ/P_02/env2/lib/python3.9/site-packages/seaborn/_oldcore.py:1498: FutureWarning: is_categorical_dtype is deprecated and will be removed in a future version. Use isinstance(dtype, CategoricalDtype) instead\n",
      "  if pd.api.types.is_categorical_dtype(vector):\n",
      "/home/eyes/Downloads/CV/projectos/GIT_TIT_PROJ/P_02/env2/lib/python3.9/site-packages/seaborn/_oldcore.py:1119: FutureWarning: use_inf_as_na option is deprecated and will be removed in a future version. Convert inf values to NaN before operating instead.\n",
      "  with pd.option_context('mode.use_inf_as_na', True):\n"
     ]
    },
    {
     "data": {
      "image/png": "[encoded data removed]",
      "text/plain": [
       "<Figure size 2000x3000 with 8 Axes>"
      ]
     },
     "metadata": {},
     "output_type": "display_data"
    }
   ],
   "source": [
    "!pip install google-auth-oauthlib -q!pip install google-auth-oauthlib -qimport seaborn as sns\n",
    "import matplotlib.pyplot as plt\n",
    "import pandas as pd\n",
    "import numpy as np\n",
    "\n",
    "# Configuraciones iniciales\n",
    "plt.figure(figsize=(20,30))\n",
    "\n",
    "# Bucle para crear subplots para cada número de cuantiles (desde 3 hasta 10)\n",
    "for i, num_quantiles in enumerate(range(3, 11)):\n",
    "    # Crea cuantiles para la variable 'Age'\n",
    "    data_train['AgeQuantile'], bins = pd.qcut(data_train['Age'], num_quantiles, labels=False, retbins=True)\n",
    "\n",
    "    # Configura el subplot\n",
    "    ax = plt.subplot(4, 2, i+1)\n",
    "\n",
    "    # Dibuja los datos\n",
    "    for q in range(num_quantiles):\n",
    "        subset = data_train[data_train['AgeQuantile'] == q]\n",
    "        sns.histplot(subset['Age'], kde=False, bins=30, color=sns.color_palette(\"pastel\")[q], ax=ax, label=f'Quantile {q+1}', element=\"step\")\n",
    "\n",
    "    # Dibuja líneas verticales para los bordes de los cuantiles\n",
    "    for b in bins:\n",
    "        ax.axvline(b, color='black', linestyle='--', linewidth=0.8)\n",
    "\n",
    "    ax.set_title(f'{num_quantiles} Quantiles')\n",
    "    ax.set_xlabel('Age')\n",
    "    ax.set_ylabel('Number of Survived')\n",
    "    ax.legend()\n",
    "\n",
    "plt.tight_layout()\n",
    "plt.show()\n"
   ]
  },
  {
   "cell_type": "markdown",
   "metadata": {
    "id": "YQCmBKs4GzCS"
   },
   "source": [
    "Dado que los modelos usados en tensorflow tienen integrada la opcion de Validacion cruzada, no crearemos esa division de datos hasta ese momento."
   ]
  },
  {
   "cell_type": "markdown",
   "metadata": {
    "id": "EAtIUh0k0BY5"
   },
   "source": [
    "Empezaremos con la fase de Limpieza de datos.\n",
    "\n",
    "Usaremos una metodologia que consiste en revisar columna a columna una lista de limpieza comun a los datos.\n",
    "\n",
    "\n",
    "* 1  : Repetibilidad en los datos. Existen Datos Repetidos.\n",
    "* 2  : Inexistencia de datos. Hay datos faltantes, ¿Cómo se tratan?\n",
    "* 3  : Error en los datos. Hay datos que no sean coherentes con los demás\n",
    "* 4  : Errores de formato. ‘Espacios en blanco’ error en tipos de datos como char e int, formato de fechas,\n",
    "* 5  :Verificar formato de fechas\n",
    "* 6  :Verificar N/a\n",
    "* 7  :Verificar espacios en blanco\n",
    "* 8  :Verificar puntos decimal\n",
    "* 9  :Verificar texto en formato número\n",
    "* 10 :Verificar misma shape\n",
    "* 11 :Verificar ortografía\n",
    "* 12 :Verificar duplicados\n",
    "* 13 :Verificar rango de datos\n",
    "* 14 :Verificar números no estén en formato porcentaje o otro\n",
    "* 15 :Verificar conversiones pesos dólares etc\n",
    "* 16 :Verificar nombres no sean iguales en duplicados ej: mexico=mex=méxico\n",
    "* 17 :Verificar en fechas horario de verano, invierno.\n",
    "\n",
    "\n"
   ]
  },
  {
   "cell_type": "markdown",
   "metadata": {
    "id": "MBP4CdCrMnJ9"
   },
   "source": [
    "Dado que las mismas transformaciones las haremos al conjunto de test, el enfoque sera crear en funciones las transformaciones."
   ]
  },
  {
   "cell_type": "code",
   "execution_count": 23,
   "metadata": {
    "id": "2HVwfj02nGfm"
   },
   "outputs": [],
   "source": [
    "from sklearn.base import BaseEstimator, TransformerMixin\n",
    "import pandas as pd\n",
    "from sklearn.preprocessing import StandardScaler, MinMaxScaler\n",
    "from sklearn.impute import SimpleImputer\n",
    "from sklearn.preprocessing import OneHotEncoder\n",
    "from sklearn.pipeline import Pipeline\n",
    "from sklearn.cluster import KMeans\n",
    "import pandas as pd\n",
    "from sklearn.compose import ColumnTransformer\n",
    "from sklearn.preprocessing import StandardScaler, OneHotEncoder, OrdinalEncoder\n",
    "import re\n",
    "from scipy import stats\n",
    "import numpy as np"
   ]
  },
  {
   "cell_type": "code",
   "execution_count": 24,
   "metadata": {
    "colab": {
     "base_uri": "https://localhost:8080/"
    },
    "id": "lkRVuB8GQFCs",
    "outputId": "dcfcb281-df00-421b-f89a-d74b41e7b538"
   },
   "outputs": [
    {
     "name": "stdout",
     "output_type": "stream",
     "text": [
      "The data seems to follow a unknown distribution.\n"
     ]
    }
   ],
   "source": [
    "def identify_distribution(data):\n",
    "    size = len(data)\n",
    "    y, x = np.histogram(data, bins='auto', density=True)\n",
    "    x = (x + np.roll(x, -1))[:-1] / 2.0\n",
    "\n",
    "    # Prueba de Normalidad\n",
    "    shapiro_test_stat, shapiro_p_value = stats.shapiro(data)\n",
    "    if shapiro_p_value > 0.05:\n",
    "        return 'normal'\n",
    "\n",
    "    # Ajustar y probar otras distribuciones\n",
    "    distributions = ['chi2', 't', 'gamma', 'expon', 'lognorm', 'weibull_min', 'weibull_max']\n",
    "    for distribution in distributions:\n",
    "        if distribution == 'chi2':\n",
    "            params = stats.chi2.fit(data)\n",
    "        elif distribution == 't':\n",
    "            params = stats.t.fit(data)\n",
    "        elif distribution == 'gamma':\n",
    "            params = stats.gamma.fit(data)\n",
    "        elif distribution == 'expon':\n",
    "            params = stats.expon.fit(data)\n",
    "        elif distribution == 'lognorm':\n",
    "            params = stats.lognorm.fit(data)\n",
    "        elif distribution == 'weibull_min':\n",
    "            params = stats.weibull_min.fit(data)\n",
    "        elif distribution == 'weibull_max':\n",
    "            params = stats.weibull_max.fit(data)\n",
    "\n",
    "        # Test de Kolmogorov-Smirnov\n",
    "        d, p = stats.kstest(y, distribution, args=params)\n",
    "        if p > 0.05:\n",
    "            return distribution\n",
    "\n",
    "    return 'unknown'\n",
    "\n",
    "# Ejemplo\n",
    "distribution = identify_distribution(data_train.loc[~data_train['Age'].isnull(),'Age'])\n",
    "print(f\"The data seems to follow a {distribution} distribution.\")\n"
   ]
  },
  {
   "cell_type": "code",
   "execution_count": 25,
   "metadata": {
    "id": "D9FKyyoVvGaW"
   },
   "outputs": [],
   "source": [
    "class DataSetPreparation(BaseEstimator, TransformerMixin):\n",
    "    def __init__(self):\n",
    "        # Definimos las categorías para cada columna\n",
    "        self.name_categories = ['BUCKET_MR', 'BUCKET_MISS', 'BUCKET_MRS', 'BUCKET_NONE']\n",
    "        self.sex_categories = ['f', 'M', 'O']\n",
    "        self.embarked_categories = ['s', 'c', 'q', 'o']\n",
    "        self.cabin_level_categories = ['A', 'B', 'C', 'D', 'E', 'F', 'G', 'U']\n",
    "\n",
    "        self.std_scaler = StandardScaler()\n",
    "        self.minmax_scaler = MinMaxScaler()\n",
    "        self.imputer = SimpleImputer(strategy='mean')\n",
    "        self.imputer_2 = SimpleImputer(strategy='most_frequent')\n",
    "\n",
    "        # Columns\n",
    "        self.BINARY_FEATURES = ['Sex']\n",
    "        self.NUMERIC_FEATURES = ['Age', 'Fare']\n",
    "        self.CATEGORICAL_FEATURES = ['Pclass', 'Embarked','Parch', 'SibSp']\n",
    "\n",
    "    def fit(self, X, y=None):\n",
    "        X = X.copy()\n",
    "\n",
    "        # Imputar valores faltantes para columnas excepto 'Age'\n",
    "        for col in ['Pclass', 'SibSp', 'Parch', 'Fare']:\n",
    "            X[col] = self.imputer.fit_transform(X[[col]])\n",
    "\n",
    "        # Calcular media y desviación estándar (no sesgada) de la edad\n",
    "        self.age_mean = X['Age'].mean()\n",
    "        self.age_std = X['Age'].std(ddof=1)  # ddof=1 para desviación estándar no sesgada\n",
    "\n",
    "        # Contar cuántos valores faltantes de edad hay\n",
    "        missing_age_count = X['Age'].isnull().sum()\n",
    "\n",
    "        # Generar una muestra aleatoria de edades basada en la media y desviación estándar\n",
    "        age_sample = np.random.normal(self.age_mean, self.age_std, missing_age_count)\n",
    "\n",
    "        # Rellenar valores faltantes de edad con la muestra generada\n",
    "        age_series = X['Age'].copy()\n",
    "        age_series[np.isnan(age_series)] = age_sample\n",
    "        X['Age'] = age_series\n",
    "        X[\"Embarked\"] = self.imputer_2.fit_transform(X[[\"Embarked\"]]).ravel()\n",
    "\n",
    "        # Ajustar el escalador de estandarización\n",
    "        self.std_scaler.fit(X[['Pclass', 'Age', 'SibSp', 'Parch', 'Fare']])\n",
    "        # Transformar los datos con el escalador de estandarización y ajustar el escalador MinMax\n",
    "        self.minmax_scaler.fit(X[['Pclass', 'Age', 'SibSp', 'Parch', 'Fare']])\n",
    "\n",
    "        self.ticket_frequencies = X['Ticket'].fillna(\"Unknown\").value_counts()\n",
    "        self.cabin_frequencies = X['Cabin'].value_counts()\n",
    "\n",
    "        self.preprocessor = ColumnTransformer(\n",
    "            transformers=[\n",
    "                ('bin', OrdinalEncoder(), self.BINARY_FEATURES),\n",
    "                ('num', StandardScaler(), self.NUMERIC_FEATURES),\n",
    "                ('cat', OneHotEncoder(handle_unknown='ignore'), self.CATEGORICAL_FEATURES)\n",
    "            ]\n",
    "        )\n",
    "\n",
    "        self.preprocessor.fit(X)\n",
    "\n",
    "        return self\n",
    "\n",
    "    def transform(self, X, y=None):\n",
    "        # Borrar duplicados\n",
    "        X = X.drop_duplicates().copy()\n",
    "        missing_age_count = X['Age'].isnull().sum()\n",
    "        age_sample = np.random.normal(self.age_mean, self.age_std, missing_age_count)\n",
    "        age_series = X['Age'].copy()\n",
    "        age_series[np.isnan(age_series)] = age_sample\n",
    "        X['Age'] = age_series\n",
    "        # Rellenar valores faltantes para las columnas numéricas con las medianas \"aprendidas\" durante el fit\n",
    "        for col in [\"Pclass\", \"Age\", \"SibSp\", \"Parch\", \"Fare\"]:\n",
    "            X[col].fillna(-1, inplace=True)\n",
    "        X[\"Embarked\"] = self.imputer_2.transform(X[[\"Embarked\"]]).ravel() #ravel convierte 2d en 1d\n",
    "\n",
    "        \n",
    "        \n",
    "\n",
    "        for col in [\"Name\", \"Sex\", \"Ticket\", \"Cabin\"]:\n",
    "            X[col].fillna(\"Unknown\", inplace=True)\n",
    "\n",
    "##-----------------------VARIABLE CATEGORICAS AUN -------------------------------------------##\n",
    "        X['NAME_BUCKET'] = X['Name'].apply(self.categorize_name)       #4 VALORES POSIBLES\n",
    "        X['SEX_BUCKET']  = X['Sex'].apply(self.categorize_sex)         #3 VALORES POSIBLES\n",
    "        X['EMBARKED']  = X['Embarked'].apply(self.categorize_embarked) #4 VALORES POSIBLES\n",
    "\n",
    "        # FEATURE SINTETIC\n",
    "        X['CABINLEVEL'] = X['Cabin'].str[0].fillna(\"Unknown\")          #8 VALORES POSIBLES\n",
    "\n",
    "###---------------------------------------------VARIABLES FLOAT -------------------------------------------------------------------##\n",
    "        # Transformar usando estandarización y guardar en nuevas columnas\n",
    "        X[\"AGE\"] = X[\"Age\"]\n",
    "###----------------------------towards------------------\n",
    "        data = [X]\n",
    "        for dataset in data:\n",
    "            dataset['relatives'] = dataset['SibSp'] + dataset['Parch']\n",
    "            dataset.loc[dataset['relatives'] > 0, 'not_alone'] = 0\n",
    "            dataset.loc[dataset['relatives'] == 0, 'not_alone'] = 1\n",
    "            dataset['not_alone'] = dataset['not_alone'].astype(int)\n",
    "        deck = {\"A\": 1, \"B\": 2, \"C\": 3, \"D\": 4, \"E\": 5, \"F\": 6, \"G\": 7, \"U\": 8}\n",
    "        for dataset in data:\n",
    "            dataset['CABIN'] = dataset['Cabin'].fillna(\"U0\")\n",
    "            dataset['Deck'] = dataset['CABIN'].map(lambda x: re.compile(\"([a-zA-Z]+)\").search(x).group())\n",
    "            dataset['Deck'] = dataset['Deck'].map(deck)\n",
    "            dataset['Deck'] = dataset['Deck'].fillna(0)\n",
    "            dataset['Deck'] = dataset['Deck'].astype(int)\n",
    "        X = X.drop(['CABIN'], axis=1)\n",
    "        for dataset in data:\n",
    "            mean = self.age_mean\n",
    "            std = self.age_std\n",
    "            is_null = dataset[\"Age\"].isnull().sum()\n",
    "            # compute random numbers between the mean, std and is_null\n",
    "            rand_age = np.random.randint(mean - std, mean + std, size=is_null)\n",
    "            # fill NaN values in Age column with random values generated\n",
    "            age_slice = dataset[\"Age\"].copy()\n",
    "            age_slice[np.isnan(age_slice)] = rand_age\n",
    "            dataset[\"Age\"] = age_slice\n",
    "            dataset[\"AGE2\"] = dataset[\"Age\"].astype(int)\n",
    "        common_value = 'S'\n",
    "        for dataset in data:\n",
    "            dataset['EMBARKED'] = dataset['Embarked'].fillna(common_value)\n",
    "        for dataset in data:\n",
    "            dataset['FARE'] = dataset['Fare'].fillna(0)\n",
    "            dataset['FARE'] = dataset['FARE'].astype(int)\n",
    "        titles = {\"Mr\": 1, \"Miss\": 2, \"Mrs\": 3, \"Master\": 4, \"Rare\": 5}\n",
    "        for dataset in data:\n",
    "            # extract titles\n",
    "            dataset['TITLE'] = dataset.Name.str.extract(' ([A-Za-z]+)\\.', expand=False)\n",
    "            # replace titles with a more common title or as Rare\n",
    "            dataset['TITLE'] = dataset['TITLE'].replace(['Lady', 'Countess','Capt', 'Col','Don', 'Dr',\\\n",
    "                                                    'Major', 'Rev', 'Sir', 'Jonkheer', 'Dona'], 'Rare')\n",
    "            dataset['TITLE'] = dataset['TITLE'].replace('Mlle', 'Miss')\n",
    "            dataset['TITLE'] = dataset['TITLE'].replace('Ms', 'Miss')\n",
    "            dataset['TITLE'] = dataset['TITLE'].replace('Mme', 'Mrs')\n",
    "            # convert titles into numbers\n",
    "            dataset['TITLE'] = dataset['TITLE'].map(titles)\n",
    "            # filling NaN with 0, to get safe\n",
    "            dataset['TITLE'] = dataset['TITLE'].fillna(0)\n",
    "        genders = {\"male\": 0, \"female\": 1}\n",
    "        for dataset in data:\n",
    "            dataset['SEX'] = dataset['Sex'].map(genders)\n",
    "        ports = {\"S\": 0, \"C\": 1, \"Q\": 2}\n",
    "        for dataset in data:\n",
    "            dataset['EMBARKED'] = dataset['EMBARKED'].map(ports)\n",
    "        for dataset in data:\n",
    "            dataset['AGE2'] = dataset['AGE2'].astype(int)\n",
    "            dataset.loc[ dataset['AGE2'] <= 11, 'AGE2'] = 0\n",
    "            dataset.loc[(dataset['AGE2'] > 11) & (dataset['AGE2'] <= 18), 'AGE2'] = 1\n",
    "            dataset.loc[(dataset['AGE2'] > 18) & (dataset['AGE2'] <= 22), 'AGE2'] = 2\n",
    "            dataset.loc[(dataset['AGE2'] > 22) & (dataset['AGE2'] <= 27), 'AGE2'] = 3\n",
    "            dataset.loc[(dataset['AGE2'] > 27) & (dataset['AGE2'] <= 33), 'AGE2'] = 4\n",
    "            dataset.loc[(dataset['AGE2'] > 33) & (dataset['AGE2'] <= 40), 'AGE2'] = 5\n",
    "            dataset.loc[(dataset['AGE2'] > 40) & (dataset['AGE2'] <= 66), 'AGE2'] = 6\n",
    "            dataset.loc[ dataset['AGE2'] > 66, 'AGE2'] = 6\n",
    "        for dataset in data:\n",
    "            dataset.loc[ dataset['FARE'] <= 7.91, 'FARE'] = 0\n",
    "            dataset.loc[(dataset['FARE'] > 7.91) & (dataset['FARE'] <= 14.454), 'FARE'] = 1\n",
    "            dataset.loc[(dataset['FARE'] > 14.454) & (dataset['FARE'] <= 31), 'FARE']   = 2\n",
    "            dataset.loc[(dataset['FARE'] > 31) & (dataset['FARE'] <= 99), 'FARE']   = 3\n",
    "            dataset.loc[(dataset['FARE'] > 99) & (dataset['FARE'] <= 250), 'FARE']   = 4\n",
    "            dataset.loc[ dataset['FARE'] > 250, 'FARE'] = 5\n",
    "            dataset['FARE'] = dataset['FARE'].astype(int)\n",
    "        for dataset in data:\n",
    "            dataset['Age_Class']= dataset['AGE2']* dataset['Pclass']\n",
    "        for dataset in data:\n",
    "            dataset['Fare_Per_Person'] = dataset['Fare']/(dataset['relatives']+1)\n",
    "            dataset['Fare_Per_Person'] = dataset['Fare_Per_Person'].astype(int)\n",
    "        # Crear columnas basadas en diferentes cuantiles\n",
    "        for i in range(3, 16):  # Desde 3 hasta 15 cuantiles\n",
    "            col_name = f\"AGE_NoCuantiles_{i}\"\n",
    "            X[col_name] = self.assign_quantile(X, \"Age\", i)\n",
    "        data_transformed = self.preprocessor.transform(X)\n",
    "        df_transformed = pd.DataFrame(data_transformed)\n",
    "        X = pd.concat([X.reset_index(drop=True), df_transformed.reset_index(drop=True)], axis=1)\n",
    "        X.loc[:, ['Pclass_std', 'Age_std', 'SibSp_std', 'Parch_std', 'Fare_std']] = self.std_scaler.transform(X[['Pclass', 'Age', 'SibSp', 'Parch', 'Fare']])\n",
    "        # Transformar usando MinMaxScaler y guardar en otras nuevas columnas\n",
    "        X.loc[:, ['Pclass_mm', 'Age_mm', 'SibSp_mm', 'Parch_mm', 'Fare_mm']] = self.minmax_scaler.transform(X[['Pclass', 'Age', 'SibSp', 'Parch', 'Fare']])\n",
    "    ##-------------------FEATURE ENGINEER A VARIABLES CATEGORICAS BRUTAS  -> FLOAT/INT---------------------------------------------------------#\n",
    "        X['TICKET_BUCKET']  = X['Ticket'].apply(self.categorize_ticket)\n",
    "        X['GROUPSIZE'] = X['Ticket'].map(self.ticket_frequencies).fillna(1)\n",
    "        # Paso 2: Ajustar la columna \"GROUPSIZE\" con SibSp y Parch\n",
    "        X['GROUPSIZE'] = X.apply(lambda row: max(row['GROUPSIZE'], row['SibSp'] + row['Parch'] + 1), axis=1)\n",
    "        # Paso 3: Crear una columna \"IsAlone\"\n",
    "        X['ISALONE'] = (X['GROUPSIZE'] == 1).astype(int)\n",
    "        # FEATURE SINTETIC\n",
    "        X['CABINGROUPSIZE'] = X['Cabin'].map(self.cabin_frequencies).fillna(-1)#4 VALORES POSIBLES\n",
    "##-----------------------FEATURE ENGINEER A VARIABLES CATEGORICAS LIMPIADAS -> FLOAT-------------------------------------------##\n",
    "        # Aplica la función custom_ohe a cada columna\n",
    "        name_ohe = self.custom_ohe(X['NAME_BUCKET'], self.name_categories)\n",
    "        sex_ohe = self.custom_ohe(X['SEX_BUCKET'], self.sex_categories)\n",
    "        embarked_ohe = self.custom_ohe(X['EMBARKED'], self.embarked_categories)\n",
    "        cabin_ohe = self.custom_ohe(X['CABINLEVEL'], self.cabin_level_categories)\n",
    "\n",
    "        # Combina los DataFrames resultantes\n",
    "        X.columns = X.columns.astype(str)\n",
    "        ohe_result = pd.concat([name_ohe, sex_ohe, embarked_ohe, cabin_ohe], axis=1)\n",
    "        X = pd.concat([X, ohe_result], axis=1)\n",
    "        return X\n",
    "\n",
    "    @staticmethod\n",
    "    def categorize_name(name):\n",
    "        name_lower = name.lower()\n",
    "        if 'mr' in name_lower:\n",
    "            return 'BUCKET_MR'\n",
    "        elif 'miss' in name_lower or 'mlle' in name_lower or 'ms' in name_lower:\n",
    "            return 'BUCKET_MISS'\n",
    "        elif 'mrs' in name_lower or 'Mme' in name_lower:\n",
    "            return 'BUCKET_MRS'\n",
    "        else:\n",
    "            return 'BUCKET_NONE'\n",
    "    @staticmethod\n",
    "    def categorize_sex(sex):\n",
    "        sex_lower = sex.lower()\n",
    "        if 'female' in sex_lower:\n",
    "            return 'f'\n",
    "        elif 'male' in sex_lower:\n",
    "            return 'M'\n",
    "        else:\n",
    "            return 'O'\n",
    "    def categorize_ticket(self, ticket):\n",
    "        freq = self.ticket_frequencies.get(ticket, 0)\n",
    "        return freq if 1 <= freq <= 7 else 0\n",
    "    # Función para asignar cuantiles\n",
    "    @staticmethod   #Los metodos estaticos no usan self\n",
    "    def assign_quantile(df, column, n_quantiles):\n",
    "        labels = list(range(1, n_quantiles + 1))\n",
    "        return pd.qcut(df[column], q=n_quantiles, labels=labels).astype(int)\n",
    "    @staticmethod\n",
    "    def categorize_embarked(em):\n",
    "        em_lower = em.lower()\n",
    "        if 's' in em_lower:\n",
    "            return 's'\n",
    "        elif 'c' in em_lower:\n",
    "            return 'c'\n",
    "        elif 'q' in em_lower:\n",
    "            return 'q'\n",
    "        else:\n",
    "            return 'o'\n",
    "    def custom_ohe(self, column, categories):\n",
    "        \"\"\"Aplica One-Hot Encoding a la columna dadas las categorías especificadas.\"\"\"\n",
    "        # Crea un DataFrame con OHE\n",
    "        ohe_df = pd.get_dummies(column, prefix_sep='_')\n",
    "\n",
    "        # Crea un DataFrame vacío con las categorías deseadas\n",
    "        custom_ohe_df = pd.DataFrame(0, index=ohe_df.index, columns=categories)\n",
    "\n",
    "        # Llena el DataFrame personalizado con las columnas del OHE original\n",
    "        for col in categories:\n",
    "            if col in ohe_df.columns:\n",
    "                custom_ohe_df[col] = ohe_df[col].values\n",
    "\n",
    "        return custom_ohe_df\n",
    "    def preprocess_data(self, df: pd.DataFrame) -> pd.DataFrame:\n",
    "        # 1. Clean missing numerics\n",
    "        for n in self.NUMERIC_FEATURES:\n",
    "            df[n] = pd.to_numeric(df[n], errors='coerce')\n",
    "        df = df.fillna(df.mean())\n",
    "\n",
    "        # 2. Transformation Pipeline\n",
    "        preprocessor = ColumnTransformer(\n",
    "            transformers=[\n",
    "                ('bin', OrdinalEncoder(), self.BINARY_FEATURES),\n",
    "                ('num', StandardScaler(), self.NUMERIC_FEATURES),\n",
    "                ('cat', OneHotEncoder(handle_unknown='ignore'), self.CATEGORICAL_FEATURES)\n",
    "            ]\n",
    "        )\n",
    "\n",
    "        data_transformed = preprocessor.fit_transform(df)\n",
    "\n",
    "        # Convert transformed data back to DataFrame for readability (optional)\n",
    "        columns_transformed = (self.BINARY_FEATURES +\n",
    "                              self.NUMERIC_FEATURES +\n",
    "                              list(preprocessor.named_transformers_['cat'].get_feature_names_out(self.CATEGORICAL_FEATURES)))\n",
    "\n",
    "        df_transformed = pd.DataFrame(data_transformed, columns=columns_transformed)\n",
    "\n",
    "        return df_transformed"
   ]
  },
  {
   "cell_type": "code",
   "execution_count": 26,
   "metadata": {
    "id": "fqGv4ITxflZQ"
   },
   "outputs": [],
   "source": [
    "class feature_engineer(BaseEstimator, TransformerMixin):\n",
    "    def fit(self, data_, y=None):\n",
    "        # Obtener el índice de la columna \"AGE\"\n",
    "        idx_age = data_.columns.get_loc(\"AGE\")\n",
    "        # Seleccionar todas las columnas desde \"AGE\" en adelante\n",
    "        data = data_.iloc[:, idx_age:]\n",
    "        data_without_missing_age = data[data['AGE'] != -1]\n",
    "        data_for_clustering = data_without_missing_age.drop(columns=['Age_std', 'Age_mm'])\n",
    "\n",
    "        data_for_clustering_all = data.drop(columns=['AGE','Age_std', 'Age_mm']) #Agregue esta linea con todos los datos para calcular al final\n",
    "        data_for_clustering_all_2 = data.drop(columns=['Age_std', 'Age_mm']) #Agregue esta linea con todos los datos para calcular al final\n",
    "\n",
    "        self.c1 = data_for_clustering_all.columns\n",
    "        self.c2 = data_for_clustering_all_2.columns\n",
    "\n",
    "        intervals = [(i, i+5) for i in range(0, 85, 5)]\n",
    "        selected_centroids = []\n",
    "        # 2. Seleccionar un dato aleatorio dentro de cada intervalo\n",
    "        np.random.seed(42)\n",
    "        for start, end in intervals:\n",
    "            subset = data_without_missing_age[(data_without_missing_age['AGE'] >= start) & (data_without_missing_age['AGE'] < end)]\n",
    "            if not subset.empty:\n",
    "                sample = subset.sample(1).iloc[:,1:]\n",
    "                selected_centroids.append(sample)\n",
    "        # # 3. Concatenar todos los datos seleccionados\n",
    "        initial_centroids_df = pd.concat(selected_centroids)\n",
    "        # # Definiendo las características para clustering\n",
    "        # Obtener todas las columnas de 'data'\n",
    "        features_for_clustering = data.columns.tolist()\n",
    "        # Excluir las columnas 'AGE', 'Age_std' y 'Age_mm'\n",
    "        features_for_clustering = [column for column in features_for_clustering if column not in ['AGE', 'Age_std', 'Age_mm']]\n",
    "        initial_centroids_values = initial_centroids_df[features_for_clustering].values\n",
    "        # # Aplicar KMeans\n",
    "        self.kmeans  = KMeans(n_clusters=len(initial_centroids_values), init=initial_centroids_values, n_init=1, random_state=42).fit(data_for_clustering.iloc[:,1:])\n",
    "        self.kmeans_2 = KMeans(n_clusters=20, n_init=10, random_state=42).fit(data_for_clustering)\n",
    "        self.kmeans_models = [KMeans(n_clusters=int(i+2), n_init=10, random_state=i).fit(data) for i in range(15)]\n",
    "\n",
    "        return self\n",
    "\n",
    "    def transform(self, data_):\n",
    "        # Aquí pondrás todas las transformaciones adicionales que necesitas.\n",
    "        idx_age = data_.columns.get_loc(\"AGE\")\n",
    "        # Seleccionar todas las columnas desde \"AGE\" en adelante\n",
    "        data_a = data_.iloc[:, idx_age:]\n",
    "\n",
    "        # Predecir los clusters\n",
    "        cluster_assignments = self.kmeans.predict(data_[self.c1])\n",
    "        cluster_assignments_2 = self.kmeans_2.predict(data_[self.c2])\n",
    "        # Agregar las asignaciones de clusters como nuevas columnas\n",
    "        data_['Cluster_1'] = cluster_assignments\n",
    "        data_['Cluster_2'] = cluster_assignments_2\n",
    "\n",
    "        for i, model in enumerate(self.kmeans_models):\n",
    "          column_name = f'Cluster_{i+3}'\n",
    "          data_[column_name] = model.predict(data_a)\n",
    "\n",
    "        return data_"
   ]
  },
  {
   "cell_type": "code",
   "execution_count": 27,
   "metadata": {
    "id": "8ztKYFwBWA6y"
   },
   "outputs": [],
   "source": [
    "from sklearn.base import BaseEstimator, TransformerMixin\n",
    "from joblib import dump, load\n",
    "from google.cloud import storage\n",
    "from sklearn.model_selection import GridSearchCV\n",
    "from sklearn.ensemble import RandomForestClassifier\n",
    "from datetime import datetime\n",
    "from sklearn.metrics import accuracy_score, precision_score, recall_score, f1_score\n",
    "import os"
   ]
  },
  {
   "cell_type": "code",
   "execution_count": 28,
   "metadata": {
    "id": "KsK3UYg3a7N0"
   },
   "outputs": [],
   "source": [
    "class PredictData(BaseEstimator, TransformerMixin):\n",
    "    def __init__(self):\n",
    "        self.best_model = None\n",
    "        self.columns_ = None\n",
    "        os.environ[\"GOOGLE_APPLICATION_CREDENTIALS\"] = \"./key.json\"\n",
    "\n",
    "    def fit(self, data_, y=None):\n",
    "        self.load_model()\n",
    "        idx_age = data_.columns.get_loc(\"AGE\")\n",
    "        self.columns_ = data_.columns[idx_age:]\n",
    "        # Seleccionar todas las columnas desde \"AGE\" en adelante\n",
    "        x_train_, y_train_ = data_.iloc[:, idx_age:], data_.iloc[:, 1]\n",
    "        if self.best_model is None:\n",
    "            param_grid = {\n",
    "                'n_estimators': [100,200,300],\n",
    "                'max_depth': [20,40,80],\n",
    "                'min_samples_split': [2,15,30],\n",
    "                'min_samples_leaf': [1,5,50,100]\n",
    "            }\n",
    "            grid_search = GridSearchCV(RandomForestClassifier(), param_grid, cv=5, scoring='accuracy')\n",
    "            grid_search.fit(x_train_, y_train_)\n",
    "            self.best_model = grid_search.best_estimator_\n",
    "        else:\n",
    "            # Si ya hay un modelo cargado, ajusta el modelo al nuevo conjunto de datos\n",
    "            self.best_model.fit(x_train_, y_train_)\n",
    "        # Guarda el modelo entrenado localmente\n",
    "        dump(self.best_model, 'model.joblib')\n",
    "        # Sube el modelo entrenado a GCS\n",
    "        try:\n",
    "            self.save_model()\n",
    "        except Exception as e:\n",
    "            print(f\"Error al subir el modelo entrenado a GCS: {str(e)}\")\n",
    "        return self\n",
    "\n",
    "    def transform(self, data_):\n",
    "        idx_age = data_.columns.get_loc(\"AGE\")\n",
    "        self.columns_ = data_.columns[idx_age:]\n",
    "        # Seleccionar todas las columnas desde \"AGE\" en adelante\n",
    "        x_train_ = data_.iloc[:,idx_age:]\n",
    "\n",
    "        y_pred = self.best_model.predict(x_train_)\n",
    "        return y_pred\n",
    "    def save_model(self):\n",
    "        current_date = datetime.now().strftime('%Y-%m-%d')\n",
    "        current_hour = datetime.utcnow().strftime('%H:%M:%S')\n",
    "        # Initialize the GCS client\n",
    "        gcs_client = storage.Client()\n",
    "        bucket_name = 'models_ai_save'\n",
    "      # Construct the blob name using the date and hour\n",
    "        blob_name = f'model/{current_date}/{current_hour}.joblib'\n",
    "      # Upload the model to GCS\n",
    "        bucket = gcs_client.get_bucket(bucket_name)\n",
    "        blob = bucket.blob(blob_name)\n",
    "        blob.upload_from_filename('model.joblib')\n",
    "        print(f\"Model uploaded to {blob_name} in GCS.\")\n",
    "    def load_model(self):\n",
    "        gcs_client = storage.Client()\n",
    "        bucket_name = 'models_ai_save'\n",
    "        prefix = 'model/'\n",
    "        try:\n",
    "            bucket = gcs_client.get_bucket(bucket_name)\n",
    "            blobs = list(bucket.list_blobs(prefix=prefix))\n",
    "            # Descarga el modelo pre-entrenado si existe\n",
    "            if blobs:\n",
    "                # Sort blobs by date and then by hour\n",
    "                sorted_blobs = sorted(blobs, key=lambda blob: blob.name, reverse=True)\n",
    "                # Get the most recent blob\n",
    "                recent_blob = sorted_blobs[0]\n",
    "                # Download the most recent model\n",
    "                file_name = 'recent_model.joblib'\n",
    "                recent_blob.download_to_filename(file_name)\n",
    "                self.best_model = load(file_name)\n",
    "                print(f\"Loaded model from {recent_blob.name}\")\n",
    "        except Exception as e:\n",
    "            print(f\"Error al cargar el modelo pre-entrenado: {str(e)}\")"
   ]
  },
  {
   "cell_type": "code",
   "execution_count": 29,
   "metadata": {
    "id": "zQxSwGnJmLSK"
   },
   "outputs": [],
   "source": [
    "import joblib\n",
    "def save_model():\n",
    "    # Asumiendo que tu pipeline ya ha sido entrenado...\n",
    "    joblib.dump(pipeline, 'pipe.pkl')\n",
    "    current_date = datetime.now().strftime('%Y-%m-%d')\n",
    "    current_hour = datetime.utcnow().strftime('%H:%M:%S')\n",
    "  # Initialize the GCS client\n",
    "    gcs_client = storage.Client()\n",
    "    bucket_name = 'models_ai_save'\n",
    "  # Construct the blob name using the date and hour\n",
    "    blob_name = f'pipeline/{current_date}/{current_hour}.pkl'\n",
    "  # Upload the model to GCS\n",
    "    bucket = gcs_client.get_bucket(bucket_name)\n",
    "    blob = bucket.blob(blob_name)\n",
    "    blob.upload_from_filename('pipe.pkl')\n",
    "    print(f\"pipeline uploaded to {blob_name} in GCS.\")\n",
    "def load_model():\n",
    "    gcs_client = storage.Client()\n",
    "    bucket_name = 'models_ai_save'\n",
    "    prefix = 'pipeline/'\n",
    "    try:\n",
    "        bucket = gcs_client.get_bucket(bucket_name)\n",
    "        blobs = list(bucket.list_blobs(prefix=prefix))\n",
    "        # Descarga el modelo pre-entrenado si existe\n",
    "        if blobs:\n",
    "            # Sort blobs by date and then by hour\n",
    "            sorted_blobs = sorted(blobs, key=lambda blob: blob.name, reverse=True)\n",
    "            # Get the most recent blob\n",
    "            recent_blob = sorted_blobs[0]\n",
    "            # Download the most recent model\n",
    "            file_name = 'recent_pipe.pkl'\n",
    "            recent_blob.download_to_filename(file_name)\n",
    "            print(f\"Loaded pipeline from {recent_blob.name}\")\n",
    "            return load(file_name)\n",
    "        else: return None\n",
    "    except Exception as e:\n",
    "        print(f\"Error al cargar el pipeline pre-entrenado: {str(e)}\")\n",
    "        return None"
   ]
  },
  {
   "cell_type": "code",
   "execution_count": 30,
   "metadata": {},
   "outputs": [
    {
     "name": "stdout",
     "output_type": "stream",
     "text": [
      "Loaded model from model/2023-09-22/09:12:33.joblib\n",
      "Model uploaded to model/2023-09-23/08:13:47.joblib in GCS.\n"
     ]
    }
   ],
   "source": [
    "pipeline = Pipeline([\n",
    "    ('data_preparation', DataSetPreparation()),\n",
    "    ('feature_engineering', feature_engineer()),\n",
    "    ('predict_data_train',PredictData()),\n",
    "])\n",
    "transformed_data_train = pipeline.fit_transform(data_train)\n",
    "transformed_data_test = pipeline.transform(data_test)"
   ]
  },
  {
   "cell_type": "code",
   "execution_count": 31,
   "metadata": {
    "colab": {
     "base_uri": "https://localhost:8080/"
    },
    "id": "isNA6ysOkxRT",
    "outputId": "8021c5bb-ff23-436a-b489-ba2074a1a291"
   },
   "outputs": [
    {
     "name": "stdout",
     "output_type": "stream",
     "text": [
      "pipeline uploaded to pipeline/2023-09-23/08:13:48.pkl in GCS.\n",
      "Loaded pipeline from pipeline/2023-09-23/08:13:48.pkl\n",
      "Loaded model from model/2023-09-23/08:13:47.joblib\n",
      "Model uploaded to model/2023-09-23/08:14:11.joblib in GCS.\n"
     ]
    }
   ],
   "source": [
    "save_model()\n",
    "pipeline2 = load_model()\n",
    "# Usando el pipeline para transformar tus datos:\n",
    "transformed_data_train = pipeline2.fit_transform(data_train)\n",
    "transformed_data_test = pipeline2.transform(data_test)"
   ]
  },
  {
   "cell_type": "markdown",
   "metadata": {
    "id": "_RxUzR8oSYAl"
   },
   "source": [
    "Desplegando el Modelo en un EndPoint"
   ]
  },
  {
   "cell_type": "code",
   "execution_count": 32,
   "metadata": {
    "id": "dJ_spaBwSbkt"
   },
   "outputs": [],
   "source": [
    "!mkdir -p endpoint  # El flag '-p' asegura que no se generará un error si el directorio ya existe"
   ]
  },
  {
   "cell_type": "code",
   "execution_count": 33,
   "metadata": {
    "colab": {
     "base_uri": "https://localhost:8080/"
    },
    "id": "q_zkfbUoNd_7",
    "outputId": "993dabee-eea7-4380-d1fc-aa809aae01af"
   },
   "outputs": [
    {
     "name": "stdout",
     "output_type": "stream",
     "text": [
      "Overwriting endpoint/my_utilities.py\n"
     ]
    }
   ],
   "source": [
    "%%writefile endpoint/my_utilities.py\n",
    "\n",
    "from sklearn.preprocessing import StandardScaler, OneHotEncoder, OrdinalEncoder,  MinMaxScaler\n",
    "from sklearn.base import BaseEstimator, TransformerMixin\n",
    "from sklearn.compose import ColumnTransformer\n",
    "from sklearn.impute import SimpleImputer\n",
    "from sklearn.pipeline import Pipeline\n",
    "from sklearn.cluster import KMeans\n",
    "import pandas as pd\n",
    "import numpy as np\n",
    "import re\n",
    "\n",
    "from sklearn.metrics import accuracy_score, precision_score, recall_score, f1_score\n",
    "from sklearn.ensemble import RandomForestClassifier\n",
    "from sklearn.model_selection import GridSearchCV\n",
    "from google.cloud import storage\n",
    "from joblib import dump, load\n",
    "from datetime import datetime\n",
    "import os\n",
    "\n",
    "\n",
    "class DataSetPreparation(BaseEstimator, TransformerMixin):\n",
    "    def __init__(self):\n",
    "        # Definimos las categorías para cada columna\n",
    "        self.name_categories = ['BUCKET_MR', 'BUCKET_MISS', 'BUCKET_MRS', 'BUCKET_NONE']\n",
    "        self.sex_categories = ['f', 'M', 'O']\n",
    "        self.embarked_categories = ['s', 'c', 'q', 'o']\n",
    "        self.cabin_level_categories = ['A', 'B', 'C', 'D', 'E', 'F', 'G', 'U']\n",
    "\n",
    "        self.std_scaler = StandardScaler()\n",
    "        self.minmax_scaler = MinMaxScaler()\n",
    "        self.imputer = SimpleImputer(strategy='mean')\n",
    "        self.imputer_2 = SimpleImputer(strategy='most_frequent')\n",
    "\n",
    "        # Columns\n",
    "        self.BINARY_FEATURES = ['Sex']\n",
    "        self.NUMERIC_FEATURES = ['Age', 'Fare']\n",
    "        self.CATEGORICAL_FEATURES = ['Pclass', 'Embarked','Parch', 'SibSp']\n",
    "\n",
    "    def fit(self, X, y=None):\n",
    "        X = X.copy()\n",
    "\n",
    "        # Imputar valores faltantes para columnas excepto 'Age'\n",
    "        for col in ['Pclass', 'SibSp', 'Parch', 'Fare']:\n",
    "            X[col] = self.imputer.fit_transform(X[[col]])\n",
    "\n",
    "        # Calcular media y desviación estándar (no sesgada) de la edad\n",
    "        self.age_mean = X['Age'].mean()\n",
    "        self.age_std = X['Age'].std(ddof=1)  # ddof=1 para desviación estándar no sesgada\n",
    "\n",
    "        # Contar cuántos valores faltantes de edad hay\n",
    "        missing_age_count = X['Age'].isnull().sum()\n",
    "\n",
    "        # Generar una muestra aleatoria de edades basada en la media y desviación estándar\n",
    "        age_sample = np.random.normal(self.age_mean, self.age_std, missing_age_count)\n",
    "\n",
    "        # Rellenar valores faltantes de edad con la muestra generada\n",
    "        age_series = X['Age'].copy()\n",
    "        age_series[np.isnan(age_series)] = age_sample\n",
    "        X['Age'] = age_series\n",
    "\n",
    "        X[\"Embarked\"] = self.imputer_2.fit_transform(X[[\"Embarked\"]]).ravel()\n",
    "\n",
    "\n",
    "        # Ajustar el escalador de estandarización\n",
    "        self.std_scaler.fit(X[['Pclass', 'Age', 'SibSp', 'Parch', 'Fare']])\n",
    "        # Transformar los datos con el escalador de estandarización y ajustar el escalador MinMax\n",
    "        self.minmax_scaler.fit(X[['Pclass', 'Age', 'SibSp', 'Parch', 'Fare']])\n",
    "\n",
    "        self.ticket_frequencies = X['Ticket'].fillna(\"Unknown\").value_counts()\n",
    "        self.cabin_frequencies = X['Cabin'].value_counts()\n",
    "\n",
    "        self.preprocessor = ColumnTransformer(\n",
    "            transformers=[\n",
    "                ('bin', OrdinalEncoder(), self.BINARY_FEATURES),\n",
    "                ('num', StandardScaler(), self.NUMERIC_FEATURES),\n",
    "                ('cat', OneHotEncoder(handle_unknown='ignore'), self.CATEGORICAL_FEATURES)\n",
    "            ]\n",
    "        )\n",
    "\n",
    "        self.preprocessor.fit(X)\n",
    "\n",
    "        return self\n",
    "\n",
    "    def transform(self, X, y=None):\n",
    "        # Borrar duplicados\n",
    "        X = X.drop_duplicates().copy()\n",
    "        missing_age_count = X['Age'].isnull().sum()\n",
    "        age_sample = np.random.normal(self.age_mean, self.age_std, missing_age_count)\n",
    "        age_series = X['Age'].copy()\n",
    "        age_series[np.isnan(age_series)] = age_sample\n",
    "        X['Age'] = age_series\n",
    "        # Rellenar valores faltantes para las columnas numéricas con las medianas \"aprendidas\" durante el fit\n",
    "        for col in [\"Pclass\", \"Age\", \"SibSp\", \"Parch\", \"Fare\"]:\n",
    "            X[col].fillna(-1, inplace=True)\n",
    "        X[\"Embarked\"] = self.imputer_2.transform(X[[\"Embarked\"]]).ravel() #ravel convierte 2d en 1d\n",
    "\n",
    "        for col in [\"Name\", \"Sex\", \"Ticket\", \"Cabin\"]:\n",
    "            X[col].fillna(\"Unknown\", inplace=True)\n",
    "\n",
    "##-----------------------VARIABLE CATEGORICAS AUN -------------------------------------------##\n",
    "        X['NAME_BUCKET'] = X['Name'].apply(self.categorize_name)       #4 VALORES POSIBLES\n",
    "        X['SEX_BUCKET']  = X['Sex'].apply(self.categorize_sex)         #3 VALORES POSIBLES\n",
    "        X['EMBARKED']  = X['Embarked'].apply(self.categorize_embarked) #4 VALORES POSIBLES\n",
    "\n",
    "        # FEATURE SINTETIC\n",
    "        X['CABINLEVEL'] = X['Cabin'].str[0].fillna(\"Unknown\")          #8 VALORES POSIBLES\n",
    "\n",
    "###---------------------------------------------VARIABLES FLOAT -------------------------------------------------------------------##\n",
    "        # Transformar usando estandarización y guardar en nuevas columnas\n",
    "        X[\"AGE\"] = X[\"Age\"]\n",
    "###----------------------------towards------------------\n",
    "        data = [X]\n",
    "        for dataset in data:\n",
    "            dataset['relatives'] = dataset['SibSp'] + dataset['Parch']\n",
    "            dataset.loc[dataset['relatives'] > 0, 'not_alone'] = 0\n",
    "            dataset.loc[dataset['relatives'] == 0, 'not_alone'] = 1\n",
    "            dataset['not_alone'] = dataset['not_alone'].astype(int)\n",
    "        deck = {\"A\": 1, \"B\": 2, \"C\": 3, \"D\": 4, \"E\": 5, \"F\": 6, \"G\": 7, \"U\": 8}\n",
    "        for dataset in data:\n",
    "            dataset['CABIN'] = dataset['Cabin'].fillna(\"U0\")\n",
    "            dataset['Deck'] = dataset['CABIN'].map(lambda x: re.compile(\"([a-zA-Z]+)\").search(x).group())\n",
    "            dataset['Deck'] = dataset['Deck'].map(deck)\n",
    "            dataset['Deck'] = dataset['Deck'].fillna(0)\n",
    "            dataset['Deck'] = dataset['Deck'].astype(int)\n",
    "        X = X.drop(['CABIN'], axis=1)\n",
    "        for dataset in data:\n",
    "            mean = self.age_mean\n",
    "            std = self.age_std\n",
    "            is_null = dataset[\"Age\"].isnull().sum()\n",
    "            # compute random numbers between the mean, std and is_null\n",
    "            rand_age = np.random.randint(mean - std, mean + std, size=is_null)\n",
    "            # fill NaN values in Age column with random values generated\n",
    "            age_slice = dataset[\"Age\"].copy()\n",
    "            age_slice[np.isnan(age_slice)] = rand_age\n",
    "            dataset[\"Age\"] = age_slice\n",
    "            dataset[\"AGE2\"] = dataset[\"Age\"].astype(int)\n",
    "        common_value = 'S'\n",
    "        for dataset in data:\n",
    "            dataset['EMBARKED'] = dataset['Embarked'].fillna(common_value)\n",
    "        for dataset in data:\n",
    "            dataset['FARE'] = dataset['Fare'].fillna(0)\n",
    "            dataset['FARE'] = dataset['FARE'].astype(int)\n",
    "        titles = {\"Mr\": 1, \"Miss\": 2, \"Mrs\": 3, \"Master\": 4, \"Rare\": 5}\n",
    "        for dataset in data:\n",
    "            # extract titles\n",
    "            dataset['TITLE'] = dataset.Name.str.extract(' ([A-Za-z]+)\\.', expand=False)\n",
    "            # replace titles with a more common title or as Rare\n",
    "            dataset['TITLE'] = dataset['TITLE'].replace(['Lady', 'Countess','Capt', 'Col','Don', 'Dr',\\\n",
    "                                                    'Major', 'Rev', 'Sir', 'Jonkheer', 'Dona'], 'Rare')\n",
    "            dataset['TITLE'] = dataset['TITLE'].replace('Mlle', 'Miss')\n",
    "            dataset['TITLE'] = dataset['TITLE'].replace('Ms', 'Miss')\n",
    "            dataset['TITLE'] = dataset['TITLE'].replace('Mme', 'Mrs')\n",
    "            # convert titles into numbers\n",
    "            dataset['TITLE'] = dataset['TITLE'].map(titles)\n",
    "            # filling NaN with 0, to get safe\n",
    "            dataset['TITLE'] = dataset['TITLE'].fillna(0)\n",
    "        genders = {\"male\": 0, \"female\": 1}\n",
    "        for dataset in data:\n",
    "            dataset['SEX'] = dataset['Sex'].map(genders)\n",
    "        ports = {\"S\": 0, \"C\": 1, \"Q\": 2}\n",
    "        for dataset in data:\n",
    "            dataset['EMBARKED'] = dataset['EMBARKED'].map(ports)\n",
    "        for dataset in data:\n",
    "            dataset['AGE2'] = dataset['AGE2'].astype(int)\n",
    "            dataset.loc[ dataset['AGE2'] <= 11, 'AGE2'] = 0\n",
    "            dataset.loc[(dataset['AGE2'] > 11) & (dataset['AGE2'] <= 18), 'AGE2'] = 1\n",
    "            dataset.loc[(dataset['AGE2'] > 18) & (dataset['AGE2'] <= 22), 'AGE2'] = 2\n",
    "            dataset.loc[(dataset['AGE2'] > 22) & (dataset['AGE2'] <= 27), 'AGE2'] = 3\n",
    "            dataset.loc[(dataset['AGE2'] > 27) & (dataset['AGE2'] <= 33), 'AGE2'] = 4\n",
    "            dataset.loc[(dataset['AGE2'] > 33) & (dataset['AGE2'] <= 40), 'AGE2'] = 5\n",
    "            dataset.loc[(dataset['AGE2'] > 40) & (dataset['AGE2'] <= 66), 'AGE2'] = 6\n",
    "            dataset.loc[ dataset['AGE2'] > 66, 'AGE2'] = 6\n",
    "        for dataset in data:\n",
    "            dataset.loc[ dataset['FARE'] <= 7.91, 'FARE'] = 0\n",
    "            dataset.loc[(dataset['FARE'] > 7.91) & (dataset['FARE'] <= 14.454), 'FARE'] = 1\n",
    "            dataset.loc[(dataset['FARE'] > 14.454) & (dataset['FARE'] <= 31), 'FARE']   = 2\n",
    "            dataset.loc[(dataset['FARE'] > 31) & (dataset['FARE'] <= 99), 'FARE']   = 3\n",
    "            dataset.loc[(dataset['FARE'] > 99) & (dataset['FARE'] <= 250), 'FARE']   = 4\n",
    "            dataset.loc[ dataset['FARE'] > 250, 'FARE'] = 5\n",
    "            dataset['FARE'] = dataset['FARE'].astype(int)\n",
    "        for dataset in data:\n",
    "            dataset['Age_Class']= dataset['AGE2']* dataset['Pclass']\n",
    "        for dataset in data:\n",
    "            dataset['Fare_Per_Person'] = dataset['Fare']/(dataset['relatives']+1)\n",
    "            dataset['Fare_Per_Person'] = dataset['Fare_Per_Person'].astype(int)\n",
    "        # Crear columnas basadas en diferentes cuantiles\n",
    "        for i in range(3, 16):  # Desde 3 hasta 15 cuantiles\n",
    "            col_name = f\"AGE_NoCuantiles_{i}\"\n",
    "            X[col_name] = self.assign_quantile(X, \"Age\", i)\n",
    "        data_transformed = self.preprocessor.transform(X)\n",
    "        df_transformed = pd.DataFrame(data_transformed)\n",
    "        X = pd.concat([X.reset_index(drop=True), df_transformed.reset_index(drop=True)], axis=1)\n",
    "        X.loc[:, ['Pclass_std', 'Age_std', 'SibSp_std', 'Parch_std', 'Fare_std']] = self.std_scaler.transform(X[['Pclass', 'Age', 'SibSp', 'Parch', 'Fare']])\n",
    "        # Transformar usando MinMaxScaler y guardar en otras nuevas columnas\n",
    "        X.loc[:, ['Pclass_mm', 'Age_mm', 'SibSp_mm', 'Parch_mm', 'Fare_mm']] = self.minmax_scaler.transform(X[['Pclass', 'Age', 'SibSp', 'Parch', 'Fare']])\n",
    "    ##-------------------FEATURE ENGINEER A VARIABLES CATEGORICAS BRUTAS  -> FLOAT/INT---------------------------------------------------------#\n",
    "        X['TICKET_BUCKET']  = X['Ticket'].apply(self.categorize_ticket)\n",
    "        X['GROUPSIZE'] = X['Ticket'].map(self.ticket_frequencies).fillna(1)\n",
    "        # Paso 2: Ajustar la columna \"GROUPSIZE\" con SibSp y Parch\n",
    "        X['GROUPSIZE'] = X.apply(lambda row: max(row['GROUPSIZE'], row['SibSp'] + row['Parch'] + 1), axis=1)\n",
    "        # Paso 3: Crear una columna \"IsAlone\"\n",
    "        X['ISALONE'] = (X['GROUPSIZE'] == 1).astype(int)\n",
    "        # FEATURE SINTETIC\n",
    "        X['CABINGROUPSIZE'] = X['Cabin'].map(self.cabin_frequencies).fillna(-1)#4 VALORES POSIBLES\n",
    "##-----------------------FEATURE ENGINEER A VARIABLES CATEGORICAS LIMPIADAS -> FLOAT-------------------------------------------##\n",
    "        # Aplica la función custom_ohe a cada columna\n",
    "        name_ohe = self.custom_ohe(X['NAME_BUCKET'], self.name_categories)\n",
    "        sex_ohe = self.custom_ohe(X['SEX_BUCKET'], self.sex_categories)\n",
    "        embarked_ohe = self.custom_ohe(X['EMBARKED'], self.embarked_categories)\n",
    "        cabin_ohe = self.custom_ohe(X['CABINLEVEL'], self.cabin_level_categories)\n",
    "\n",
    "        # Combina los DataFrames resultantes\n",
    "        X.columns = X.columns.astype(str)\n",
    "        ohe_result = pd.concat([name_ohe, sex_ohe, embarked_ohe, cabin_ohe], axis=1)\n",
    "        X = pd.concat([X, ohe_result], axis=1)\n",
    "        return X\n",
    "\n",
    "    @staticmethod\n",
    "    def categorize_name(name):\n",
    "        name_lower = name.lower()\n",
    "        if 'mr' in name_lower:\n",
    "            return 'BUCKET_MR'\n",
    "        elif 'miss' in name_lower or 'mlle' in name_lower or 'ms' in name_lower:\n",
    "            return 'BUCKET_MISS'\n",
    "        elif 'mrs' in name_lower or 'Mme' in name_lower:\n",
    "            return 'BUCKET_MRS'\n",
    "        else:\n",
    "            return 'BUCKET_NONE'\n",
    "    @staticmethod\n",
    "    def categorize_sex(sex):\n",
    "        sex_lower = sex.lower()\n",
    "        if 'female' in sex_lower:\n",
    "            return 'f'\n",
    "        elif 'male' in sex_lower:\n",
    "            return 'M'\n",
    "        else:\n",
    "            return 'O'\n",
    "    def categorize_ticket(self, ticket):\n",
    "        freq = self.ticket_frequencies.get(ticket, 0)\n",
    "        return freq if 1 <= freq <= 7 else 0\n",
    "    # Función para asignar cuantiles\n",
    "    @staticmethod   #Los metodos estaticos no usan self\n",
    "    def assign_quantile(df, column, n_quantiles):\n",
    "        labels = list(range(1, n_quantiles + 1))\n",
    "        return pd.qcut(df[column], q=n_quantiles, labels=labels).astype(int)\n",
    "    @staticmethod\n",
    "    def categorize_embarked(em):\n",
    "        em_lower = em.lower()\n",
    "        if 's' in em_lower:\n",
    "            return 's'\n",
    "        elif 'c' in em_lower:\n",
    "            return 'c'\n",
    "        elif 'q' in em_lower:\n",
    "            return 'q'\n",
    "        else:\n",
    "            return 'o'\n",
    "    def custom_ohe(self, column, categories):\n",
    "        \"\"\"Aplica One-Hot Encoding a la columna dadas las categorías especificadas.\"\"\"\n",
    "        # Crea un DataFrame con OHE\n",
    "        ohe_df = pd.get_dummies(column, prefix_sep='_')\n",
    "\n",
    "        # Crea un DataFrame vacío con las categorías deseadas\n",
    "        custom_ohe_df = pd.DataFrame(0, index=ohe_df.index, columns=categories)\n",
    "\n",
    "        # Llena el DataFrame personalizado con las columnas del OHE original\n",
    "        for col in categories:\n",
    "            if col in ohe_df.columns:\n",
    "                custom_ohe_df[col] = ohe_df[col].values\n",
    "\n",
    "        return custom_ohe_df\n",
    "    def preprocess_data(self, df: pd.DataFrame) -> pd.DataFrame:\n",
    "        # 1. Clean missing numerics\n",
    "        for n in self.NUMERIC_FEATURES:\n",
    "            df[n] = pd.to_numeric(df[n], errors='coerce')\n",
    "        df = df.fillna(df.mean())\n",
    "\n",
    "        # 2. Transformation Pipeline\n",
    "        preprocessor = ColumnTransformer(\n",
    "            transformers=[\n",
    "                ('bin', OrdinalEncoder(), self.BINARY_FEATURES),\n",
    "                ('num', StandardScaler(), self.NUMERIC_FEATURES),\n",
    "                ('cat', OneHotEncoder(handle_unknown='ignore'), self.CATEGORICAL_FEATURES)\n",
    "            ]\n",
    "        )\n",
    "\n",
    "        data_transformed = preprocessor.fit_transform(df)\n",
    "\n",
    "        # Convert transformed data back to DataFrame for readability (optional)\n",
    "        columns_transformed = (self.BINARY_FEATURES +\n",
    "                              self.NUMERIC_FEATURES +\n",
    "                              list(preprocessor.named_transformers_['cat'].get_feature_names_out(self.CATEGORICAL_FEATURES)))\n",
    "\n",
    "        df_transformed = pd.DataFrame(data_transformed, columns=columns_transformed)\n",
    "        return df_transformed\n",
    "\n",
    "\n",
    "class feature_engineer(BaseEstimator, TransformerMixin):\n",
    "    def fit(self, data_, y=None):\n",
    "        # Obtener el índice de la columna \"AGE\"\n",
    "        idx_age = data_.columns.get_loc(\"AGE\")\n",
    "        # Seleccionar todas las columnas desde \"AGE\" en adelante\n",
    "        data = data_.iloc[:, idx_age:]\n",
    "        data_without_missing_age = data[data['AGE'] != -1]\n",
    "        data_for_clustering = data_without_missing_age.drop(columns=['Age_std', 'Age_mm'])\n",
    "\n",
    "        data_for_clustering_all = data.drop(columns=['AGE','Age_std', 'Age_mm']) #Agregue esta linea con todos los datos para calcular al final\n",
    "        data_for_clustering_all_2 = data.drop(columns=['Age_std', 'Age_mm']) #Agregue esta linea con todos los datos para calcular al final\n",
    "\n",
    "        self.c1 = data_for_clustering_all.columns\n",
    "        self.c2 = data_for_clustering_all_2.columns\n",
    "\n",
    "        intervals = [(i, i+5) for i in range(0, 85, 5)]\n",
    "        selected_centroids = []\n",
    "        # 2. Seleccionar un dato aleatorio dentro de cada intervalo\n",
    "        np.random.seed(42)\n",
    "        for start, end in intervals:\n",
    "            subset = data_without_missing_age[(data_without_missing_age['AGE'] >= start) & (data_without_missing_age['AGE'] < end)]\n",
    "            if not subset.empty:\n",
    "                sample = subset.sample(1).iloc[:,1:]\n",
    "                selected_centroids.append(sample)\n",
    "        # # 3. Concatenar todos los datos seleccionados\n",
    "        initial_centroids_df = pd.concat(selected_centroids)\n",
    "        # # Definiendo las características para clustering\n",
    "        # Obtener todas las columnas de 'data'\n",
    "        features_for_clustering = data.columns.tolist()\n",
    "        # Excluir las columnas 'AGE', 'Age_std' y 'Age_mm'\n",
    "        features_for_clustering = [column for column in features_for_clustering if column not in ['AGE', 'Age_std', 'Age_mm']]\n",
    "        initial_centroids_values = initial_centroids_df[features_for_clustering].values\n",
    "        # # Aplicar KMeans\n",
    "        self.kmeans  = KMeans(n_clusters=len(initial_centroids_values), init=initial_centroids_values, n_init=1, random_state=42).fit(data_for_clustering.iloc[:,1:])\n",
    "        self.kmeans_2 = KMeans(n_clusters=20, n_init=10, random_state=42).fit(data_for_clustering)\n",
    "        self.kmeans_models = [KMeans(n_clusters=int(i+2), n_init=10, random_state=i).fit(data) for i in range(15)]\n",
    "\n",
    "        return self\n",
    "\n",
    "    def transform(self, data_):\n",
    "        # Aquí pondrás todas las transformaciones adicionales que necesitas.\n",
    "        idx_age = data_.columns.get_loc(\"AGE\")\n",
    "        # Seleccionar todas las columnas desde \"AGE\" en adelante\n",
    "        data_a = data_.iloc[:, idx_age:]\n",
    "\n",
    "        # Predecir los clusters\n",
    "        cluster_assignments = self.kmeans.predict(data_[self.c1])\n",
    "        cluster_assignments_2 = self.kmeans_2.predict(data_[self.c2])\n",
    "        # Agregar las asignaciones de clusters como nuevas columnas\n",
    "        data_['Cluster_1'] = cluster_assignments\n",
    "        data_['Cluster_2'] = cluster_assignments_2\n",
    "\n",
    "        for i, model in enumerate(self.kmeans_models):\n",
    "          column_name = f'Cluster_{i+3}'\n",
    "          data_[column_name] = model.predict(data_a)\n",
    "\n",
    "        return data_\n",
    "\n",
    "class PredictData(BaseEstimator, TransformerMixin):\n",
    "    def __init__(self):\n",
    "        self.best_model = None\n",
    "        self.columns_ = None\n",
    "        os.environ[\"GOOGLE_APPLICATION_CREDENTIALS\"] = \"./key.json\"\n",
    "\n",
    "    def fit(self, data_, y=None):\n",
    "        self.load_model()\n",
    "        idx_age = data_.columns.get_loc(\"AGE\")\n",
    "        self.columns_ = data_.columns[idx_age:]\n",
    "        # Seleccionar todas las columnas desde \"AGE\" en adelante\n",
    "        x_train_, y_train_ = data_.iloc[:, idx_age:], data_.iloc[:, 1]\n",
    "        if self.best_model is None:\n",
    "            param_grid = {\n",
    "                'n_estimators': [100,200,300],\n",
    "                'max_depth': [20,40,80],\n",
    "                'min_samples_split': [2,15,30],\n",
    "                'min_samples_leaf': [1,5,50,100]\n",
    "            }\n",
    "            grid_search = GridSearchCV(RandomForestClassifier(), param_grid, cv=5, scoring='accuracy')\n",
    "            grid_search.fit(x_train_, y_train_)\n",
    "            self.best_model = grid_search.best_estimator_\n",
    "        else:\n",
    "            # Si ya hay un modelo cargado, ajusta el modelo al nuevo conjunto de datos\n",
    "            self.best_model.fit(x_train_, y_train_)\n",
    "        # Guarda el modelo entrenado localmente\n",
    "        dump(self.best_model, 'model.joblib')\n",
    "        # Sube el modelo entrenado a GCS\n",
    "        try:\n",
    "            self.save_model()\n",
    "        except Exception as e:\n",
    "            print(f\"Error al subir el modelo entrenado a GCS: {str(e)}\")\n",
    "        return self\n",
    "\n",
    "    def transform(self, data_):\n",
    "      idx_age = data_.columns.get_loc(\"AGE\")\n",
    "      self.columns_ = data_.columns[idx_age:]\n",
    "      # Seleccionar todas las columnas desde \"AGE\" en adelante\n",
    "      x_train_ = data_.iloc[:,idx_age:]\n",
    "\n",
    "      y_pred = self.best_model.predict(x_train_)\n",
    "      return y_pred\n",
    "    def save_model(self):\n",
    "      current_date = datetime.now().strftime('%Y-%m-%d')\n",
    "      current_hour = datetime.utcnow().strftime('%H:%M:%S')\n",
    "      # Initialize the GCS client\n",
    "      gcs_client = storage.Client()\n",
    "      bucket_name = 'models_ai_save'\n",
    "      # Construct the blob name using the date and hour\n",
    "      blob_name = f'model/{current_date}/{current_hour}.joblib'\n",
    "      # Upload the model to GCS\n",
    "      bucket = gcs_client.get_bucket(bucket_name)\n",
    "      blob = bucket.blob(blob_name)\n",
    "      blob.upload_from_filename('model.joblib')\n",
    "      print(f\"Model uploaded to {blob_name} in GCS.\")\n",
    "    def load_model(self):\n",
    "        gcs_client = storage.Client()\n",
    "        bucket_name = 'models_ai_save'\n",
    "        prefix = 'model/'\n",
    "        try:\n",
    "            bucket = gcs_client.get_bucket(bucket_name)\n",
    "            blobs = list(bucket.list_blobs(prefix=prefix))\n",
    "            # Descarga el modelo pre-entrenado si existe\n",
    "            if blobs:\n",
    "                # Sort blobs by date and then by hour\n",
    "                sorted_blobs = sorted(blobs, key=lambda blob: blob.name, reverse=True)\n",
    "                # Get the most recent blob\n",
    "                recent_blob = sorted_blobs[0]\n",
    "                # Download the most recent model\n",
    "                file_name = 'recent_model.joblib'\n",
    "                recent_blob.download_to_filename(file_name)\n",
    "                self.best_model = load(file_name)\n",
    "                print(f\"Loaded model from {recent_blob.name}\")\n",
    "        except Exception as e:\n",
    "            print(f\"Error al cargar el modelo pre-entrenado: {str(e)}\")\n",
    "\n",
    "def load_model():\n",
    "    # os.environ[\"GOOGLE_APPLICATION_CREDENTIALS\"] = \"./key.json\"\n",
    "    gcs_client = storage.Client()\n",
    "    bucket_name = 'models_ai_save'\n",
    "    prefix = 'pipeline/'\n",
    "    try:\n",
    "        bucket = gcs_client.get_bucket(bucket_name)\n",
    "        blobs = list(bucket.list_blobs(prefix=prefix))\n",
    "        # Descarga el modelo pre-entrenado si existe\n",
    "        if blobs:\n",
    "            # Sort blobs by date and then by hour\n",
    "            sorted_blobs = sorted(blobs, key=lambda blob: blob.name, reverse=True)\n",
    "            # Get the most recent blob\n",
    "            recent_blob = sorted_blobs[0]\n",
    "            # Download the most recent model\n",
    "            file_name = 'recent_pipe.pkl'\n",
    "            recent_blob.download_to_filename(file_name)\n",
    "            print(f\"Loaded pipeline from {recent_blob.name}\")\n",
    "            return load(file_name)\n",
    "        else: return None\n",
    "    except Exception as e:\n",
    "        print(f\"Error al cargar el pipeline pre-entrenado: {str(e)}\")\n",
    "        return None"
   ]
  },
  {
   "cell_type": "code",
   "execution_count": 34,
   "metadata": {
    "colab": {
     "base_uri": "https://localhost:8080/"
    },
    "id": "3bcHT4_2NUbV",
    "outputId": "ee533ad9-076e-418c-dd3a-4667a1b41837"
   },
   "outputs": [
    {
     "name": "stdout",
     "output_type": "stream",
     "text": [
      "Overwriting endpoint/server.py\n"
     ]
    }
   ],
   "source": [
    "%%writefile endpoint/server.py\n",
    "\n",
    "from my_utilities import DataSetPreparation, feature_engineer, PredictData, load_model\n",
    "from flask import Flask, request, jsonify\n",
    "import pandas as pd\n",
    "import joblib\n",
    "\n",
    "app = Flask(__name__)\n",
    "\n",
    "# Carga el modelo al inicio\n",
    "pipeline = load_model\n",
    "\n",
    "@app.route('/predict', methods=['POST'])\n",
    "def predict():\n",
    "    data = request.get_json()\n",
    "    df = pd.DataFrame(data['instances'])\n",
    "    transformed_data = pipeline.transform(df)\n",
    "    return jsonify(transformed_data.tolist())\n",
    "\n",
    "if __name__ == '__main__':\n",
    "    app.run(host='0.0.0.0', port=8080)\n",
    "\n"
   ]
  },
  {
   "cell_type": "code",
   "execution_count": 35,
   "metadata": {
    "id": "BIukp4kxStAB"
   },
   "outputs": [],
   "source": [
    "!pip freeze > endpoint/requirements.txt   #Dado que estamos en un notebook tendremos las dependecias configuradas en el notebook\n",
    "#La mejor forma es ejecutar esto bajo un enviroment.\n",
    "#Instala todas las dependencias del codigo y ejecuta.\n",
    "#>python3 -m venv env\n",
    "#>source env/bin/activate\n",
    "#>pip freeze > requirements.txt"
   ]
  },
  {
   "cell_type": "code",
   "execution_count": 39,
   "metadata": {
    "id": "rBsB0Vf1NUp3"
   },
   "outputs": [
    {
     "name": "stdout",
     "output_type": "stream",
     "text": [
      "Overwriting endpoint/Dockerfile\n"
     ]
    }
   ],
   "source": [
    "%%writefile endpoint/Dockerfile\n",
    "# Usa una imagen base de Python. Puedes ajustar la versión según tus necesidades.\n",
    "FROM python:3.9-slim\n",
    "\n",
    "# Establece un directorio de trabajo\n",
    "WORKDIR /app\n",
    "\n",
    "# Instala las dependencias necesarias\n",
    "COPY requirements.txt /app/\n",
    "RUN pip install --upgrade pip\n",
    "RUN pip install --no-cache-dir -r requirements.txt\n",
    "\n",
    "# Copia el código del modelo al contenedor\n",
    "COPY . /app/\n",
    "\n",
    "# Especifica el comando para ejecutar cuando el contenedor se inicie\n",
    "CMD [\"python\", \"/app/server.py\"]\n"
   ]
  },
  {
   "cell_type": "code",
   "execution_count": 37,
   "metadata": {
    "id": "AUcc2Ae_NUuT"
   },
   "outputs": [
    {
     "name": "stdout",
     "output_type": "stream",
     "text": [
      "Overwriting endpoint/dockerignore\n"
     ]
    }
   ],
   "source": [
    "%%writefile endpoint/dockerignore\n",
    "__pycache__\n",
    "*.pyc\n",
    "*.pyo\n",
    "*.egg-info\n",
    "\n",
    "key.json\n",
    "pipe.pkl\n",
    "titanic/\n",
    "env/\n",
    "model.joblib\n",
    "recent_model.joblib\n",
    "titanic.zip\n",
    "kaggle.json\n",
    "recent_pipe.pkl\n",
    ".git\n",
    ".dockerignore\n",
    ".gitignore\n",
    "\n",
    "# Jupyter\n",
    ".ipynb_checkpoints/\n",
    "\n",
    "# Python\n",
    "__pycache__/\n",
    "*.pyc\n",
    "*.pyo\n",
    "*.egg-info\n",
    "*.egg\n",
    "\n",
    "# Entornos virtuales\n",
    "venv/\n",
    ".env/\n",
    "env\n",
    "**/__pycache__\n",
    "__pycache__\n",
    "*.virtualenv/\n",
    "\n",
    "# Generales\n",
    ".DS_Store\n",
    "*.log\n",
    ".idea/"
   ]
  },
  {
   "cell_type": "markdown",
   "metadata": {},
   "source": [
    "[Documentación Debian](https://docs.docker.com/engine/install/debian/)"
   ]
  },
  {
   "cell_type": "markdown",
   "metadata": {},
   "source": [
    "### Esto se ejecuta en terminal\n",
    "# Add Docker's official GPG key:\n",
    "\n",
    "sudo apt-get update\n",
    "\n",
    "sudo apt-get install ca-certificates curl gnupg\n",
    "\n",
    "sudo install -m 0755 -d /etc/apt/keyrings\n",
    "\n",
    "curl -fsSL https://download.docker.com/linux/debian/gpg | sudo gpg --dearmor -o /etc/apt/keyrings/docker.gpg\n",
    "\n",
    "sudo chmod a+r /etc/apt/keyrings/docker.gpg"
   ]
  },
  {
   "cell_type": "markdown",
   "metadata": {},
   "source": [
    "# Bash\n",
    "# Instalar docker en parrot con bullseye\n",
    "echo \\\n",
    "  \"deb [arch=\"$(dpkg --print-architecture)\" signed-by=/etc/apt/keyrings/docker.gpg] https://download.docker.com/linux/debian \\\n",
    "  \"bullseye\" stable\" | \\\n",
    "  sudo tee /etc/apt/sources.list.d/docker.list > /dev/null"
   ]
  },
  {
   "cell_type": "markdown",
   "metadata": {},
   "source": [
    "### En terminal\n",
    "sudo apt-get install docker-ce docker-ce-cli containerd.io docker-buildx-plugin docker-compose-plugin\n",
    "\n",
    "sudo docker run hello-world"
   ]
  },
  {
   "cell_type": "markdown",
   "metadata": {
    "colab": {
     "base_uri": "https://localhost:8080/"
    },
    "id": "dT9IcjUCbuP5",
    "outputId": "a6b305ae-7952-4ac6-89d2-af628c495a35"
   },
   "source": [
    "# Crear imagen\n",
    "docker build -t my_model_image_2 ./endpoint/"
   ]
  },
  {
   "cell_type": "markdown",
   "metadata": {},
   "source": [
    "### En terminal\n",
    "\n",
    "docker tag my_model_image_2 us-central1-docker.pkg.dev/projecto2-373519/myimages/my_model_image_2:v2.0.0\n",
    "    \n",
    "docker push us-central1-docker.pkg.dev/projecto2-373519/myimages/my_model_image_2:v2.0.0"
   ]
  },
  {
   "cell_type": "code",
   "execution_count": 4,
   "metadata": {
    "id": "TW_Vg0mmsgFQ"
   },
   "outputs": [],
   "source": [
    "import subprocess\n",
    "\n",
    "def get_gcloud_config_value(config_name):\n",
    "    return subprocess.getoutput(f\"gcloud config get-value {config_name}\").strip()\n",
    "\n",
    "PROJECT_ID = get_gcloud_config_value(\"project\")\n",
    "REGION = \"us-central1\"  \n",
    "\n",
    "SERVICE_ACCOUNT = \"bucket-ai-conect@projecto2-373519.iam.gserviceaccount.com\"  # Tu cuenta de servicio.\n",
    "\n",
    "# Variables para el modelo\n",
    "PREDICTION_DOCKER_URI = \"us-central1-docker.pkg.dev/projecto2-373519/myimages/my_model_image_2:v2.0.0\"  # URI de tu imagen Docker para inferencia."
   ]
  },
  {
   "cell_type": "code",
   "execution_count": 21,
   "metadata": {},
   "outputs": [
    {
     "name": "stdout",
     "output_type": "stream",
     "text": [
      "Yeah\n"
     ]
    }
   ],
   "source": [
    "import os\n",
    "import json\n",
    "from google.oauth2 import service_account\n",
    "from google.cloud import aiplatform\n",
    "\n",
    "if os.path.exists(\"key.json\"):\n",
    "    print(\"Yeah\")\n",
    "    os.environ[\"GOOGLE_APPLICATION_CREDENTIALS\"] = \"key.json\"\n",
    "    \n",
    "    # Cargar el archivo key.json como un diccionario de Python\n",
    "    with open('key.json', 'r') as f:\n",
    "        service_account_info = json.load(f)\n",
    "    \n",
    "    credentials = service_account.Credentials.from_service_account_info(service_account_info)\n",
    "    aiplatform.init(project=PROJECT_ID, location=REGION, credentials=credentials)\n"
   ]
  },
  {
   "cell_type": "code",
   "execution_count": 61,
   "metadata": {},
   "outputs": [
    {
     "name": "stdout",
     "output_type": "stream",
     "text": [
      "Creating Model\n",
      "Create Model backing LRO: projects/936401695274/locations/us-central1/models/7970146484492435456/operations/2548709391029239808\n",
      "Model created. Resource name: projects/936401695274/locations/us-central1/models/7970146484492435456@1\n",
      "To use this Model in another session:\n",
      "model = aiplatform.Model('projects/936401695274/locations/us-central1/models/7970146484492435456@1')\n"
     ]
    }
   ],
   "source": [
    "# 2. Sube el modelo\n",
    "model = aiplatform.Model.upload(\n",
    "    display_name=\"my_custom_model\",\n",
    "    serving_container_image_uri=PREDICTION_DOCKER_URI,\n",
    "    serving_container_predict_route=\"/predict\",\n",
    "    serving_container_health_route=\"/health\"\n",
    ")\n",
    "#En IAM permisos de Vertex AI Administrator y AI Platform Admin"
   ]
  },
  {
   "cell_type": "code",
   "execution_count": 62,
   "metadata": {},
   "outputs": [
    {
     "name": "stdout",
     "output_type": "stream",
     "text": [
      "Creating Endpoint\n",
      "Create Endpoint backing LRO: projects/936401695274/locations/us-central1/endpoints/4703202769253695488/operations/7215845979868626944\n",
      "Endpoint created. Resource name: projects/936401695274/locations/us-central1/endpoints/4703202769253695488\n",
      "To use this Endpoint in another session:\n",
      "endpoint = aiplatform.Endpoint('projects/936401695274/locations/us-central1/endpoints/4703202769253695488')\n"
     ]
    }
   ],
   "source": [
    "# # 3. Crea un endpoint   ##\n",
    "endpoint = aiplatform.Endpoint.create(display_name=\"my_custom_model_endpoint\")\n",
    "#Un endpoint en Vertex AI es una URL accesible que permite realizar predicciones en tiempo real.\n",
    "#Al crear un endpoint, estás reservando esta URL y preparándola para que los modelos se \n",
    "#desplieguen en ella. Sin embargo, inmediatamente después de crear un endpoint, \n",
    "#no hay ningún modelo desplegado en él todavía."
   ]
  },
  {
   "cell_type": "code",
   "execution_count": 63,
   "metadata": {},
   "outputs": [
    {
     "name": "stdout",
     "output_type": "stream",
     "text": [
      "Deploying Model projects/936401695274/locations/us-central1/models/7970146484492435456 to Endpoint : projects/936401695274/locations/us-central1/endpoints/4703202769253695488\n",
      "Deploy Endpoint model backing LRO: projects/936401695274/locations/us-central1/endpoints/4703202769253695488/operations/8012420163959783424\n",
      "Endpoint model deployed. Resource name: projects/936401695274/locations/us-central1/endpoints/4703202769253695488\n"
     ]
    }
   ],
   "source": [
    "# # 4. Despliega el modelo en el endpoint\n",
    "deployed_model = endpoint.deploy(\n",
    "    model=model,\n",
    "    deployed_model_display_name=\"my_deployed_model\",\n",
    "    machine_type=\"n1-standard-4\",\n",
    "    service_account=SERVICE_ACCOUNT,\n",
    "    accelerator_count=0,\n",
    "    traffic_split={\"0\":100},\n",
    "    min_replica_count=1,\n",
    "    max_replica_count=1,\n",
    ")\n",
    "#Este es el paso donde realmente tomas el modelo que registraste y lo pones en \n",
    "#producción para servir predicciones en tiempo real.\n",
    "#Al desplegar un modelo en un endpoint, estás diciendo: \"Quiero que este modelo \n",
    "#específico esté disponible en este endpoint específico y que use esta \n",
    "#configuración específica (tipo de máquina, cuenta de servicio, etc.)\""
   ]
  },
  {
   "cell_type": "code",
   "execution_count": 78,
   "metadata": {},
   "outputs": [
    {
     "name": "stdout",
     "output_type": "stream",
     "text": [
      "{'predictions': [1, 1, 0, 0, 0, 0, 0, 0, 1], 'deployedModelId': '5706529119831851008', 'model': 'projects/936401695274/locations/us-central1/models/7970146484492435456', 'modelDisplayName': 'my_custom_model', 'modelVersionId': '1'}\n"
     ]
    }
   ],
   "source": [
    "from google.oauth2.service_account import Credentials\n",
    "from google.auth.transport.requests import AuthorizedSession\n",
    "\n",
    "# Define the required scopes\n",
    "SCOPES = [\"https://www.googleapis.com/auth/cloud-platform\"]\n",
    "\n",
    "# Load the credentials\n",
    "credentials = Credentials.from_service_account_file('key.json', scopes=SCOPES)\n",
    "\n",
    "# Asumiendo que ya tienes data_test cargado\n",
    "sample_data = data_test.iloc[[0,1,2,3,4,5,6,7,8],:].to_dict(orient='records')\n",
    "\n",
    "# Define tus datos de entrada\n",
    "data = {\n",
    "    \"instances\": sample_data\n",
    "}\n",
    "\n",
    "# Serializa tus datos con simplejson\n",
    "data_json = json.dumps(data, ignore_nan=True)\n",
    "\n",
    "# Set the endpoint URL for Vertex AI\n",
    "endpoint_url = \"https://us-central1-aiplatform.googleapis.com/v1/projects/936401695274/locations/us-central1/endpoints/4703202769253695488:predict\"\n",
    "\n",
    "# Create an AuthorizedSession\n",
    "authed_session = AuthorizedSession(credentials)\n",
    "\n",
    "# Make the request\n",
    "response = authed_session.post(endpoint_url, data=data_json, headers={\"Content-Type\": \"application/json\"})\n",
    "\n",
    "# Asegúrate de que la respuesta es válida\n",
    "if response.status_code == 200:\n",
    "    # Procesa la respuesta\n",
    "    predictions = response.json()\n",
    "    print(predictions)\n",
    "else:\n",
    "    print(f\"Error: {response.status_code}\")\n",
    "    print(response.text)\n"
   ]
  },
  {
   "cell_type": "code",
   "execution_count": 68,
   "metadata": {},
   "outputs": [
    {
     "name": "stdout",
     "output_type": "stream",
     "text": [
      "{'predictions': [1, 1, 0, 0, 0, 0, 0, 0, 1], 'deployedModelId': '5706529119831851008', 'model': 'projects/936401695274/locations/us-central1/models/7970146484492435456', 'modelDisplayName': 'my_custom_model', 'modelVersionId': '1'}\n"
     ]
    }
   ],
   "source": [
    "import requests\n",
    "import pandas as pd\n",
    "import simplejson as json \n",
    "import subprocess\n",
    "\n",
    "def get_gcloud_token():\n",
    "    \"\"\"Fetch the access token using gcloud CLI.\"\"\"\n",
    "    token = subprocess.getoutput(\"gcloud auth print-access-token\")\n",
    "    return token.strip()\n",
    "\n",
    "# Asumiendo que ya tienes data_test cargado\n",
    "sample_data = data_test.iloc[[0,1,2,3,4,5,6,7,8],:].to_dict(orient='records')\n",
    "\n",
    "# Define tus datos de entrada\n",
    "data = {\n",
    "    \"instances\": sample_data\n",
    "}\n",
    "\n",
    "# Serializa tus datos con simplejson\n",
    "data_json = json.dumps(data, ignore_nan=True)\n",
    "\n",
    "# Set the endpoint URL for Vertex AI\n",
    "endpoint_url = \"https://us-central1-aiplatform.googleapis.com/v1/projects/936401695274/locations/us-central1/endpoints/4703202769253695488:predict\"\n",
    "\n",
    "# Fetch the token using gcloud CLI\n",
    "token = get_gcloud_token()\n",
    "\n",
    "# Set headers with the token\n",
    "headers = {\n",
    "    \"Content-Type\": \"application/json\",\n",
    "    \"Authorization\": f\"Bearer {token}\"\n",
    "}\n",
    "\n",
    "# Make the request\n",
    "response = requests.post(endpoint_url, data=data_json, headers=headers)\n",
    "\n",
    "# Asegúrate de que la respuesta es válida\n",
    "if response.status_code == 200:\n",
    "    # Procesa la respuesta\n",
    "    predictions = response.json()\n",
    "    print(predictions)\n",
    "else:\n",
    "    print(f\"Error: {response.status_code}\")\n",
    "    print(response.text)\n"
   ]
  },
  {
   "cell_type": "code",
   "execution_count": null,
   "metadata": {},
   "outputs": [],
   "source": []
  },
  {
   "cell_type": "code",
   "execution_count": 79,
   "metadata": {},
   "outputs": [
    {
     "name": "stdout",
     "output_type": "stream",
     "text": [
      "{'deployedModelId': 'YOUR_DEPLOYED_MODEL_ID', 'predictions': [1, 1, 0, 0, 0, 0, 0, 0, 1]}\n"
     ]
    }
   ],
   "source": [
    "# Probando modelo en local\n",
    "import requests\n",
    "import pandas as pd\n",
    "import simplejson as json \n",
    "\n",
    "# Asumiendo que ya tienes data_test cargado\n",
    "sample_data = data_test.iloc[[0,1,2,3,4,5,6,7,8],:].to_dict(orient='records')\n",
    "\n",
    "# Define tus datos de entrada\n",
    "data = {\n",
    "    \"instances\": sample_data\n",
    "}\n",
    "\n",
    "# Serializa tus datos con simplejson\n",
    "data_json = json.dumps(data, ignore_nan=True)\n",
    "\n",
    "# Hace la solicitud POST usando data en lugar de json\n",
    "headers = {\"Content-Type\": \"application/json\"}\n",
    "endpoint_url = \"http://localhost:8080/predict\"  # Asume que el endpoint es /predict, ajústalo si es diferente\n",
    "response = requests.post(endpoint_url, data=data_json, headers=headers)\n",
    "\n",
    "# Asegúrate de que la respuesta es válida\n",
    "if response.status_code == 200:\n",
    "    # Procesa la respuesta\n",
    "    predictions = response.json()\n",
    "    print(predictions)\n",
    "else:\n",
    "    print(f\"Error: {response.status_code}\")\n",
    "    print(response.text)\n"
   ]
  },
  {
   "cell_type": "code",
   "execution_count": null,
   "metadata": {},
   "outputs": [],
   "source": []
  },
  {
   "cell_type": "code",
   "execution_count": null,
   "metadata": {},
   "outputs": [],
   "source": []
  },
  {
   "cell_type": "code",
   "execution_count": null,
   "metadata": {},
   "outputs": [],
   "source": []
  },
  {
   "cell_type": "code",
   "execution_count": null,
   "metadata": {
    "id": "-wSYX7N7sgNE"
   },
   "outputs": [],
   "source": []
  },
  {
   "cell_type": "code",
   "execution_count": null,
   "metadata": {
    "colab": {
     "base_uri": "https://localhost:8080/"
    },
    "id": "rcGcpGOO9QoX",
    "outputId": "f181820d-f892-4a67-ea03-54dae7ac7966"
   },
   "outputs": [],
   "source": [
    "from sklearn.metrics import accuracy_score, precision_score, recall_score, f1_score\n",
    "print(accuracy_score(data_test['Survived'],transformed_data_test)  )\n",
    "print(precision_score(data_test['Survived'],transformed_data_test) )\n",
    "print(recall_score(data_test['Survived'],transformed_data_test) )\n",
    "print(f1_score(data_test['Survived'],transformed_data_test) )"
   ]
  },
  {
   "cell_type": "code",
   "execution_count": null,
   "metadata": {
    "id": "j5k8XBLKOmfK"
   },
   "outputs": [],
   "source": [
    "ds_send = pd.read_csv(\"./titanic/test.csv\")\n",
    "transformed_data_send = pipeline2.transform(ds_send)"
   ]
  },
  {
   "cell_type": "code",
   "execution_count": null,
   "metadata": {
    "colab": {
     "base_uri": "https://localhost:8080/",
     "height": 81
    },
    "id": "QzzFSoOuPFdD",
    "outputId": "877aa8a7-c19b-41fa-a730-8db8cf6f40dc"
   },
   "outputs": [],
   "source": [
    "ds_send.head(1)"
   ]
  },
  {
   "cell_type": "code",
   "execution_count": null,
   "metadata": {
    "id": "KxGy7n-V2SXL"
   },
   "outputs": [],
   "source": [
    "data_pred = pd.DataFrame(transformed_data_send,columns=[\"Survived\"])\n",
    "data_pred = pd.concat([ds_send[\"PassengerId\"],data_pred],axis=1)\n",
    "data_pred[[\"PassengerId\",\"Survived\"]].to_csv(\"All_clean.csv\",index=False)"
   ]
  },
  {
   "cell_type": "code",
   "execution_count": null,
   "metadata": {
    "colab": {
     "base_uri": "https://localhost:8080/",
     "height": 81
    },
    "id": "dY3AcQLxPQuw",
    "outputId": "cedb89db-723c-4d73-ed1d-7636483dd056"
   },
   "outputs": [],
   "source": [
    "data_pred.head(1)"
   ]
  },
  {
   "cell_type": "code",
   "execution_count": null,
   "metadata": {
    "colab": {
     "base_uri": "https://localhost:8080/",
     "height": 112
    },
    "id": "T-Gxo2PnRAPF",
    "outputId": "aefcba8d-da63-4226-9e71-94bd9a7f5db5"
   },
   "outputs": [],
   "source": [
    "random_forest = pipeline2.named_steps['predict_data_train'].best_model\n",
    "col_  = pipeline2.named_steps['predict_data_train'].columns_\n",
    "\n",
    "importances = pd.DataFrame({'feature':col_,'importance':np.round(random_forest.feature_importances_,3)})\n",
    "importances = importances.sort_values('importance',ascending=False).set_index('feature')\n",
    "importances.head(1)"
   ]
  },
  {
   "cell_type": "code",
   "execution_count": null,
   "metadata": {
    "colab": {
     "base_uri": "https://localhost:8080/",
     "height": 112
    },
    "id": "RzJ1oklxUoQB",
    "outputId": "c80f3a2e-7790-424a-9702-926ded9e4d0f"
   },
   "outputs": [],
   "source": [
    "importances.tail(1)"
   ]
  },
  {
   "cell_type": "code",
   "execution_count": null,
   "metadata": {
    "id": "QX4MovxfXTxm"
   },
   "outputs": [],
   "source": [
    "%%bash\n",
    "# Variables\n",
    "MODEL_NAME=\"your_model_name\" # Cambia a un nombre deseado para tu modelo\n",
    "MODEL_VERSION=\"v1\" # Puedes cambiar esto según lo necesites\n",
    "PIPELINE_LOCATION=\"gs://pipeline/2023-09-21/09:23:54.pkl\" # Ubicación de tu pipeline\n",
    "REGION=\"us-central1\" # Cambia según tu preferencia\n",
    "\n",
    "# Crear el modelo en AI Platform\n",
    "gcloud ai-platform models create ${MODEL_NAME} --regions ${REGION}\n",
    "\n",
    "# Desplegar la versión del pipeline\n",
    "gcloud ai-platform versions create ${MODEL_VERSION} \\\n",
    "    --model=${MODEL_NAME} \\\n",
    "    --origin=${PIPELINE_LOCATION} \\\n",
    "    --runtime-version=2.1 \\\n",
    "    --python-version=3.7\n"
   ]
  },
  {
   "cell_type": "code",
   "execution_count": null,
   "metadata": {
    "id": "av4MGgv4XT1j"
   },
   "outputs": [],
   "source": [
    "from oauth2client.client import GoogleCredentials\n",
    "import requests\n",
    "import json\n",
    "\n",
    "MODEL_NAME = \"your_model_name\"\n",
    "MODEL_VERSION = \"v1\"\n",
    "PROJECT = \"your_project_id\" # Asegúrate de especificar tu ID de proyecto de GCP\n",
    "\n",
    "token = GoogleCredentials.get_application_default().get_access_token().access_token\n",
    "api = \"https://ml.googleapis.com/v1/projects/{}/models/{}/versions/{}:predict\" \\\n",
    "         .format(PROJECT, MODEL_NAME, MODEL_VERSION)\n",
    "headers = {\"Authorization\": \"Bearer \" + token }\n",
    "data = {\n",
    "  \"instances\": [\n",
    "    # Tus instancias aquí\n",
    "  ]\n",
    "}\n",
    "response = requests.post(api, json=data, headers=headers)\n",
    "print(response.content)\n"
   ]
  },
  {
   "cell_type": "code",
   "execution_count": null,
   "metadata": {
    "colab": {
     "base_uri": "https://localhost:8080/",
     "height": 175
    },
    "id": "Mm0QEO6VDw-L",
    "outputId": "2fa5cdc1-db1f-4500-fe22-7c10b165593c"
   },
   "outputs": [],
   "source": [
    "pipeline2"
   ]
  },
  {
   "cell_type": "code",
   "execution_count": null,
   "metadata": {
    "id": "3494XjtxDxCf"
   },
   "outputs": [],
   "source": [
    "pipeline2"
   ]
  },
  {
   "cell_type": "markdown",
   "metadata": {
    "id": "iLsOBZChPTOx"
   },
   "source": [
    "# FINISH HIM"
   ]
  },
  {
   "cell_type": "code",
   "execution_count": null,
   "metadata": {
    "id": "pG4IMrrynL2N"
   },
   "outputs": [],
   "source": [
    "idx_age = transformed_data_train.columns.get_loc(\"AGE\")\n",
    "idx_age_ = transformed_data_test.columns.get_loc(\"AGE\")\n",
    "# Seleccionar todas las columnas desde \"AGE\" en adelante\n",
    "x_train_, y_train_ = transformed_data_train.iloc[:,idx_age:],transformed_data_train.iloc[:,1]\n",
    "x_test_,  y_test_  = transformed_data_test.iloc[:,idx_age_:],transformed_data_test.iloc[:,1]\n",
    "x_train, x_test, y_train, y_test = x_train_, x_test_,  y_train_, y_test_"
   ]
  },
  {
   "cell_type": "markdown",
   "metadata": {
    "id": "59tNLVmNqd5B"
   },
   "source": [
    "Empezamos a buscar el mejor modelo"
   ]
  },
  {
   "cell_type": "code",
   "execution_count": null,
   "metadata": {
    "id": "2N2yu-66p1iU"
   },
   "outputs": [],
   "source": [
    "from sklearn.linear_model import LogisticRegression\n",
    "\n",
    "# Inicializar y entrenar el modelo\n",
    "logistic_model = LogisticRegression(max_iter=900)\n",
    "logistic_model.fit(x_train_, y_train_)\n",
    "\n",
    "# Hacer predicciones en el conjunto de test\n",
    "y_pred_logistic = logistic_model.predict(x_test_)\n"
   ]
  },
  {
   "cell_type": "code",
   "execution_count": null,
   "metadata": {
    "colab": {
     "base_uri": "https://localhost:8080/"
    },
    "id": "pICNfTGbvsHe",
    "outputId": "ef79cf8b-e1ae-41d3-d371-c895c2eb0f75"
   },
   "outputs": [],
   "source": [
    "from sklearn.model_selection import GridSearchCV\n",
    "from sklearn.ensemble import RandomForestClassifier\n",
    "from sklearn.metrics import accuracy_score, precision_score, recall_score, f1_score\n",
    "\n",
    "param_grid = {\n",
    "    'n_estimators': [100, 200, 300],\n",
    "    'max_depth': [None, 10, 20],\n",
    "    'min_samples_split': [2, 5, 10],\n",
    "    'min_samples_leaf': [1, 2, 4]\n",
    "}\n",
    "\n",
    "grid_search = GridSearchCV(RandomForestClassifier(), param_grid, cv=5, scoring='accuracy')\n",
    "grid_search.fit(x_train, y_train)\n",
    "\n",
    "best_params = grid_search.best_params_\n",
    "best_model = grid_search.best_estimator_\n",
    "\n",
    "y_pred = best_model.predict(x_test)\n",
    "\n",
    "# Evalúa el mejor modelo\n",
    "accuracy = accuracy_score(y_test, y_pred)\n",
    "precision = precision_score(y_test, y_pred)\n",
    "recall = recall_score(y_test, y_pred)\n",
    "f1 = f1_score(y_test, y_pred)\n",
    "\n",
    "print(\"Mejores hiperparámetros:\", best_params)\n",
    "print(\"Accuracy:\", accuracy)\n",
    "print(\"Precision:\", precision)\n",
    "print(\"Recall:\", recall)\n",
    "print(\"F1 Score:\", f1)\n"
   ]
  },
  {
   "cell_type": "code",
   "execution_count": null,
   "metadata": {
    "id": "dh4n-V7mvQIW"
   },
   "outputs": [],
   "source": [
    "from sklearn.tree import DecisionTreeClassifier\n",
    "\n",
    "# Inicializar y entrenar el modelo\n",
    "tree_model = DecisionTreeClassifier()\n",
    "tree_model.fit(x_train_, y_train_)\n",
    "\n",
    "# Hacer predicciones en el conjunto de test\n",
    "y_pred_tree = tree_model.predict(x_test_)\n"
   ]
  },
  {
   "cell_type": "code",
   "execution_count": null,
   "metadata": {
    "colab": {
     "base_uri": "https://localhost:8080/"
    },
    "id": "CGFtzgPvvT9D",
    "outputId": "3765a00f-6f3d-48e2-8832-7283322b10cd"
   },
   "outputs": [],
   "source": [
    "import tensorflow as tf\n",
    "from tensorflow.keras.models import Sequential\n",
    "from tensorflow.keras.layers import Dense\n",
    "from tensorflow.keras.callbacks import ModelCheckpoint\n",
    "from sklearn.metrics import accuracy_score, precision_score, recall_score, f1_score, roc_auc_score\n",
    "from tensorflow.keras.layers import Input, Dense, Add\n",
    "from tensorflow.keras.models import Model\n",
    "\n",
    "\n",
    "initial_learning_rate = 0.3\n",
    "lr_schedule = tf.keras.optimizers.schedules.ExponentialDecay(\n",
    "    initial_learning_rate,\n",
    "    decay_steps=1000,   # Es el número de pasos en los que deseas reducir el learning rate\n",
    "    decay_rate=0.003,    # Es la tasa de decaimiento\n",
    "    staircase=True      # Si es True, la tasa de aprendizaje disminuye a intervalos discretos y, si es False, se reduce de manera continua.\n",
    ")\n",
    "optimizer = tf.keras.optimizers.Adam(learning_rate=lr_schedule)\n",
    "\n",
    "# Construir el modelo\n",
    "input_data = Input(shape=(x_train_.shape[1],))\n",
    "# Capa 1\n",
    "x1 = Dense(38, activation='tanh')(input_data)\n",
    "# Capa 2 con conexión residual desde la entrada\n",
    "x2 = Dense(10, activation='elu')(x1)\n",
    "x2 = Dense(10, activation='elu')(x2)\n",
    "x2 = Dense(10, activation='elu')(x2)\n",
    "residual_2 = Dense(10, activation='linear', use_bias=False)(input_data)  # Transformación de la dimensión\n",
    "x2 = Add()([x2, residual_2])\n",
    "# Capa 3 con conexión residual desde la entrada\n",
    "x3 = Dense(48, activation='relu')(x2)\n",
    "residual_3 = Dense(48, activation='linear', use_bias=False)(input_data)  # Transformación de la dimensión\n",
    "x3 = Add()([x3, residual_3])\n",
    "# Capa de salida\n",
    "\n",
    "output = Dense(1, activation='sigmoid')(x3)\n",
    "neural_model = Model(inputs=input_data, outputs=output)\n",
    "\n",
    "\n",
    "# Métricas adicionales\n",
    "metrics = [\n",
    "    tf.keras.metrics.BinaryAccuracy(name='accuracy'),\n",
    "    tf.keras.metrics.Precision(name='precision'),\n",
    "    tf.keras.metrics.Recall(name='recall'),\n",
    "    tf.keras.metrics.AUC(name='auc')\n",
    "]\n",
    "\n",
    "# Compilar el modelo\n",
    "neural_model.compile(optimizer=optimizer, loss='binary_crossentropy', metrics=metrics)\n",
    "\n",
    "# Callback para guardar el mejor modelo\n",
    "checkpoint = ModelCheckpoint('best_model.h5', monitor='val_accuracy', mode='max', verbose=1, save_best_only=True)\n",
    "\n",
    "\n",
    "total = 432 + 281\n",
    "weight_for_0 = total / (2 * 432)\n",
    "weight_for_1 = total / (2 * 281)\n",
    "class_weights = {0: weight_for_0, 1: weight_for_1}\n",
    "\n",
    "# Entrenar el modelo\n",
    "neural_model.fit(x_train_, y_train_, epochs=100, batch_size=8, validation_data=(x_test_, y_test_), callbacks=[checkpoint],class_weight=class_weights)\n",
    "\n",
    "\n",
    "\n",
    "# Hacer predicciones en el conjunto de test\n",
    "y_pred_neural = (neural_model.predict(x_test_) > 0.5).astype(\"int32\")\n",
    "\n",
    "# Calcula el F1-Score\n",
    "f1 = f1_score(y_test_, y_pred_neural)\n",
    "print(f\"F1-Score: {f1}\")\n",
    "\n",
    "# Si deseas, puedes calcular las métricas adicionales de sklearn, como precisión, recall, AUC, etc., y mostrarlas.\n"
   ]
  },
  {
   "cell_type": "code",
   "execution_count": null,
   "metadata": {
    "id": "3_p8_rlkvUQy"
   },
   "outputs": [],
   "source": [
    "from sklearn.ensemble import AdaBoostClassifier\n",
    "from sklearn.tree import DecisionTreeClassifier\n",
    "\n",
    "# Definir el modelo base (un árbol de decisión)\n",
    "base_model = DecisionTreeClassifier(max_depth=100)\n",
    "\n",
    "# Crear el modelo AdaBoost\n",
    "ada_model = AdaBoostClassifier(estimator=base_model, n_estimators=100)\n",
    "\n",
    "# Entrenar el modelo\n",
    "ada_model.fit(x_train_, y_train_)\n",
    "\n",
    "# Hacer predicciones\n",
    "y_pred_adaboost = ada_model.predict(x_test_)\n"
   ]
  },
  {
   "cell_type": "code",
   "execution_count": null,
   "metadata": {
    "id": "cwl6J-Sph5Jk"
   },
   "outputs": [],
   "source": [
    "import xgboost as xgb\n",
    "from sklearn.metrics import accuracy_score, precision_score, recall_score, f1_score\n",
    "from sklearn.preprocessing import StandardScaler\n",
    "from sklearn.pipeline import make_pipeline\n",
    "from sklearn.ensemble import VotingClassifier, RandomForestClassifier, GradientBoostingClassifier\n",
    "from sklearn.linear_model import LogisticRegression\n",
    "from sklearn.svm import SVC\n",
    "from sklearn.tree import DecisionTreeClassifier\n",
    "\n",
    "# Preprocesamiento\n",
    "scaler = StandardScaler()\n",
    "x_train_scaled = x_train_\n",
    "x_test_scaled = x_test_\n",
    "\n",
    "# Crear varios modelos con hiperparámetros iniciales\n",
    "log_clf = make_pipeline(StandardScaler(), LogisticRegression(max_iter=1000, C=0.1, solver='lbfgs'))\n",
    "svm_clf = make_pipeline(StandardScaler(), SVC(probability=True, C=0.1, kernel='rbf', gamma='scale'))\n",
    "xgb_clf = xgb.XGBClassifier(n_estimators=50, learning_rate=0.3, max_depth=5)\n",
    "rf_clf = RandomForestClassifier(n_estimators=50, max_depth=None, min_samples_split=25)\n",
    "dt_clf = DecisionTreeClassifier(max_depth=None, min_samples_split=15)\n",
    "\n",
    "# Ensemble de votación\n",
    "voting_clf = VotingClassifier(estimators=[\n",
    "    ('lr', log_clf),\n",
    "    ('svm', svm_clf),\n",
    "    ('xgb', xgb_clf),\n",
    "    ('rf', rf_clf),\n",
    "    ('dt', dt_clf)\n",
    "], voting='soft')  # soft voting\n",
    "\n",
    "# Entrenamiento del ensemble\n",
    "voting_clf.fit(x_train_scaled, y_train_)\n",
    "\n",
    "# Predicciones\n",
    "y_pred_voting = voting_clf.predict(x_test_scaled)\n",
    "\n",
    "# Métrica"
   ]
  },
  {
   "cell_type": "code",
   "execution_count": null,
   "metadata": {
    "colab": {
     "base_uri": "https://localhost:8080/"
    },
    "id": "g5AQxT1BvULw",
    "outputId": "a8c6d07f-e48c-494f-a2e6-337bb811b92c"
   },
   "outputs": [],
   "source": [
    "from sklearn.metrics import precision_score, recall_score, f1_score\n",
    "\n",
    "# Precisión\n",
    "precision_logistic = precision_score(y_test_, y_pred_logistic)\n",
    "precision_tree = precision_score(y_test_, y_pred_tree)\n",
    "precision_neural = precision_score(y_test_, y_pred_neural)\n",
    "precision_adaboost = precision_score(y_test_, y_pred_adaboost)\n",
    "\n",
    "# Recall\n",
    "recall_logistic = recall_score(y_test_, y_pred_logistic)\n",
    "recall_tree = recall_score(y_test_, y_pred_tree)\n",
    "recall_neural = recall_score(y_test_, y_pred_neural)\n",
    "recall_adaboost = recall_score(y_test_, y_pred_adaboost)\n",
    "\n",
    "# F1-Score\n",
    "f1_logistic = f1_score(y_test_, y_pred_logistic)\n",
    "f1_tree = f1_score(y_test_, y_pred_tree)\n",
    "f1_neural = f1_score(y_test_, y_pred_neural)\n",
    "f1_adaboost = f1_score(y_test_, y_pred_adaboost)\n",
    "\n",
    "print(\"Accuracy LOG:\", accuracy_score(y_test_, y_pred_logistic))\n",
    "print(\"Precision de la Regresión Logística:\", precision_logistic)\n",
    "print(\"Recall de la Regresión Logística:\", recall_logistic)\n",
    "print(\"F1-score de la Regresión Logística:\", f1_logistic)\n",
    "print(\"\\n\")\n",
    "print(\"Precision del Árbol de Decisión:\", precision_tree)\n",
    "print(\"Recall del Árbol de Decisión:\", recall_tree)\n",
    "print(\"F1-score del Árbol de Decisión:\", f1_tree)\n",
    "print(\"\\n\")\n",
    "print(\"Precision de la Red Neuronal:\", precision_neural)\n",
    "print(\"Recall de la Red Neuronal:\", recall_neural)\n",
    "print(\"F1-score de la Red Neuronal:\", f1_neural)\n",
    "print(\"\\n\")\n",
    "print(\"Precision de AdaBoost:\", precision_adaboost)\n",
    "print(\"Recall de AdaBoost:\", recall_adaboost)\n",
    "print(\"F1-score de AdaBoost:\", f1_adaboost)\n",
    "print(\"\\n\")\n",
    "print(\"Precision voting:\", precision_score(y_test_, y_pred_voting))\n",
    "print(\"Recall voting:\", recall_score(y_test_, y_pred_voting))\n",
    "print(\"F1 Score voting:\", f1_score(y_test_, y_pred_voting))\n"
   ]
  },
  {
   "cell_type": "code",
   "execution_count": null,
   "metadata": {
    "id": "y_0OTgUMkOYa"
   },
   "outputs": [],
   "source": [
    "fem = pd.read_csv(\"./titanic/gender_submission.csv\")\n",
    "#Score: 0.76555"
   ]
  },
  {
   "cell_type": "code",
   "execution_count": null,
   "metadata": {
    "colab": {
     "base_uri": "https://localhost:8080/"
    },
    "id": "ff4PMjgPkEaA",
    "outputId": "16ff653c-ade8-4c3a-c229-9c5d994d594d"
   },
   "outputs": [],
   "source": [
    "print(\"\\n\")\n",
    "print(\"Accuracy voting:\", accuracy_score(y_test_, y_pred_voting))\n",
    "print(\"Precision voting:\", precision_score(y_test_, y_pred_voting))\n",
    "print(\"Recall voting:\", recall_score(y_test_, y_pred_voting))\n",
    "print(\"F1 Score voting:\", f1_score(y_test_, y_pred_voting))"
   ]
  },
  {
   "cell_type": "code",
   "execution_count": null,
   "metadata": {
    "colab": {
     "base_uri": "https://localhost:8080/"
    },
    "id": "Cg2UZ3hzg9fE",
    "outputId": "01d18732-4a9b-4128-adcb-e92089f28328"
   },
   "outputs": [],
   "source": [
    "y_pred_voting = voting_clf.predict(x_test_scaled)\n",
    "f1_score(y_test_, y_pred_voting)"
   ]
  },
  {
   "cell_type": "code",
   "execution_count": null,
   "metadata": {
    "colab": {
     "base_uri": "https://localhost:8080/",
     "height": 81
    },
    "id": "MoO2D2H6yist",
    "outputId": "0a42026a-5a9a-4ce8-8411-6a7923226588"
   },
   "outputs": [],
   "source": [
    "ds_send = pd.read_csv(\"./titanic/test.csv\")\n",
    "ds_send.head(1)"
   ]
  },
  {
   "cell_type": "code",
   "execution_count": null,
   "metadata": {
    "colab": {
     "base_uri": "https://localhost:8080/",
     "height": 130
    },
    "id": "vXEOvx-3zceA",
    "outputId": "d9c81f73-2194-4739-e243-33275e2f94fe"
   },
   "outputs": [],
   "source": [
    "d_t_clean = pipeline.transform(ds_send)\n",
    "d_t_clean.iloc[:1,15:]"
   ]
  },
  {
   "cell_type": "code",
   "execution_count": null,
   "metadata": {
    "id": "j8Ooe2VGfeI2"
   },
   "outputs": [],
   "source": [
    "x__ = d_t_clean.iloc[:,15:]"
   ]
  },
  {
   "cell_type": "markdown",
   "metadata": {
    "id": "ociSn-GNlpNE"
   },
   "source": [
    "Dado que el modelo logistico fue el que tuvo mayor"
   ]
  },
  {
   "cell_type": "code",
   "execution_count": null,
   "metadata": {
    "colab": {
     "base_uri": "https://localhost:8080/"
    },
    "id": "LIK8gPsujQsQ",
    "outputId": "a447d7d7-f4c4-4a4c-ab0b-d39829ccb5d7"
   },
   "outputs": [],
   "source": [
    "y0 = logistic_model.predict(x__)\n",
    "y1 = tree_model.predict(x__)\n",
    "y2 = neural_model.predict(x__).reshape(-1,)\n",
    "y3 = ada_model.predict(x__)\n",
    "y4 = voting_clf.predict(x__)\n",
    "y5 = best_model.predict(x__)\n",
    "\n",
    "f1_logistic = f1_score(y_test_, y_pred_logistic)\n",
    "f1_tree = f1_score(y_test_, y_pred_tree)\n",
    "f1_neural = f1_score(y_test_, y_pred_neural)\n",
    "f1_adaboost = f1_score(y_test_, y_pred_adaboost)\n",
    "f1_voting_clf = f1_score(y_test_, y_pred_voting)\n",
    "\n",
    "# Calcular la predicción final ponderada\n",
    "y_final = (f1_logistic * y0 + f1_tree * y1 + f1_neural * y2 + f1_adaboost * y3 + f1_voting_clf * y4) / (f1_logistic + f1_tree + f1_neural + f1_adaboost + f1_voting_clf)\n",
    "\n",
    "# Convertir la predicción final a valores binarios\n",
    "y_final_binary = np.round(y_final).astype(int)\n"
   ]
  },
  {
   "cell_type": "code",
   "execution_count": null,
   "metadata": {
    "id": "oUADxvjBRSZJ"
   },
   "outputs": [],
   "source": [
    "data_pred = pd.DataFrame(y5,columns=[\"Survived\"])\n",
    "data_pred = pd.concat([d_t_clean[\"PassengerId\"],data_pred],axis=1)"
   ]
  },
  {
   "cell_type": "code",
   "execution_count": null,
   "metadata": {
    "id": "jMuC9RlwRhEE"
   },
   "outputs": [],
   "source": [
    "data_pred[[\"PassengerId\",\"Survived\"]].to_csv(\"RandFor.csv\",index=False)\n",
    "#Obtuvimos un Score: 0.77511\n",
    "#Intentaremos mejorar esa puntuacion con ingenieria de funciones despues."
   ]
  },
  {
   "cell_type": "markdown",
   "metadata": {
    "id": "zeds7o1KhWyO"
   },
   "source": [
    "Despliegue del modelo, usaremos 2 formas, una es cargar los pesos del modelo y descargarlos remotamente y subirlo a un endpoint."
   ]
  },
  {
   "cell_type": "code",
   "execution_count": null,
   "metadata": {
    "colab": {
     "base_uri": "https://localhost:8080/"
    },
    "id": "FUCoYmXYS5fv",
    "outputId": "57691e0e-ea2f-4e89-a5cb-09d3ba50a19b"
   },
   "outputs": [],
   "source": [
    "from joblib import dump, load\n",
    "dump(logistic_model, 'logistic_model.joblib')"
   ]
  },
  {
   "cell_type": "markdown",
   "metadata": {
    "id": "sgSKZjALifMC"
   },
   "source": [
    "Ahora podemos subir y guardar el modelo en google cloud y acceder a el despues"
   ]
  },
  {
   "cell_type": "code",
   "execution_count": null,
   "metadata": {
    "id": "FApcCBAwieku"
   },
   "outputs": [],
   "source": [
    "#!gsutil mb gs://mi_bucket\n",
    "#!gsutil cp logistic_model.joblib gs://mi_bucket"
   ]
  },
  {
   "cell_type": "code",
   "execution_count": null,
   "metadata": {
    "id": "pFw_eRLRiSZn"
   },
   "outputs": [],
   "source": [
    "#!gsutil cp gs://mi_bucket/logistic_model.joblib .\n",
    "#CArga del modelo\n",
    "#loaded_model = load('logistic_model.joblib')\n",
    "#predictions = loaded_model.predict(some_new_data)"
   ]
  },
  {
   "cell_type": "markdown",
   "metadata": {
    "id": "TSarenWGjTKh"
   },
   "source": [
    "Desplegar el modelo en un endpoint"
   ]
  },
  {
   "cell_type": "code",
   "execution_count": null,
   "metadata": {
    "id": "_YQVAfwmBbmC"
   },
   "outputs": [],
   "source": [
    "pipeline = Pipeline([\n",
    "    ('data_preparation', DataSetPreparation()),\n",
    "    ('feature_engineering', feature_engineer()),\n",
    "])"
   ]
  }
 ],
 "metadata": {
  "accelerator": "GPU",
  "colab": {
   "gpuType": "T4",
   "provenance": []
  },
  "kernelspec": {
   "display_name": "env2",
   "language": "python",
   "name": "env2"
  },
  "language_info": {
   "codemirror_mode": {
    "name": "ipython",
    "version": 3
   },
   "file_extension": ".py",
   "mimetype": "text/x-python",
   "name": "python",
   "nbconvert_exporter": "python",
   "pygments_lexer": "ipython3",
   "version": "3.9.2"
  }
 },
 "nbformat": 4,
 "nbformat_minor": 1
}
